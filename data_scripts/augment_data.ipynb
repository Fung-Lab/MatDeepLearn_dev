{
 "cells": [
  {
   "cell_type": "code",
   "execution_count": 1,
   "metadata": {},
   "outputs": [
    {
     "name": "stdout",
     "output_type": "stream",
     "text": [
      "Sat Aug  3 10:17:38 2024       \n",
      "+---------------------------------------------------------------------------------------+\n",
      "| NVIDIA-SMI 530.30.02              Driver Version: 530.30.02    CUDA Version: 12.1     |\n",
      "|-----------------------------------------+----------------------+----------------------+\n",
      "| GPU  Name                  Persistence-M| Bus-Id        Disp.A | Volatile Uncorr. ECC |\n",
      "| Fan  Temp  Perf            Pwr:Usage/Cap|         Memory-Usage | GPU-Util  Compute M. |\n",
      "|                                         |                      |               MIG M. |\n",
      "|=========================================+======================+======================|\n",
      "|   0  NVIDIA A40                      On | 00000000:01:00.0 Off |                    0 |\n",
      "|  0%   84C    P0              184W / 300W|  40334MiB / 46068MiB |    100%      Default |\n",
      "|                                         |                      |                  N/A |\n",
      "+-----------------------------------------+----------------------+----------------------+\n",
      "|   1  NVIDIA A40                      On | 00000000:25:00.0 Off |                    0 |\n",
      "|  0%   87C    P0              329W / 300W|  32884MiB / 46068MiB |     89%      Default |\n",
      "|                                         |                      |                  N/A |\n",
      "+-----------------------------------------+----------------------+----------------------+\n",
      "|   2  NVIDIA A40                      On | 00000000:41:00.0 Off |                    0 |\n",
      "|  0%   84C    P0              284W / 300W|  35456MiB / 46068MiB |     85%      Default |\n",
      "|                                         |                      |                  N/A |\n",
      "+-----------------------------------------+----------------------+----------------------+\n",
      "|   3  NVIDIA A40                      On | 00000000:61:00.0 Off |                    0 |\n",
      "|  0%   80C    P0              291W / 300W|  44104MiB / 46068MiB |     82%      Default |\n",
      "|                                         |                      |                  N/A |\n",
      "+-----------------------------------------+----------------------+----------------------+\n",
      "|   4  NVIDIA A40                      On | 00000000:81:00.0 Off |                    0 |\n",
      "|  0%   79C    P0              239W / 300W|  45202MiB / 46068MiB |     84%      Default |\n",
      "|                                         |                      |                  N/A |\n",
      "+-----------------------------------------+----------------------+----------------------+\n",
      "|   5  NVIDIA A40                      On | 00000000:A1:00.0 Off |                    0 |\n",
      "|  0%   75C    P0              277W / 300W|  40350MiB / 46068MiB |     87%      Default |\n",
      "|                                         |                      |                  N/A |\n",
      "+-----------------------------------------+----------------------+----------------------+\n",
      "|   6  NVIDIA A40                      On | 00000000:C1:00.0 Off |                    0 |\n",
      "|  0%   86C    P0              294W / 300W|  34696MiB / 46068MiB |    100%      Default |\n",
      "|                                         |                      |                  N/A |\n",
      "+-----------------------------------------+----------------------+----------------------+\n",
      "|   7  NVIDIA A40                      On | 00000000:E1:00.0 Off |                    0 |\n",
      "|  0%   76C    P0              277W / 300W|  34132MiB / 46068MiB |     84%      Default |\n",
      "|                                         |                      |                  N/A |\n",
      "+-----------------------------------------+----------------------+----------------------+\n",
      "                                                                                         \n",
      "+---------------------------------------------------------------------------------------+\n",
      "| Processes:                                                                            |\n",
      "|  GPU   GI   CI        PID   Type   Process name                            GPU Memory |\n",
      "|        ID   ID                                                             Usage      |\n",
      "|=======================================================================================|\n",
      "|    0   N/A  N/A    707125      C   python                                    40332MiB |\n",
      "|    1   N/A  N/A    618820      C   python                                    32882MiB |\n",
      "|    2   N/A  N/A    236915      C   ...miniforge3/envs/jmp-peft/bin/python    35454MiB |\n",
      "|    3   N/A  N/A    237612      C   ...miniforge3/envs/jmp-peft/bin/python    44102MiB |\n",
      "|    4   N/A  N/A    237613      C   ...miniforge3/envs/jmp-peft/bin/python    45200MiB |\n",
      "|    5   N/A  N/A    739653      C   python                                    40348MiB |\n",
      "|    6   N/A  N/A     97479      C   python                                    34694MiB |\n",
      "|    7   N/A  N/A    237614      C   ...miniforge3/envs/jmp-peft/bin/python    34130MiB |\n",
      "+---------------------------------------------------------------------------------------+\n"
     ]
    }
   ],
   "source": [
    "!nvidia-smi"
   ]
  },
  {
   "cell_type": "code",
   "execution_count": 2,
   "metadata": {},
   "outputs": [],
   "source": [
    "original_data_path = '../data/mp_forces/data.json' # path to raw data\n",
    "calculator_path = '../configs/calculator/config_morse.yml' # path to calculator config\n",
    "rank = 5 # device Nr.\n",
    "batch_size = 16\n",
    "save_dir = '../data/mp_0.15_0.75_5_aug' # path to save augmented data\n",
    "perturb_strength = [0.15, 0.3, 0.45, 0.6, 0.75] # perturbation strength\n",
    "task = \"simulation\" # optimization doesn't need labels\n",
    "n_round_augmentation = len(perturb_strength)\n",
    "calculated_properties = ('energy', 'forces', 'stress')"
   ]
  },
  {
   "cell_type": "code",
   "execution_count": 3,
   "metadata": {},
   "outputs": [
    {
     "data": {
      "text/plain": [
       "187687"
      ]
     },
     "execution_count": 3,
     "metadata": {},
     "output_type": "execute_result"
    }
   ],
   "source": [
    "import json\n",
    "\n",
    "with open(original_data_path, 'r') as f:\n",
    "    data = json.load(f)\n",
    "    \n",
    "len(data)"
   ]
  },
  {
   "cell_type": "code",
   "execution_count": 4,
   "metadata": {},
   "outputs": [],
   "source": [
    "import numpy as np\n",
    "\n",
    "structures = [{key: np.array(val) if isinstance(val, list) else val for key, val in dt.items()} for dt in data]"
   ]
  },
  {
   "cell_type": "code",
   "execution_count": 5,
   "metadata": {},
   "outputs": [
    {
     "data": {
      "text/plain": [
       "(5625046,)"
      ]
     },
     "execution_count": 5,
     "metadata": {},
     "output_type": "execute_result"
    }
   ],
   "source": [
    "orig_forces = np.concatenate([structure['forces'] for structure in structures])\n",
    "force_magnitude = np.linalg.norm(orig_forces, axis=1)\n",
    "force_magnitude.shape"
   ]
  },
  {
   "cell_type": "code",
   "execution_count": 6,
   "metadata": {},
   "outputs": [
    {
     "data": {
      "image/png": "[encoded data removed]",
      "text/plain": [
       "<Figure size 640x480 with 1 Axes>"
      ]
     },
     "metadata": {},
     "output_type": "display_data"
    }
   ],
   "source": [
    "import matplotlib.pyplot as plt\n",
    "\n",
    "plt.hist(force_magnitude, bins=1000)\n",
    "plt.title(f\"Mean: {np.mean(force_magnitude):.2f}, Std: {np.std(force_magnitude):.2f}, Max: {np.max(force_magnitude):.2f}\")\n",
    "plt.xlim(left=0, right=100)\n",
    "plt.ylim(bottom=0, top=6*10e5)\n",
    "plt.show();"
   ]
  },
  {
   "cell_type": "code",
   "execution_count": 7,
   "metadata": {},
   "outputs": [],
   "source": [
    "import numpy as np\n",
    "\n",
    "def perturb_positions(pos, distance):\n",
    "    random_vectors = np.random.randn(pos.shape[0], 3)\n",
    "    random_vectors /= np.linalg.norm(random_vectors, axis=1, keepdims=True)\n",
    "    perturbation_distances = np.full((pos.shape[0],), distance)\n",
    "    return pos + perturbation_distances.reshape(-1, 1) * random_vectors"
   ]
  },
  {
   "cell_type": "code",
   "execution_count": 8,
   "metadata": {},
   "outputs": [
    {
     "data": {
      "text/plain": [
       "938435"
      ]
     },
     "execution_count": 8,
     "metadata": {},
     "output_type": "execute_result"
    }
   ],
   "source": [
    "from itertools import chain\n",
    "\n",
    "augmented_structure_list = [list() for _ in range(n_round_augmentation)]\n",
    "\n",
    "for i in range(n_round_augmentation):\n",
    "    for s in structures:\n",
    "        aug = s.copy()\n",
    "        aug['positions'] = perturb_positions(s['positions'], perturb_strength[i])\n",
    "        augmented_structure_list[i].append(aug)\n",
    "        \n",
    "augmented_structures = list(chain.from_iterable(augmented_structure_list))\n",
    "len(augmented_structures)"
   ]
  },
  {
   "cell_type": "code",
   "execution_count": 9,
   "metadata": {},
   "outputs": [],
   "source": [
    "# For optimization\n",
    "structure_to_write = []\n",
    "if task == 'optim':\n",
    "    for s in augmented_structures:\n",
    "        structure_to_write.append({\n",
    "            'structure_id': s['structure_id'],\n",
    "            'positions': s['positions'].tolist(),\n",
    "            'cell': s['cell'].tolist(),\n",
    "            'atomic_numbers': s['atomic_numbers'].tolist()\n",
    "        })\n",
    "    json.dump(structure_to_write, open(f'{save_dir}/data.json', 'w'))\n",
    "    "
   ]
  },
  {
   "cell_type": "code",
   "execution_count": 10,
   "metadata": {},
   "outputs": [],
   "source": [
    "from typing import List\n",
    "from ase import Atoms\n",
    "\n",
    "if task != \"optim\":\n",
    "    atoms_list: List[Atoms] = [\n",
    "        Atoms(\n",
    "            symbols=s['atomic_numbers'],\n",
    "            positions=s['positions'],\n",
    "            cell=s['cell']\n",
    "        )\n",
    "        for s in augmented_structures\n",
    "    ]"
   ]
  },
  {
   "cell_type": "code",
   "execution_count": 11,
   "metadata": {},
   "outputs": [
    {
     "name": "stderr",
     "output_type": "stream",
     "text": [
      "\n",
      "A module that was compiled using NumPy 1.x cannot be run in\n",
      "NumPy 2.0.1 as it may crash. To support both 1.x and 2.x\n",
      "versions of NumPy, modules must be compiled with NumPy 2.0.\n",
      "Some module may need to rebuild instead e.g. with 'pybind11>=2.12'.\n",
      "\n",
      "If you are a user of the module, the easiest solution will be to\n",
      "downgrade to 'numpy<2' or try to upgrade the affected module.\n",
      "We expect that some modules will need time to support NumPy 2.\n",
      "\n",
      "Traceback (most recent call last):  File \"/nethome/qzheng75/miniconda3/envs/md_env/lib/python3.9/runpy.py\", line 197, in _run_module_as_main\n",
      "    return _run_code(code, main_globals, None,\n",
      "  File \"/nethome/qzheng75/miniconda3/envs/md_env/lib/python3.9/runpy.py\", line 87, in _run_code\n",
      "    exec(code, run_globals)\n",
      "  File \"/nethome/qzheng75/miniconda3/envs/md_env/lib/python3.9/site-packages/ipykernel_launcher.py\", line 18, in <module>\n",
      "    app.launch_new_instance()\n",
      "  File \"/nethome/qzheng75/miniconda3/envs/md_env/lib/python3.9/site-packages/traitlets/config/application.py\", line 1075, in launch_instance\n",
      "    app.start()\n",
      "  File \"/nethome/qzheng75/miniconda3/envs/md_env/lib/python3.9/site-packages/ipykernel/kernelapp.py\", line 739, in start\n",
      "    self.io_loop.start()\n",
      "  File \"/nethome/qzheng75/miniconda3/envs/md_env/lib/python3.9/site-packages/tornado/platform/asyncio.py\", line 205, in start\n",
      "    self.asyncio_loop.run_forever()\n",
      "  File \"/nethome/qzheng75/miniconda3/envs/md_env/lib/python3.9/asyncio/base_events.py\", line 601, in run_forever\n",
      "    self._run_once()\n",
      "  File \"/nethome/qzheng75/miniconda3/envs/md_env/lib/python3.9/asyncio/base_events.py\", line 1905, in _run_once\n",
      "    handle._run()\n",
      "  File \"/nethome/qzheng75/miniconda3/envs/md_env/lib/python3.9/asyncio/events.py\", line 80, in _run\n",
      "    self._context.run(self._callback, *self._args)\n",
      "  File \"/nethome/qzheng75/miniconda3/envs/md_env/lib/python3.9/site-packages/ipykernel/kernelbase.py\", line 545, in dispatch_queue\n",
      "    await self.process_one()\n",
      "  File \"/nethome/qzheng75/miniconda3/envs/md_env/lib/python3.9/site-packages/ipykernel/kernelbase.py\", line 534, in process_one\n",
      "    await dispatch(*args)\n",
      "  File \"/nethome/qzheng75/miniconda3/envs/md_env/lib/python3.9/site-packages/ipykernel/kernelbase.py\", line 437, in dispatch_shell\n",
      "    await result\n",
      "  File \"/nethome/qzheng75/miniconda3/envs/md_env/lib/python3.9/site-packages/ipykernel/ipkernel.py\", line 362, in execute_request\n",
      "    await super().execute_request(stream, ident, parent)\n",
      "  File \"/nethome/qzheng75/miniconda3/envs/md_env/lib/python3.9/site-packages/ipykernel/kernelbase.py\", line 778, in execute_request\n",
      "    reply_content = await reply_content\n",
      "  File \"/nethome/qzheng75/miniconda3/envs/md_env/lib/python3.9/site-packages/ipykernel/ipkernel.py\", line 449, in do_execute\n",
      "    res = shell.run_cell(\n",
      "  File \"/nethome/qzheng75/miniconda3/envs/md_env/lib/python3.9/site-packages/ipykernel/zmqshell.py\", line 549, in run_cell\n",
      "    return super().run_cell(*args, **kwargs)\n",
      "  File \"/nethome/qzheng75/miniconda3/envs/md_env/lib/python3.9/site-packages/IPython/core/interactiveshell.py\", line 3048, in run_cell\n",
      "    result = self._run_cell(\n",
      "  File \"/nethome/qzheng75/miniconda3/envs/md_env/lib/python3.9/site-packages/IPython/core/interactiveshell.py\", line 3103, in _run_cell\n",
      "    result = runner(coro)\n",
      "  File \"/nethome/qzheng75/miniconda3/envs/md_env/lib/python3.9/site-packages/IPython/core/async_helpers.py\", line 129, in _pseudo_sync_runner\n",
      "    coro.send(None)\n",
      "  File \"/nethome/qzheng75/miniconda3/envs/md_env/lib/python3.9/site-packages/IPython/core/interactiveshell.py\", line 3308, in run_cell_async\n",
      "    has_raised = await self.run_ast_nodes(code_ast.body, cell_name,\n",
      "  File \"/nethome/qzheng75/miniconda3/envs/md_env/lib/python3.9/site-packages/IPython/core/interactiveshell.py\", line 3490, in run_ast_nodes\n",
      "    if await self.run_code(code, result, async_=asy):\n",
      "  File \"/nethome/qzheng75/miniconda3/envs/md_env/lib/python3.9/site-packages/IPython/core/interactiveshell.py\", line 3550, in run_code\n",
      "    exec(code_obj, self.user_global_ns, self.user_ns)\n",
      "  File \"/tmp/ipykernel_785521/3052537632.py\", line 1, in <module>\n",
      "    from matdeeplearn.common.ase_utils import MDLCalculator\n",
      "  File \"/nethome/qzheng75/stable_md/MatDeepLearn_dev/matdeeplearn/common/ase_utils.py\", line 13, in <module>\n",
      "    from matdeeplearn.preprocessor.helpers import generate_node_features\n",
      "  File \"/nethome/qzheng75/stable_md/MatDeepLearn_dev/matdeeplearn/preprocessor/__init__.py\", line 1, in <module>\n",
      "    from .datasets import LargeStructureDataset, StructureDataset\n",
      "  File \"/nethome/qzheng75/stable_md/MatDeepLearn_dev/matdeeplearn/preprocessor/datasets.py\", line 4, in <module>\n",
      "    from torch_geometric.data import InMemoryDataset\n",
      "  File \"/nethome/qzheng75/miniconda3/envs/md_env/lib/python3.9/site-packages/torch_geometric/__init__.py\", line 13, in <module>\n",
      "    import torch_geometric.datasets\n",
      "  File \"/nethome/qzheng75/miniconda3/envs/md_env/lib/python3.9/site-packages/torch_geometric/datasets/__init__.py\", line 18, in <module>\n",
      "    from .qm9 import QM9\n",
      "  File \"/nethome/qzheng75/miniconda3/envs/md_env/lib/python3.9/site-packages/torch_geometric/datasets/qm9.py\", line 21, in <module>\n",
      "    conversion = torch.tensor([\n",
      "/nethome/qzheng75/miniconda3/envs/md_env/lib/python3.9/site-packages/torch_geometric/datasets/qm9.py:21: UserWarning: Failed to initialize NumPy: _ARRAY_API not found (Triggered internally at /opt/conda/conda-bld/pytorch_1682343964576/work/torch/csrc/utils/tensor_numpy.cpp:84.)\n",
      "  conversion = torch.tensor([\n"
     ]
    },
    {
     "ename": "ModuleNotFoundError",
     "evalue": "No module named 'pymatgen'",
     "output_type": "error",
     "traceback": [
      "\u001b[0;31m---------------------------------------------------------------------------\u001b[0m",
      "\u001b[0;31mModuleNotFoundError\u001b[0m                       Traceback (most recent call last)",
      "Cell \u001b[0;32mIn[11], line 1\u001b[0m\n\u001b[0;32m----> 1\u001b[0m \u001b[38;5;28;01mfrom\u001b[39;00m \u001b[38;5;21;01mmatdeeplearn\u001b[39;00m\u001b[38;5;21;01m.\u001b[39;00m\u001b[38;5;21;01mcommon\u001b[39;00m\u001b[38;5;21;01m.\u001b[39;00m\u001b[38;5;21;01mase_utils\u001b[39;00m \u001b[38;5;28;01mimport\u001b[39;00m MDLCalculator\n\u001b[1;32m      3\u001b[0m \u001b[38;5;28;01mif\u001b[39;00m task \u001b[38;5;241m!=\u001b[39m \u001b[38;5;124m\"\u001b[39m\u001b[38;5;124moptim\u001b[39m\u001b[38;5;124m\"\u001b[39m:\n\u001b[1;32m      4\u001b[0m     calc \u001b[38;5;241m=\u001b[39m MDLCalculator(calculator_path, rank\u001b[38;5;241m=\u001b[39mrank)\n",
      "File \u001b[0;32m~/stable_md/MatDeepLearn_dev/matdeeplearn/common/ase_utils.py:27\u001b[0m\n\u001b[1;32m     24\u001b[0m \u001b[38;5;28;01mfrom\u001b[39;00m \u001b[38;5;21;01mase\u001b[39;00m\u001b[38;5;21;01m.\u001b[39;00m\u001b[38;5;21;01mmd\u001b[39;00m\u001b[38;5;21;01m.\u001b[39;00m\u001b[38;5;21;01mnpt\u001b[39;00m \u001b[38;5;28;01mimport\u001b[39;00m NPT\n\u001b[1;32m     25\u001b[0m \u001b[38;5;28;01mfrom\u001b[39;00m \u001b[38;5;21;01mase\u001b[39;00m\u001b[38;5;21;01m.\u001b[39;00m\u001b[38;5;21;01mmd\u001b[39;00m\u001b[38;5;21;01m.\u001b[39;00m\u001b[38;5;21;01mvelocitydistribution\u001b[39;00m \u001b[38;5;28;01mimport\u001b[39;00m MaxwellBoltzmannDistribution\n\u001b[0;32m---> 27\u001b[0m \u001b[38;5;28;01mfrom\u001b[39;00m \u001b[38;5;21;01mpymatgen\u001b[39;00m\u001b[38;5;21;01m.\u001b[39;00m\u001b[38;5;21;01moptimization\u001b[39;00m\u001b[38;5;21;01m.\u001b[39;00m\u001b[38;5;21;01mneighbors\u001b[39;00m \u001b[38;5;28;01mimport\u001b[39;00m find_points_in_spheres\n\u001b[1;32m     31\u001b[0m logging\u001b[38;5;241m.\u001b[39mbasicConfig(level\u001b[38;5;241m=\u001b[39mlogging\u001b[38;5;241m.\u001b[39mINFO)\n\u001b[1;32m     34\u001b[0m \u001b[38;5;28;01mclass\u001b[39;00m \u001b[38;5;21;01mMDLCalculator\u001b[39;00m(Calculator):\n",
      "\u001b[0;31mModuleNotFoundError\u001b[0m: No module named 'pymatgen'"
     ]
    }
   ],
   "source": [
    "from matdeeplearn.common.ase_utils import MDLCalculator\n",
    "\n",
    "if task != \"optim\":\n",
    "    calc = MDLCalculator(calculator_path, rank=rank)"
   ]
  },
  {
   "cell_type": "code",
   "execution_count": null,
   "metadata": {},
   "outputs": [],
   "source": [
    "import torch\n",
    "from torch_geometric.loader import DataLoader\n",
    "\n",
    "if task != \"optim\":\n",
    "    data_list = [\n",
    "        calc.atoms_to_data_object(atoms) for atoms in atoms_list\n",
    "    ]\n",
    "\n",
    "    results = {prop: [] for prop in calculated_properties}\n",
    "    results.update(\n",
    "        {\n",
    "            'structure_id': [s['structure_id'] for s in augmented_structures],\n",
    "            'positions': [s['positions'] for s in augmented_structures],\n",
    "            'cell': [s['cell'] for s in augmented_structures],\n",
    "            'atomic_numbers': [s['atomic_numbers'] for s in augmented_structures],\n",
    "        }\n",
    "    )"
   ]
  },
  {
   "cell_type": "code",
   "execution_count": null,
   "metadata": {},
   "outputs": [
    {
     "name": "stderr",
     "output_type": "stream",
     "text": [
      "100%|██████████| 58653/58653 [09:31<00:00, 102.65it/s] \n"
     ]
    }
   ],
   "source": [
    "from tqdm import tqdm\n",
    "\n",
    "if task != \"optim\":\n",
    "    loader = DataLoader(data_list, batch_size=batch_size)\n",
    "    loader_iter = iter(loader)\n",
    "\n",
    "    for idx, batch in tqdm(enumerate(loader_iter), total=len(loader_iter)):\n",
    "        batch = batch.to(f'cuda:{rank}')\n",
    "        \n",
    "        out_list = []\n",
    "        for model in calc.models:   \n",
    "            model.eval()\n",
    "            out_list.append(model(batch))\n",
    "\n",
    "        energy = torch.stack([entry[\"output\"] for entry in out_list]).mean(dim=0).detach().cpu().numpy().flatten().tolist()\n",
    "        forces = torch.stack([entry[\"pos_grad\"] for entry in out_list]).mean(dim=0)\n",
    "        stresses = torch.stack([entry[\"cell_grad\"] for entry in out_list]).mean(dim=0)\n",
    "        \n",
    "        forces_each_structure = []\n",
    "        stress_each_structure = []\n",
    "        \n",
    "        for i in range(len(batch)):\n",
    "            split_force = forces[torch.where(batch.batch == i)]\n",
    "            forces_each_structure.append(split_force.detach().cpu().numpy().tolist())\n",
    "            stress_each_structure.append(stresses[i].detach().cpu().numpy().tolist())\n",
    "        \n",
    "        results['energy'].extend(energy)\n",
    "        results['forces'].extend(forces_each_structure)\n",
    "        results['stress'].extend(stress_each_structure)"
   ]
  },
  {
   "cell_type": "code",
   "execution_count": null,
   "metadata": {},
   "outputs": [
    {
     "name": "stdout",
     "output_type": "stream",
     "text": [
      "energy : 938435\n",
      "forces : 938435\n",
      "stress : 938435\n",
      "structure_id : 938435\n",
      "positions : 938435\n",
      "cell : 938435\n",
      "atomic_numbers : 938435\n"
     ]
    }
   ],
   "source": [
    "import matplotlib.pyplot as plt\n",
    "\n",
    "if task != \"optim\":\n",
    "    for key in results.keys():\n",
    "        print(key, ':', len(results[key]))\n",
    "        \n",
    "    forces_arr = np.concatenate(results['forces'], axis=0)\n",
    "    force_magnitude = np.linalg.norm(forces_arr, axis=1)\n",
    "    \n",
    "    plt.hist(force_magnitude, bins=1000)\n",
    "    plt.title(f\"Mean: {np.mean(force_magnitude):.2f}, Std: {np.std(force_magnitude):.2f}, Max: {np.max(force_magnitude):.2f}\")\n",
    "    plt.xlim(left=0, right=500)\n",
    "    plt.ylim(bottom=0, top=1.2*10e6)\n",
    "    plt.show();"
   ]
  },
  {
   "cell_type": "code",
   "execution_count": null,
   "metadata": {},
   "outputs": [],
   "source": [
    "import os\n",
    "\n",
    "if task != \"optim\":\n",
    "    os.makedirs(save_dir, exist_ok=True)\n",
    "    saved_data = [\n",
    "        {\n",
    "            'structure_id': results['structure_id'][i],\n",
    "            'positions': results['positions'][i].tolist(),\n",
    "            'cell': results['cell'][i].tolist(),\n",
    "            'atomic_numbers': results['atomic_numbers'][i].tolist(),\n",
    "            'y': results['energy'][i],\n",
    "            'energy': results['energy'][i],\n",
    "            'stress': [results['stress'][i]],\n",
    "            'forces': results['forces'][i],\n",
    "        } for i in range(len(results['structure_id']))\n",
    "    ]\n",
    "\n",
    "    with open(f'{save_dir}/data.json', 'w') as f:\n",
    "        json.dump(saved_data, f)\n",
    "        \n",
    "    print(f'{len(saved_data)} structures saved')"
   ]
  },
  {
   "cell_type": "code",
   "execution_count": null,
   "metadata": {},
   "outputs": [],
   "source": []
  }
 ],
 "metadata": {
  "kernelspec": {
   "display_name": "matdeeplearn",
   "language": "python",
   "name": "python3"
  },
  "language_info": {
   "codemirror_mode": {
    "name": "ipython",
    "version": 3
   },
   "file_extension": ".py",
   "mimetype": "text/x-python",
   "name": "python",
   "nbconvert_exporter": "python",
   "pygments_lexer": "ipython3",
   "version": "3.9.19"
  }
 },
 "nbformat": 4,
 "nbformat_minor": 2
}
