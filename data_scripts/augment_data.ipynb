{
 "cells": [
  {
   "cell_type": "code",
   "execution_count": 1,
   "metadata": {},
   "outputs": [
    {
     "name": "stdout",
     "output_type": "stream",
     "text": [
      "Sat Aug 10 18:54:05 2024       \n",
      "+-----------------------------------------------------------------------------------------+\n",
      "| NVIDIA-SMI 550.90.07              Driver Version: 550.90.07      CUDA Version: 12.4     |\n",
      "|-----------------------------------------+------------------------+----------------------+\n",
      "| GPU  Name                 Persistence-M | Bus-Id          Disp.A | Volatile Uncorr. ECC |\n",
      "| Fan  Temp   Perf          Pwr:Usage/Cap |           Memory-Usage | GPU-Util  Compute M. |\n",
      "|                                         |                        |               MIG M. |\n",
      "|=========================================+========================+======================|\n",
      "|   0  NVIDIA A40                     On  |   00000000:41:00.0 Off |                    0 |\n",
      "|  0%   38C    P0            104W /  300W |     899MiB /  46068MiB |     24%      Default |\n",
      "|                                         |                        |                  N/A |\n",
      "+-----------------------------------------+------------------------+----------------------+\n",
      "|   1  NVIDIA A40                     On  |   00000000:61:00.0 Off |                    0 |\n",
      "|  0%   37C    P0            104W /  300W |     887MiB /  46068MiB |     24%      Default |\n",
      "|                                         |                        |                  N/A |\n",
      "+-----------------------------------------+------------------------+----------------------+\n",
      "|   2  NVIDIA A40                     On  |   00000000:C1:00.0 Off |                    0 |\n",
      "|  0%   36C    P0            100W /  300W |     899MiB /  46068MiB |     24%      Default |\n",
      "|                                         |                        |                  N/A |\n",
      "+-----------------------------------------+------------------------+----------------------+\n",
      "|   3  NVIDIA A40                     On  |   00000000:E1:00.0 Off |                    0 |\n",
      "|  0%   26C    P8             24W /  300W |       4MiB /  46068MiB |      0%      Default |\n",
      "|                                         |                        |                  N/A |\n",
      "+-----------------------------------------+------------------------+----------------------+\n",
      "                                                                                         \n",
      "+-----------------------------------------------------------------------------------------+\n",
      "| Processes:                                                                              |\n",
      "|  GPU   GI   CI        PID   Type   Process name                              GPU Memory |\n",
      "|        ID   ID                                                               Usage      |\n",
      "|=========================================================================================|\n",
      "|    0   N/A  N/A   1713259      C   python                                        890MiB |\n",
      "|    1   N/A  N/A   1713399      C   python                                        878MiB |\n",
      "|    2   N/A  N/A   1713063      C   python                                        890MiB |\n",
      "+-----------------------------------------------------------------------------------------+\n"
     ]
    }
   ],
   "source": [
    "!nvidia-smi"
   ]
  },
  {
   "cell_type": "code",
   "execution_count": 17,
   "metadata": {},
   "outputs": [],
   "source": [
    "original_data_path = '../data/Silica/original/data.json' # path to raw data\n",
    "calculator_path = '../configs/calculator/config_morse.yml' # path to calculator config\n",
    "rank = \"cuda:0\" # device\n",
    "batch_size = 16\n",
    "save_dir = '../data/silica_0_0.6_5_aug' # path to save augmented data\n",
    "perturb_strength = [0., 0.15, 0.3, 0.45, 0.6] # perturbation strength\n",
    "task = \"simulation\" # optimization doesn't need labels\n",
    "n_round_augmentation = len(perturb_strength)\n",
    "calculated_properties = ('energy', 'forces', 'stress')\n",
    "seed = 42"
   ]
  },
  {
   "cell_type": "code",
   "execution_count": 18,
   "metadata": {},
   "outputs": [
    {
     "data": {
      "text/plain": [
       "2864"
      ]
     },
     "execution_count": 18,
     "metadata": {},
     "output_type": "execute_result"
    }
   ],
   "source": [
    "import json\n",
    "\n",
    "with open(original_data_path, 'r') as f:\n",
    "    data = json.load(f)\n",
    "    \n",
    "len(data)"
   ]
  },
  {
   "cell_type": "code",
   "execution_count": 19,
   "metadata": {},
   "outputs": [],
   "source": [
    "import numpy as np\n",
    "\n",
    "structures = [{key: np.array(val) if isinstance(val, list) else val for key, val in dt.items()} for dt in data]"
   ]
  },
  {
   "cell_type": "code",
   "execution_count": 20,
   "metadata": {},
   "outputs": [
    {
     "data": {
      "text/plain": [
       "(266858,)"
      ]
     },
     "execution_count": 20,
     "metadata": {},
     "output_type": "execute_result"
    }
   ],
   "source": [
    "orig_forces = np.concatenate([structure['forces'] for structure in structures])\n",
    "force_magnitude = np.linalg.norm(orig_forces, axis=1)\n",
    "force_magnitude.shape"
   ]
  },
  {
   "cell_type": "code",
   "execution_count": 21,
   "metadata": {},
   "outputs": [
    {
     "data": {
      "image/png": "[encoded data removed]",
      "text/plain": [
       "<Figure size 640x480 with 1 Axes>"
      ]
     },
     "metadata": {},
     "output_type": "display_data"
    }
   ],
   "source": [
    "import matplotlib.pyplot as plt\n",
    "\n",
    "plt.hist(force_magnitude, bins=1000)\n",
    "plt.title(f\"Mean: {np.mean(force_magnitude):.2f}, Std: {np.std(force_magnitude):.2f}, Max: {np.max(force_magnitude):.2f}\")\n",
    "plt.xlim(left=0, right=100)\n",
    "plt.ylim(bottom=0, top=6*10e5)\n",
    "plt.show();"
   ]
  },
  {
   "cell_type": "code",
   "execution_count": 22,
   "metadata": {},
   "outputs": [],
   "source": [
    "import numpy as np\n",
    "\n",
    "def perturb_positions(pos, distance):\n",
    "    random_vectors = np.random.randn(pos.shape[0], 3)\n",
    "    random_vectors /= np.linalg.norm(random_vectors, axis=1, keepdims=True)\n",
    "    perturbation_distances = np.full((pos.shape[0],), distance)\n",
    "    return pos + perturbation_distances.reshape(-1, 1) * random_vectors"
   ]
  },
  {
   "cell_type": "code",
   "execution_count": 23,
   "metadata": {},
   "outputs": [
    {
     "data": {
      "text/plain": [
       "14320"
      ]
     },
     "execution_count": 23,
     "metadata": {},
     "output_type": "execute_result"
    }
   ],
   "source": [
    "from itertools import chain\n",
    "\n",
    "augmented_structure_list = [list() for _ in range(n_round_augmentation)]\n",
    "np.random.seed(seed)\n",
    "\n",
    "for i in range(n_round_augmentation):\n",
    "    for s in structures:\n",
    "        aug = s.copy()\n",
    "        aug['positions'] = perturb_positions(s['positions'], perturb_strength[i])\n",
    "        augmented_structure_list[i].append(aug)\n",
    "        \n",
    "augmented_structures = list(chain.from_iterable(augmented_structure_list))\n",
    "len(augmented_structures)"
   ]
  },
  {
   "cell_type": "code",
   "execution_count": 24,
   "metadata": {},
   "outputs": [],
   "source": [
    "# For optimization\n",
    "structure_to_write = []\n",
    "if task == 'optim':\n",
    "    for s in augmented_structures:\n",
    "        structure_to_write.append({\n",
    "            'structure_id': s['structure_id'],\n",
    "            'positions': s['positions'].tolist(),\n",
    "            'cell': s['cell'].tolist(),\n",
    "            'atomic_numbers': s['atomic_numbers'].tolist()\n",
    "        })\n",
    "    json.dump(structure_to_write, open(f'{save_dir}/data.json', 'w'))\n",
    "    "
   ]
  },
  {
   "cell_type": "code",
   "execution_count": 25,
   "metadata": {},
   "outputs": [],
   "source": [
    "from typing import List\n",
    "from ase import Atoms\n",
    "\n",
    "if task != \"optim\":\n",
    "    atoms_list: List[Atoms] = [\n",
    "        Atoms(\n",
    "            symbols=s['atomic_numbers'],\n",
    "            positions=s['positions'],\n",
    "            cell=s['cell']\n",
    "        )\n",
    "        for s in augmented_structures\n",
    "    ]"
   ]
  },
  {
   "cell_type": "code",
   "execution_count": 26,
   "metadata": {},
   "outputs": [
    {
     "name": "stderr",
     "output_type": "stream",
     "text": [
      "INFO:root:MDLCalculator instantiated from config: ../configs/calculator/config_morse.yml\n",
      "INFO:root:MDLCalculator: setting up Morse_Old for calculation\n",
      "INFO:root:MDLCalculator: weights for model No.1 loaded from ../results/morse_models/2024-08-10-08-42-24-536-silica_morse_clamp/checkpoint_0/best_checkpoint.pt\n"
     ]
    }
   ],
   "source": [
    "from matdeeplearn.common.ase_utils import MDLCalculator\n",
    "\n",
    "if task != \"optim\":\n",
    "    calc = MDLCalculator(calculator_path, rank=rank)"
   ]
  },
  {
   "cell_type": "code",
   "execution_count": 27,
   "metadata": {},
   "outputs": [],
   "source": [
    "import torch\n",
    "from torch_geometric.loader import DataLoader\n",
    "\n",
    "if task != \"optim\":\n",
    "    data_list = [\n",
    "        calc.atoms_to_data_object(atoms) for atoms in atoms_list\n",
    "    ]\n",
    "\n",
    "    results = {prop: [] for prop in calculated_properties}\n",
    "    results.update(\n",
    "        {\n",
    "            'structure_id': [s['structure_id'] for s in augmented_structures],\n",
    "            'positions': [s['positions'] for s in augmented_structures],\n",
    "            'cell': [s['cell'] for s in augmented_structures],\n",
    "            'atomic_numbers': [s['atomic_numbers'] for s in augmented_structures],\n",
    "        }\n",
    "    )"
   ]
  },
  {
   "cell_type": "code",
   "execution_count": 28,
   "metadata": {},
   "outputs": [
    {
     "name": "stderr",
     "output_type": "stream",
     "text": [
      "  0%|          | 0/895 [00:00<?, ?it/s]"
     ]
    },
    {
     "name": "stderr",
     "output_type": "stream",
     "text": [
      "100%|██████████| 895/895 [00:17<00:00, 51.33it/s]\n"
     ]
    }
   ],
   "source": [
    "from tqdm import tqdm\n",
    "\n",
    "if task != \"optim\":\n",
    "    loader = DataLoader(data_list, batch_size=batch_size)\n",
    "    loader_iter = iter(loader)\n",
    "\n",
    "    for idx, batch in tqdm(enumerate(loader_iter), total=len(loader_iter)):\n",
    "        batch = batch.to(rank)\n",
    "        \n",
    "        out_list = []\n",
    "        for model in calc.models:   \n",
    "            model.eval()\n",
    "            out_list.append(model(batch))\n",
    "\n",
    "        energy = torch.stack([entry[\"output\"] for entry in out_list]).mean(dim=0).detach().cpu().numpy().flatten().tolist()\n",
    "        forces = torch.stack([entry[\"pos_grad\"] for entry in out_list]).mean(dim=0)\n",
    "        stresses = torch.stack([entry[\"cell_grad\"] for entry in out_list]).mean(dim=0)\n",
    "        \n",
    "        forces_each_structure = []\n",
    "        stress_each_structure = []\n",
    "        \n",
    "        for i in range(len(batch)):\n",
    "            split_force = forces[torch.where(batch.batch == i)]\n",
    "            forces_each_structure.append(split_force.detach().cpu().numpy().tolist())\n",
    "            stress_each_structure.append(stresses[i].detach().cpu().numpy().tolist())\n",
    "        \n",
    "        results['energy'].extend(energy)\n",
    "        results['forces'].extend(forces_each_structure)\n",
    "        results['stress'].extend(stress_each_structure)"
   ]
  },
  {
   "cell_type": "code",
   "execution_count": 29,
   "metadata": {},
   "outputs": [
    {
     "name": "stdout",
     "output_type": "stream",
     "text": [
      "energy : 14320\n",
      "forces : 14320\n",
      "stress : 14320\n",
      "structure_id : 14320\n",
      "positions : 14320\n",
      "cell : 14320\n",
      "atomic_numbers : 14320\n"
     ]
    },
    {
     "data": {
      "image/png": "[encoded data removed]",
      "text/plain": [
       "<Figure size 640x480 with 1 Axes>"
      ]
     },
     "metadata": {},
     "output_type": "display_data"
    }
   ],
   "source": [
    "import matplotlib.pyplot as plt\n",
    "\n",
    "if task != \"optim\":\n",
    "    for key in results.keys():\n",
    "        print(key, ':', len(results[key]))\n",
    "        \n",
    "    forces_arr = np.concatenate(results['forces'], axis=0)\n",
    "    force_magnitude = np.linalg.norm(forces_arr, axis=1)\n",
    "    \n",
    "    plt.hist(force_magnitude, bins=1000)\n",
    "    plt.title(f\"Mean: {np.mean(force_magnitude):.2f}, Std: {np.std(force_magnitude):.2f}, Max: {np.max(force_magnitude):.2f}\")\n",
    "    plt.xlim(left=0, right=4000)\n",
    "    plt.ylim(bottom=0, top=1.5*10e7)\n",
    "    plt.show();"
   ]
  },
  {
   "cell_type": "code",
   "execution_count": 30,
   "metadata": {},
   "outputs": [
    {
     "name": "stdout",
     "output_type": "stream",
     "text": [
      "14320 structures saved\n"
     ]
    }
   ],
   "source": [
    "import os\n",
    "\n",
    "if task != \"optim\":\n",
    "    os.makedirs(save_dir, exist_ok=True)\n",
    "    saved_data = [\n",
    "        {\n",
    "            'structure_id': results['structure_id'][i],\n",
    "            'positions': results['positions'][i].tolist(),\n",
    "            'cell': results['cell'][i].tolist(),\n",
    "            'atomic_numbers': results['atomic_numbers'][i].tolist(),\n",
    "            'y': results['energy'][i],\n",
    "            'energy': results['energy'][i],\n",
    "            'stress': [results['stress'][i]],\n",
    "            'forces': results['forces'][i],\n",
    "        } for i in range(len(results['structure_id']))\n",
    "    ]\n",
    "\n",
    "    with open(f'{save_dir}/data.json', 'w') as f:\n",
    "        json.dump(saved_data, f)\n",
    "        \n",
    "    print(f'{len(saved_data)} structures saved')"
   ]
  },
  {
   "cell_type": "code",
   "execution_count": null,
   "metadata": {},
   "outputs": [],
   "source": []
  }
 ],
 "metadata": {
  "kernelspec": {
   "display_name": "matdeeplearn",
   "language": "python",
   "name": "python3"
  },
  "language_info": {
   "codemirror_mode": {
    "name": "ipython",
    "version": 3
   },
   "file_extension": ".py",
   "mimetype": "text/x-python",
   "name": "python",
   "nbconvert_exporter": "python",
   "pygments_lexer": "ipython3",
   "version": "3.9.19"
  }
 },
 "nbformat": 4,
 "nbformat_minor": 2
}
