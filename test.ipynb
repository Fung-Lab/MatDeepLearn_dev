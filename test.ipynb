{
 "cells": [
  {
   "cell_type": "code",
   "execution_count": 1,
   "metadata": {},
   "outputs": [],
   "source": [
    "from matdeeplearn.utils.data import *\n",
    "from matdeeplearn.preprocessor import *\n",
    "\n",
    "root_path = '/Users/shuyijia/Github/Fung-Lab/MatDeepLearn/data/bulk_data_500/'\n",
    "targets_path = '/Users/shuyijia/Github/Fung-Lab/MatDeepLearn/data/bulk_data_500/targets.csv'\n",
    "r = 2.5\n",
    "n_neighbors = 5\n",
    "edge_steps = 50"
   ]
  },
  {
   "cell_type": "code",
   "execution_count": 8,
   "metadata": {},
   "outputs": [
    {
     "name": "stdout",
     "output_type": "stream",
     "text": [
      "Processed data saved successfully.\n"
     ]
    }
   ],
   "source": [
    "processor = DataProcessor(root_path, targets_path, r, n_neighbors, edge_steps, image_selfloop=False)\n",
    "out = processor.process()"
   ]
  },
  {
   "cell_type": "code",
   "execution_count": 9,
   "metadata": {},
   "outputs": [
    {
     "name": "stdout",
     "output_type": "stream",
     "text": [
      "0 [[['0']]]\n"
     ]
    }
   ],
   "source": [
    "ds = get_dataset(root_path)\n",
    "train, val, test = dataset_split(ds)\n",
    "\n",
    "loader = DataLoader(\n",
    "        ds,\n",
    "        batch_size=1,\n",
    "        shuffle=False,\n",
    "        num_workers=0,\n",
    "        pin_memory=True,\n",
    "    )\n",
    "\n",
    "for i, batch in enumerate(loader):\n",
    "    print(i, batch.structure_id)\n",
    "    break"
   ]
  },
  {
   "cell_type": "code",
   "execution_count": 11,
   "metadata": {},
   "outputs": [],
   "source": [
    "edge_index, cell_offsets, neighbors = radius_graph_pbc(batch, r, n_neighbors)"
   ]
  },
  {
   "cell_type": "code",
   "execution_count": 12,
   "metadata": {},
   "outputs": [],
   "source": [
    "out = get_pbc_distances(\n",
    "                batch.pos,\n",
    "                edge_index,\n",
    "                batch.cell,\n",
    "                cell_offsets,\n",
    "                neighbors,\n",
    "                return_offsets=True,\n",
    "                return_distance_vec=True,\n",
    "            )\n",
    "\n",
    "edge_index_out = out[\"edge_index\"]\n",
    "edge_dist = out[\"distances\"]\n",
    "cell_offset_distances = out[\"offsets\"]\n",
    "distance_vec = out[\"distance_vec\"]"
   ]
  },
  {
   "cell_type": "code",
   "execution_count": 22,
   "metadata": {},
   "outputs": [
    {
     "data": {
      "text/plain": [
       "(torch.Size([2, 28]), torch.Size([2, 28]))"
      ]
     },
     "execution_count": 22,
     "metadata": {},
     "output_type": "execute_result"
    }
   ],
   "source": [
    "edge_index.shape, batch.edge_index.shape"
   ]
  },
  {
   "cell_type": "code",
   "execution_count": 23,
   "metadata": {},
   "outputs": [
    {
     "data": {
      "text/plain": [
       "tensor([[3, 4, 6, 7, 8, 3, 4, 5, 7, 8, 1, 2, 4, 1, 2, 3, 1, 2, 6, 1, 2, 5, 1, 2,\n",
       "         8, 1, 2, 7],\n",
       "        [1, 1, 1, 1, 1, 2, 2, 2, 2, 2, 3, 3, 3, 4, 4, 4, 5, 5, 5, 6, 6, 6, 7, 7,\n",
       "         7, 8, 8, 8]])"
      ]
     },
     "execution_count": 23,
     "metadata": {},
     "output_type": "execute_result"
    }
   ],
   "source": [
    "edge_index"
   ]
  },
  {
   "cell_type": "code",
   "execution_count": null,
   "metadata": {},
   "outputs": [],
   "source": []
  }
 ],
 "metadata": {
  "kernelspec": {
   "display_name": "Python 3.10.6 ('gnn')",
   "language": "python",
   "name": "python3"
  },
  "language_info": {
   "codemirror_mode": {
    "name": "ipython",
    "version": 3
   },
   "file_extension": ".py",
   "mimetype": "text/x-python",
   "name": "python",
   "nbconvert_exporter": "python",
   "pygments_lexer": "ipython3",
   "version": "3.10.6"
  },
  "orig_nbformat": 4,
  "vscode": {
   "interpreter": {
    "hash": "0ab12d89fafca4d60956ad1a0b4f071ece411e311a5d93321d94ffb437447593"
   }
  }
 },
 "nbformat": 4,
 "nbformat_minor": 2
}
