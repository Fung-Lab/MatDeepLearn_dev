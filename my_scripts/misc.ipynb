{
 "cells": [
  {
   "cell_type": "code",
   "execution_count": 1,
   "metadata": {},
   "outputs": [],
   "source": [
    "import torch\n",
    "\n",
    "def create_distance_matrix(self, atoms, data):\n",
    "    device = atoms.device\n",
    "    batch_size = atoms.size(0)\n",
    "    max_atoms = atoms.size(1)\n",
    "    \n",
    "    distances = torch.full((batch_size, max_atoms, max_atoms), 8., device=device)\n",
    "    \n",
    "    batch_indices = torch.arange(batch_size, device=device)\n",
    "    atom_indices = torch.arange(max_atoms, device=device)\n",
    "    distances[batch_indices.unsqueeze(1), atom_indices, atom_indices] = 0\n",
    "    \n",
    "    source, target = data.edge_index\n",
    "    edge_batch = data.batch[source]\n",
    "    # Compute offsets for each batch\n",
    "    offsets = torch.cumsum(torch.cat([torch.zeros(1, device=device), data.n_atoms[:-1]]), dim=0)\n",
    "    \n",
    "    source_adj = (source - offsets[edge_batch]).to(torch.long)\n",
    "    target_adj = (target - offsets[edge_batch]).to(torch.long)        \n",
    "    distances[edge_batch, source_adj, target_adj] = data.edge_weight\n",
    "    distances[edge_batch, target_adj, source_adj] = data.edge_weight\n",
    "    \n",
    "    return distances"
   ]
  },
  {
   "cell_type": "code",
   "execution_count": null,
   "metadata": {},
   "outputs": [],
   "source": [
    "from torch_geometric.data import Data\n",
    "\n",
    "atoms = torch.tensor([[2, 1, 2, 0, 0], [1, 1, 2, 2, 3]])\n",
    "data = Data()\n",
    "data.edge_index = torch.tensor([[0, 1, 3, 4], [1, 2, 5, 9]])\n",
    "data.edge_weight = torch.tensor([1., 2., 3., 4.])\n",
    "data.batch = torch.tensor([0, 0, 0, 1, 1, 1, 1, 1])"
   ]
  }
 ],
 "metadata": {
  "kernelspec": {
   "display_name": "md_env",
   "language": "python",
   "name": "python3"
  },
  "language_info": {
   "codemirror_mode": {
    "name": "ipython",
    "version": 3
   },
   "file_extension": ".py",
   "mimetype": "text/x-python",
   "name": "python",
   "nbconvert_exporter": "python",
   "pygments_lexer": "ipython3",
   "version": "3.10.0"
  }
 },
 "nbformat": 4,
 "nbformat_minor": 2
}
