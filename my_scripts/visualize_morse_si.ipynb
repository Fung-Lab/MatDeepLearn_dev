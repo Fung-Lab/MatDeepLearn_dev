{
 "cells": [
  {
   "cell_type": "code",
   "execution_count": 28,
   "metadata": {},
   "outputs": [],
   "source": [
    "import torch\n",
    "\n",
    "checkpoint_path = '../results/2024-04-20-11-54-23-475-morse_sio2/checkpoint_0/best_checkpoint.pt'\n",
    "state_dict = torch.load(checkpoint_path)['state_dict']"
   ]
  },
  {
   "cell_type": "code",
   "execution_count": 29,
   "metadata": {},
   "outputs": [
    {
     "data": {
      "text/plain": [
       "odict_keys(['rm.weight', 'sigmas.weight', 'D.weight', 'base_atomic_energy.weight', 'distance_expansion.offset'])"
      ]
     },
     "execution_count": 29,
     "metadata": {},
     "output_type": "execute_result"
    }
   ],
   "source": [
    "state_dict.keys()"
   ]
  },
  {
   "cell_type": "code",
   "execution_count": 30,
   "metadata": {},
   "outputs": [],
   "source": [
    "rm = state_dict['rm.weight']#(state_dict['rm.13'].item() + state_dict['rm.7'].item()) / 2\n",
    "D = state_dict['sigmas.weight']#(state_dict['D.13'].item() + state_dict['D.7'].item()) / 2\n",
    "sigma = state_dict['D.weight']#(state_dict['sigmas.13'].item() + state_dict['sigmas.7'].item()) / 2"
   ]
  },
  {
   "cell_type": "code",
   "execution_count": 31,
   "metadata": {},
   "outputs": [
    {
     "data": {
      "text/plain": [
       "(tensor([1.3238], device='cuda:0'),\n",
       " tensor([1.8841], device='cuda:0'),\n",
       " tensor([4.0594], device='cuda:0'),\n",
       " tensor([2.7830], device='cuda:0'),\n",
       " tensor([2.3324], device='cuda:0'),\n",
       " tensor([2.7030], device='cuda:0'))"
      ]
     },
     "execution_count": 31,
     "metadata": {},
     "output_type": "execute_result"
    }
   ],
   "source": [
    "rm[7], rm[13], D[7], D[13], sigma[7], sigma[13]"
   ]
  },
  {
   "cell_type": "code",
   "execution_count": 32,
   "metadata": {},
   "outputs": [],
   "source": [
    "rm = ((rm[7] + rm[13]) / 2).item()\n",
    "D = ((D[7] + D[13]) / 2).item()\n",
    "sigma = ((sigma[7] + sigma[13]) / 2).item()"
   ]
  },
  {
   "cell_type": "code",
   "execution_count": 33,
   "metadata": {},
   "outputs": [
    {
     "data": {
      "text/plain": [
       "(1.6039557456970215, 3.4211783409118652, 2.5177040100097656)"
      ]
     },
     "execution_count": 33,
     "metadata": {},
     "output_type": "execute_result"
    }
   ],
   "source": [
    "rm, D, sigma"
   ]
  },
  {
   "cell_type": "code",
   "execution_count": 34,
   "metadata": {},
   "outputs": [],
   "source": [
    "def cutoff_function(r, rc, ro):\n",
    "    s = 1.0 - (r - rc) / (ro - rc)\n",
    "    return (s >= 1.0) + (((0.0 < s) & (s < 1.0)) *\n",
    "                        (6.0 * s**5 - 15.0 * s**4 + 10.0 * s**3))"
   ]
  },
  {
   "cell_type": "code",
   "execution_count": 35,
   "metadata": {},
   "outputs": [
    {
     "data": {
      "image/png": "[encoded data removed]",
      "text/plain": [
       "<Figure size 640x480 with 1 Axes>"
      ]
     },
     "metadata": {},
     "output_type": "display_data"
    }
   ],
   "source": [
    "import numpy as np\n",
    "import matplotlib.pyplot as plt\n",
    "\n",
    "rc = 8.\n",
    "ro = 0.66 * rc\n",
    "X = np.linspace(0, 8., 500)\n",
    "fc = cutoff_function(X, ro, rc)\n",
    "    \n",
    "y = D * (1 - np.exp(-sigma * (X - rm))) ** 2 - D\n",
    "\n",
    "min_y = np.min(y)\n",
    "min_x = X[np.where(y == min_y)]\n",
    "\n",
    "plt.plot(X, y)\n",
    "plt.ylim(top=10, bottom=-3)\n",
    "plt.title(f'Si: original Morse, min at ({min_x[0]:.3f}, {min_y:.3f})');"
   ]
  },
  {
   "cell_type": "code",
   "execution_count": 60,
   "metadata": {},
   "outputs": [
    {
     "data": {
      "text/plain": [
       "2864"
      ]
     },
     "execution_count": 60,
     "metadata": {},
     "output_type": "execute_result"
    }
   ],
   "source": [
    "import json\n",
    "\n",
    "with open('../data/Silica_data/raw/data.json', 'r') as f:\n",
    "    all_data = json.load(f)\n",
    "    \n",
    "len(all_data)"
   ]
  },
  {
   "cell_type": "code",
   "execution_count": 61,
   "metadata": {},
   "outputs": [
    {
     "data": {
      "text/plain": [
       "[[[0.014715581100058455, 0.05482523515799388, 0.012717555440189833],\n",
       "  [0.05482523515799388, 0.0651679088588034, -0.016864039612879113],\n",
       "  [0.012717555440189833, -0.016864039612879113, -0.027173364930429027]]]"
      ]
     },
     "execution_count": 61,
     "metadata": {},
     "output_type": "execute_result"
    }
   ],
   "source": [
    "all_data[0]['stress']"
   ]
  },
  {
   "cell_type": "code",
   "execution_count": 62,
   "metadata": {},
   "outputs": [
    {
     "data": {
      "text/plain": [
       "5728"
      ]
     },
     "execution_count": 62,
     "metadata": {},
     "output_type": "execute_result"
    }
   ],
   "source": [
    "with open('../data/perturbed_silica/raw.json', 'r') as f:\n",
    "    perturbed_data = json.load(f)\n",
    "\n",
    "len(perturbed_data)"
   ]
  },
  {
   "cell_type": "code",
   "execution_count": 63,
   "metadata": {},
   "outputs": [
    {
     "data": {
      "text/plain": [
       "[[[0.01386174838989973, 0.023678744211792946, 0.005390722304582596],\n",
       "  [0.023678744211792946, 0.030625494197010994, -0.00826267246156931],\n",
       "  [0.005390722304582596, -0.00826267246156931, -0.04860743507742882]]]"
      ]
     },
     "execution_count": 63,
     "metadata": {},
     "output_type": "execute_result"
    }
   ],
   "source": [
    "perturbed_data[0]['stress']"
   ]
  },
  {
   "cell_type": "code",
   "execution_count": 50,
   "metadata": {},
   "outputs": [],
   "source": [
    "import numpy as np\n",
    "\n",
    "structure_ids = [d['structure_id'] for d in all_data]\n",
    "positions = [np.array(d['positions']) for d in all_data]\n",
    "cells = [np.array(d['cell']) for d in all_data]\n",
    "atomic_numbers = [np.array(d['atomic_numbers']) for d in all_data]"
   ]
  },
  {
   "cell_type": "code",
   "execution_count": 51,
   "metadata": {},
   "outputs": [],
   "source": [
    "import numpy as np\n",
    "\n",
    "def perturb_positions(pos, distance, min_distance=None):\n",
    "    random_vectors = np.random.randn(pos.shape[0], 3)\n",
    "    random_vectors /= np.linalg.norm(random_vectors, axis=1, keepdims=True)\n",
    "    \n",
    "    if min_distance is not None:\n",
    "        perturbation_distances = np.random.uniform(min_distance, distance, size=pos.shape[0])\n",
    "    else:\n",
    "        perturbation_distances = np.full((pos.shape[0],), distance)\n",
    "    \n",
    "    return pos + perturbation_distances.reshape(-1, 1) * random_vectors"
   ]
  },
  {
   "cell_type": "code",
   "execution_count": 52,
   "metadata": {},
   "outputs": [],
   "source": [
    "np.random.seed(123456)\n",
    "perturbed_positions_1 = [perturb_positions(pos, 0.1) for pos in positions]\n",
    "perturbed_positions_2 = [perturb_positions(pos, 0.1) for pos in positions]"
   ]
  },
  {
   "cell_type": "code",
   "execution_count": 53,
   "metadata": {},
   "outputs": [],
   "source": [
    "from ase import Atoms\n",
    "from ase.cell import Cell\n",
    "\n",
    "atoms_list_1 = [Atoms(\n",
    "                symbols=atomic_numbers[i],\n",
    "                positions=perturbed_positions_1[i],\n",
    "                cell=Cell(cells[i])) for i in range(len(all_data))]\n",
    "for i in range(len(all_data)):\n",
    "    atoms_list_1[i].structure_id = structure_ids[i] + '_1'\n",
    "    \n",
    "atoms_list_2 = [Atoms(\n",
    "                symbols=atomic_numbers[i],\n",
    "                positions=perturbed_positions_2[i],\n",
    "                cell=Cell(cells[i])) for i in range(len(all_data))]\n",
    "for i in range(len(all_data)):\n",
    "    atoms_list_2[i].structure_id = structure_ids[i] + '_2'"
   ]
  },
  {
   "cell_type": "code",
   "execution_count": 54,
   "metadata": {},
   "outputs": [
    {
     "name": "stderr",
     "output_type": "stream",
     "text": [
      "INFO:root:MDLCalculator instantiated from config: ../configs/calculator/config_morse.yml\n",
      "INFO:root:MDLCalculator: setting up Morse for calculation\n",
      "INFO:root:MDLCalculator: weights for model No.1 loaded from ../results/2024-04-20-11-54-23-475-morse_sio2/checkpoint_0/best_checkpoint.pt\n"
     ]
    }
   ],
   "source": [
    "from matdeeplearn.common.ase_utils import MDLCalculator\n",
    "\n",
    "calc = MDLCalculator('../configs/calculator/config_morse.yml', 'cuda:2')"
   ]
  },
  {
   "cell_type": "code",
   "execution_count": 55,
   "metadata": {},
   "outputs": [],
   "source": [
    "energy_1, forces_1, stress_1 = [], [], []\n",
    "\n",
    "for atoms in atoms_list_1:\n",
    "    calc.calculate(atoms)\n",
    "    energy_1.append(calc.results['energy'])\n",
    "    forces_1.append(calc.results['forces'])\n",
    "    stress_1.append(calc.results['stress'])"
   ]
  },
  {
   "cell_type": "code",
   "execution_count": 56,
   "metadata": {},
   "outputs": [],
   "source": [
    "energy2, forces2, stress2 = [], [], []\n",
    "\n",
    "for atoms in atoms_list_2:\n",
    "    calc.calculate(atoms)\n",
    "    energy2.append(calc.results['energy'])\n",
    "    forces2.append(calc.results['forces'])\n",
    "    stress2.append(calc.results['stress'])"
   ]
  },
  {
   "cell_type": "code",
   "execution_count": 57,
   "metadata": {},
   "outputs": [],
   "source": [
    "all_perturbed_data = []\n",
    "\n",
    "for i in range(len(all_data)):\n",
    "    all_perturbed_data.append({\n",
    "        'structure_id': structure_ids[i] + '_1',\n",
    "        'positions': perturbed_positions_1[i].tolist(),\n",
    "        'cell': cells[i].tolist(),\n",
    "        'atomic_numbers': atomic_numbers[i].tolist(),\n",
    "        'y': energy_1[i].item(),\n",
    "        'forces': forces_1[i].tolist(),\n",
    "        'stress': [stress_1[i].tolist()]\n",
    "    })\n",
    "    \n",
    "for i in range(len(all_data)):\n",
    "    all_perturbed_data.append({\n",
    "        'structure_id': structure_ids[i] + '_2',\n",
    "        'positions': perturbed_positions_2[i].tolist(),\n",
    "        'cell': cells[i].tolist(),\n",
    "        'atomic_numbers': atomic_numbers[i].tolist(),\n",
    "        'y': energy2[i].item(),\n",
    "        'forces': forces2[i].tolist(),\n",
    "        'stress': [stress2[i].tolist()]\n",
    "    })"
   ]
  },
  {
   "cell_type": "code",
   "execution_count": 58,
   "metadata": {},
   "outputs": [],
   "source": [
    "import os\n",
    "\n",
    "os.makedirs('../data/perturbed_silica', exist_ok=True)"
   ]
  },
  {
   "cell_type": "code",
   "execution_count": 59,
   "metadata": {},
   "outputs": [],
   "source": [
    "with open('../data/perturbed_silica/raw.json', 'w') as file:\n",
    "    json.dump(all_perturbed_data, file)"
   ]
  },
  {
   "cell_type": "code",
   "execution_count": null,
   "metadata": {},
   "outputs": [],
   "source": []
  }
 ],
 "metadata": {
  "kernelspec": {
   "display_name": "matdeeplearn",
   "language": "python",
   "name": "python3"
  },
  "language_info": {
   "codemirror_mode": {
    "name": "ipython",
    "version": 3
   },
   "file_extension": ".py",
   "mimetype": "text/x-python",
   "name": "python",
   "nbconvert_exporter": "python",
   "pygments_lexer": "ipython3",
   "version": "3.9.19"
  }
 },
 "nbformat": 4,
 "nbformat_minor": 2
}
