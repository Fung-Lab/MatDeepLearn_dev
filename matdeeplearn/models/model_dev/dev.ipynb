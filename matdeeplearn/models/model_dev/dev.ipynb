{
 "cells": [
  {
   "cell_type": "code",
   "execution_count": 1,
   "metadata": {},
   "outputs": [],
   "source": [
    "import torch\n",
    "\n",
    "pos = torch.randn((100, 10, 3))\n",
    "delta_pos = pos.unsqueeze(1) - pos.unsqueeze(2)\n",
    "dist = torch.norm(delta_pos, dim=-1)\n",
    "delta_pos = delta_pos / dist.unsqueeze(-1) + 1e-5"
   ]
  },
  {
   "cell_type": "code",
   "execution_count": 2,
   "metadata": {},
   "outputs": [
    {
     "data": {
      "text/plain": [
       "torch.Size([100, 10, 10])"
      ]
     },
     "execution_count": 2,
     "metadata": {},
     "output_type": "execute_result"
    }
   ],
   "source": [
    "dist.shape"
   ]
  },
  {
   "cell_type": "code",
   "execution_count": 4,
   "metadata": {},
   "outputs": [],
   "source": [
    "x = torch.randn((7231, 128)).float()\n",
    "mean = torch.randn((1, 128)).float()\n",
    "std = torch.randn((1, 128)).float().abs()"
   ]
  },
  {
   "cell_type": "code",
   "execution_count": 5,
   "metadata": {},
   "outputs": [
    {
     "data": {
      "text/plain": [
       "tensor([[6.5461e-02, 1.2590e+00, 1.4827e-01,  ..., 1.6786e+00, 6.4533e-01,\n",
       "         7.7785e+00],\n",
       "        [4.2196e-01, 1.0935e-02, 3.3291e-23,  ..., 1.3699e-02, 7.7407e-01,\n",
       "         6.5006e-25],\n",
       "        [8.7565e-01, 4.2146e-01, 1.4577e-24,  ..., 2.3659e-03, 2.9539e-01,\n",
       "         0.0000e+00],\n",
       "        ...,\n",
       "        [8.0526e-01, 6.3930e-01, 1.3111e-20,  ..., 2.6217e-10, 4.5849e-02,\n",
       "         0.0000e+00],\n",
       "        [5.8605e-01, 7.2058e-01, 2.5891e-06,  ..., 9.0330e-01, 6.0524e-02,\n",
       "         9.9246e-15],\n",
       "        [4.1562e-01, 3.0344e-02, 8.6264e-07,  ..., 1.9739e-06, 5.2864e-01,\n",
       "         0.0000e+00]])"
      ]
     },
     "execution_count": 5,
     "metadata": {},
     "output_type": "execute_result"
    }
   ],
   "source": [
    "torch.exp(-0.5 * (((x - mean) / std) ** 2)) / (std)"
   ]
  },
  {
   "cell_type": "code",
   "execution_count": 6,
   "metadata": {},
   "outputs": [
    {
     "data": {
      "text/plain": [
       "tensor([[-0.2347],\n",
       "        [-1.0371],\n",
       "        [-0.7848],\n",
       "        ...,\n",
       "        [ 0.1890],\n",
       "        [-2.3931],\n",
       "        [ 0.0763]], grad_fn=<EmbeddingBackward0>)"
      ]
     },
     "execution_count": 6,
     "metadata": {},
     "output_type": "execute_result"
    }
   ],
   "source": [
    "from torch import nn\n",
    "\n",
    "mul = nn.Embedding(10000, 1)\n",
    "types = torch.randint(0, 10000, (7231,))\n",
    "mul(types)"
   ]
  },
  {
   "cell_type": "code",
   "execution_count": null,
   "metadata": {},
   "outputs": [],
   "source": []
  }
 ],
 "metadata": {
  "kernelspec": {
   "display_name": "md_env",
   "language": "python",
   "name": "python3"
  },
  "language_info": {
   "codemirror_mode": {
    "name": "ipython",
    "version": 3
   },
   "file_extension": ".py",
   "mimetype": "text/x-python",
   "name": "python",
   "nbconvert_exporter": "python",
   "pygments_lexer": "ipython3",
   "version": "3.10.0"
  }
 },
 "nbformat": 4,
 "nbformat_minor": 2
}
