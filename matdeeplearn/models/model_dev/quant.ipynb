{
 "cells": [
  {
   "cell_type": "code",
   "execution_count": 34,
   "metadata": {},
   "outputs": [],
   "source": [
    "import yaml\n",
    "from matdeeplearn.preprocessor.processor import process_data\n",
    "\n",
    "with open(\"../configs/config.yml\", 'r') as ymlfile:\n",
    "    cfg = yaml.safe_load(ymlfile)\n",
    "\n",
    "dataset = process_data(cfg[\"dataset\"])"
   ]
  },
  {
   "cell_type": "code",
   "execution_count": 35,
   "metadata": {},
   "outputs": [
    {
     "data": {
      "text/plain": [
       "QCGCNN(\n",
       "  (distance_expansion): GaussianSmearing()\n",
       "  (pre_lin_list): ModuleList(\n",
       "    (0): Linear(in_features=100, out_features=100, bias=True)\n",
       "  )\n",
       "  (conv_list): ModuleList(\n",
       "    (0-3): 4 x QCGConv(100, dim=50)\n",
       "  )\n",
       "  (bn_list): ModuleList()\n",
       "  (post_lin_list): ModuleList(\n",
       "    (0): Linear(in_features=100, out_features=150, bias=True)\n",
       "    (1-2): 2 x Linear(in_features=150, out_features=150, bias=True)\n",
       "  )\n",
       "  (lin_out): Linear(in_features=150, out_features=1, bias=True)\n",
       ")"
      ]
     },
     "execution_count": 35,
     "metadata": {},
     "output_type": "execute_result"
    }
   ],
   "source": [
    "import torch\n",
    "from matdeeplearn.models.cgcnn import CGCNN\n",
    "from matdeeplearn.common.ase_utils import MDLCalculator\n",
    "\n",
    "model = MDLCalculator._load_model(cfg, rank=0)[0]\n",
    "model"
   ]
  },
  {
   "cell_type": "code",
   "execution_count": 36,
   "metadata": {},
   "outputs": [
    {
     "data": {
      "text/plain": [
       "<All keys matched successfully>"
      ]
     },
     "execution_count": 36,
     "metadata": {},
     "output_type": "execute_result"
    }
   ],
   "source": [
    "model_pth = \"/net/csefiles/coc-fung-cluster/Qianyu/quant/MatDeepLearn_dev/results/2024-09-02-18-05-27-685-my_train_job/checkpoint_0/best_checkpoint.pt\"\n",
    "state_dict = torch.load(model_pth)[\"state_dict\"]\n",
    "model.load_state_dict(state_dict)"
   ]
  },
  {
   "cell_type": "code",
   "execution_count": 37,
   "metadata": {},
   "outputs": [],
   "source": [
    "from torch_geometric.loader import DataLoader\n",
    "\n",
    "loader = DataLoader(dataset[\"full\"], batch_size=32, shuffle=False)\n",
    "batch = next(iter(loader))"
   ]
  },
  {
   "cell_type": "code",
   "execution_count": 38,
   "metadata": {},
   "outputs": [],
   "source": [
    "import torch\n",
    "import torch.nn as nn\n",
    "import torch.quantization as quant\n",
    "\n",
    "per_tensor_qconfig = quant.QConfig(\n",
    "    activation=quant.MinMaxObserver.with_args(dtype=torch.quint8),\n",
    "    weight=quant.MinMaxObserver.with_args(dtype=torch.qint8)\n",
    ")"
   ]
  },
  {
   "cell_type": "code",
   "execution_count": 39,
   "metadata": {},
   "outputs": [],
   "source": [
    "model = model.to(\"cpu\")"
   ]
  },
  {
   "cell_type": "code",
   "execution_count": 40,
   "metadata": {},
   "outputs": [
    {
     "name": "stdout",
     "output_type": "stream",
     "text": [
      "386 ms ± 3.01 ms per loop (mean ± std. dev. of 7 runs, 1 loop each)\n"
     ]
    }
   ],
   "source": [
    "%%timeit\n",
    "with torch.no_grad():\n",
    "    model.eval()\n",
    "    for batch in loader:\n",
    "        out = model(batch)"
   ]
  },
  {
   "cell_type": "code",
   "execution_count": 42,
   "metadata": {},
   "outputs": [
    {
     "name": "stderr",
     "output_type": "stream",
     "text": [
      "/nethome/qzheng75/miniconda3/envs/quant/lib/python3.9/site-packages/torch/ao/quantization/utils.py:310: UserWarning: must run observer before calling calculate_qparams. Returning default values.\n",
      "  warnings.warn(\n"
     ]
    },
    {
     "data": {
      "text/plain": [
       "QCGCNN(\n",
       "  (distance_expansion): GaussianSmearing()\n",
       "  (pre_lin_list): ModuleList(\n",
       "    (0): QuantizedLinear(in_features=100, out_features=100, scale=0.001273611793294549, zero_point=160, qscheme=torch.per_tensor_affine)\n",
       "  )\n",
       "  (conv_list): ModuleList(\n",
       "    (0-3): 4 x QCGConv(100, dim=50)\n",
       "  )\n",
       "  (bn_list): ModuleList()\n",
       "  (post_lin_list): ModuleList(\n",
       "    (0): QuantizedLinear(in_features=100, out_features=150, scale=0.05809524282813072, zero_point=115, qscheme=torch.per_tensor_affine)\n",
       "    (1): QuantizedLinear(in_features=150, out_features=150, scale=0.03292454779148102, zero_point=88, qscheme=torch.per_tensor_affine)\n",
       "    (2): QuantizedLinear(in_features=150, out_features=150, scale=0.029851863160729408, zero_point=95, qscheme=torch.per_tensor_affine)\n",
       "  )\n",
       "  (lin_out): QuantizedLinear(in_features=150, out_features=1, scale=0.016913220286369324, zero_point=255, qscheme=torch.per_tensor_affine)\n",
       ")"
      ]
     },
     "execution_count": 42,
     "metadata": {},
     "output_type": "execute_result"
    }
   ],
   "source": [
    "model.pre_lin_list.qconfig = per_tensor_qconfig\n",
    "model.post_lin_list.qconfig = per_tensor_qconfig\n",
    "model.conv_list.qconfig = per_tensor_qconfig\n",
    "model.lin_out.qconfig = per_tensor_qconfig\n",
    "\n",
    "quant.prepare(model, inplace=True)\n",
    "\n",
    "# Calibrate the model (run some sample data through it)\n",
    "# ... (calibration code here)\n",
    "def calibrate(model, data_loader):\n",
    "    model.eval()\n",
    "    with torch.no_grad():\n",
    "        for batch in data_loader:\n",
    "            model(batch)\n",
    "\n",
    "# Run calibration\n",
    "model = model.to(\"cpu\")\n",
    "calibrate(model, loader)\n",
    "\n",
    "# Convert the model to quantized version\n",
    "quant.convert(model, inplace=True)"
   ]
  },
  {
   "cell_type": "code",
   "execution_count": 43,
   "metadata": {},
   "outputs": [
    {
     "data": {
      "text/plain": [
       "DataBatch(n_atoms=[32], pos=[320, 3], cell=[32, 3, 3], structure_id=[32], z=[320], u=[32, 3], y=[32, 1], edge_index=[2, 2704], edge_weight=[2704], edge_vec=[2704, 3], cell_offsets=[2704, 3], neighbors=[0], x=[320, 100], edge_attr=[2704, 50], batch=[320], ptr=[33])"
      ]
     },
     "execution_count": 43,
     "metadata": {},
     "output_type": "execute_result"
    }
   ],
   "source": [
    "batch = next(iter(loader))\n",
    "batch"
   ]
  },
  {
   "cell_type": "code",
   "execution_count": 44,
   "metadata": {},
   "outputs": [],
   "source": [
    "import torch\n",
    "\n",
    "def quantize_to_quint8(tensor):\n",
    "    min_val, max_val = tensor.min(), tensor.max()\n",
    "    \n",
    "    # Calculate scale and zero_point\n",
    "    scale = (max_val - min_val) / 255.0\n",
    "    zero_point = (-min_val / scale).round().clamp(0, 255).to(torch.int)\n",
    "\n",
    "    # Quantize\n",
    "    q_tensor = torch.quantize_per_tensor(tensor, scale.item(), int(zero_point), torch.quint8)\n",
    "    return q_tensor\n",
    "\n",
    "def quantize_batch(batch):\n",
    "    for key, value in batch.items():\n",
    "        if key == 'x' or key == 'pos' or key == \"cell\" or key == 'edge_weight' or key == 'edge_attr':\n",
    "            setattr(batch, key, quantize_to_quint8(value))\n",
    "    return batch"
   ]
  },
  {
   "cell_type": "code",
   "execution_count": 45,
   "metadata": {},
   "outputs": [
    {
     "name": "stdout",
     "output_type": "stream",
     "text": [
      "340 ms ± 9.5 ms per loop (mean ± std. dev. of 7 runs, 1 loop each)\n"
     ]
    }
   ],
   "source": [
    "%%timeit\n",
    "with torch.no_grad():\n",
    "    model.eval()\n",
    "    for batch in loader:\n",
    "        model(quantize_batch(batch), inference=True)"
   ]
  },
  {
   "cell_type": "code",
   "execution_count": 46,
   "metadata": {},
   "outputs": [
    {
     "data": {
      "text/plain": [
       "{'output': tensor([[0.],\n",
       "         [0.],\n",
       "         [0.],\n",
       "         [0.],\n",
       "         [0.],\n",
       "         [0.],\n",
       "         [0.],\n",
       "         [0.],\n",
       "         [0.],\n",
       "         [0.],\n",
       "         [0.],\n",
       "         [0.],\n",
       "         [0.],\n",
       "         [0.],\n",
       "         [0.],\n",
       "         [0.],\n",
       "         [0.],\n",
       "         [0.],\n",
       "         [0.],\n",
       "         [0.],\n",
       "         [0.],\n",
       "         [0.],\n",
       "         [0.],\n",
       "         [0.],\n",
       "         [0.],\n",
       "         [0.],\n",
       "         [0.],\n",
       "         [0.],\n",
       "         [0.],\n",
       "         [0.],\n",
       "         [0.],\n",
       "         [0.]]),\n",
       " 'pos_grad': None,\n",
       " 'cell_grad': None}"
      ]
     },
     "execution_count": 46,
     "metadata": {},
     "output_type": "execute_result"
    }
   ],
   "source": [
    "model(quantize_batch(next(iter(loader))), inference=True)"
   ]
  },
  {
   "cell_type": "code",
   "execution_count": null,
   "metadata": {},
   "outputs": [],
   "source": []
  }
 ],
 "metadata": {
  "kernelspec": {
   "display_name": "quant",
   "language": "python",
   "name": "python3"
  },
  "language_info": {
   "codemirror_mode": {
    "name": "ipython",
    "version": 3
   },
   "file_extension": ".py",
   "mimetype": "text/x-python",
   "name": "python",
   "nbconvert_exporter": "python",
   "pygments_lexer": "ipython3",
   "version": "3.10.14"
  }
 },
 "nbformat": 4,
 "nbformat_minor": 2
}
