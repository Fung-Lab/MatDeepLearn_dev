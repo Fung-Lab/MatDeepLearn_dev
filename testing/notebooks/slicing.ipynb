{
 "cells": [
  {
   "cell_type": "code",
   "execution_count": 1,
   "metadata": {},
   "outputs": [],
   "source": [
    "import torch"
   ]
  },
  {
   "cell_type": "code",
   "execution_count": 2,
   "metadata": {},
   "outputs": [],
   "source": [
    "z1 = torch.arange(0, 5, 1)\n",
    "z2 = torch.arange(6, 11, 1)"
   ]
  },
  {
   "cell_type": "code",
   "execution_count": 3,
   "metadata": {},
   "outputs": [],
   "source": [
    "edge_index_1 = torch.stack([torch.repeat_interleave(z1, z1.shape[0]), z1.repeat(z1.shape[0])], dim=0)\n",
    "edge_index_2 = torch.stack([torch.repeat_interleave(z2, z2.shape[0]), z2.repeat(z2.shape[0])], dim=0)"
   ]
  },
  {
   "cell_type": "code",
   "execution_count": 4,
   "metadata": {},
   "outputs": [],
   "source": [
    "edge_index = torch.cat([edge_index_1, edge_index_2], dim=-1)"
   ]
  },
  {
   "cell_type": "code",
   "execution_count": 49,
   "metadata": {},
   "outputs": [
    {
     "data": {
      "text/plain": [
       "torch.Size([2, 50])"
      ]
     },
     "execution_count": 49,
     "metadata": {},
     "output_type": "execute_result"
    }
   ],
   "source": [
    "edge_index.shape"
   ]
  },
  {
   "cell_type": "code",
   "execution_count": 5,
   "metadata": {},
   "outputs": [],
   "source": [
    "slice_partitions = torch.tensor([0, 2, 4])"
   ]
  },
  {
   "cell_type": "code",
   "execution_count": 47,
   "metadata": {},
   "outputs": [],
   "source": [
    "def edge_slicing(edge_index, slice_partitions):\n",
    "    slices = [\n",
    "        slice(slice_partitions[i].item(), slice_partitions[i + 1].item())\n",
    "        for i in range(len(slice_partitions) - 1)\n",
    "    ]\n",
    "    edges_sliced_order = torch.empty(size=(0, 1))\n",
    "    edge_partitions = [0]\n",
    "\n",
    "    for sl in slices:\n",
    "        nodes = z1[sl]\n",
    "        min_node = nodes.min()\n",
    "        max_node = nodes.max()\n",
    "        indices = torch.argwhere((edge_index[0] >= min_node) & (edge_index[0] <= max_node))\n",
    "        edges_sliced_order = torch.vstack((edges_sliced_order, indices))\n",
    "        edge_partitions.append(edge_partitions[-1] + indices.shape[0])\n",
    "\n",
    "    return torch.tensor(edge_partitions)"
   ]
  },
  {
   "cell_type": "code",
   "execution_count": 48,
   "metadata": {},
   "outputs": [
    {
     "data": {
      "text/plain": [
       "tensor([ 0, 10, 20])"
      ]
     },
     "execution_count": 48,
     "metadata": {},
     "output_type": "execute_result"
    }
   ],
   "source": [
    "edge_slicing(edge_index, slice_partitions)"
   ]
  },
  {
   "cell_type": "code",
   "execution_count": null,
   "metadata": {},
   "outputs": [],
   "source": []
  }
 ],
 "metadata": {
  "kernelspec": {
   "display_name": "matdeeplearn",
   "language": "python",
   "name": "python3"
  },
  "language_info": {
   "codemirror_mode": {
    "name": "ipython",
    "version": 3
   },
   "file_extension": ".py",
   "mimetype": "text/x-python",
   "name": "python",
   "nbconvert_exporter": "python",
   "pygments_lexer": "ipython3",
   "version": "3.10.11"
  },
  "orig_nbformat": 4
 },
 "nbformat": 4,
 "nbformat_minor": 2
}
