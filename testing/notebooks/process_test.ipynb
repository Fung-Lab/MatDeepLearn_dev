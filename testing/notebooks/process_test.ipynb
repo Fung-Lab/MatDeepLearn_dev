{
 "cells": [
  {
   "cell_type": "code",
   "execution_count": 1,
   "metadata": {},
   "outputs": [
    {
     "name": "stdout",
     "output_type": "stream",
     "text": [
      "Pretty printing has been turned OFF\n"
     ]
    }
   ],
   "source": [
    "from matdeeplearn.common import data\n",
    "import os\n",
    "import torch\n",
    "import matplotlib.pyplot as plt\n",
    "from pprint import pprint\n",
    "from matdeeplearn.common.utils import min_alloc_gpu\n",
    "\n",
    "%pprint\n",
    "%load_ext autoreload\n",
    "%autoreload 2\n",
    "\n",
    "torch.set_printoptions(profile=\"full\")"
   ]
  },
  {
   "cell_type": "code",
   "execution_count": 6,
   "metadata": {},
   "outputs": [
    {
     "name": "stdout",
     "output_type": "stream",
     "text": [
      "cuda:1\n"
     ]
    }
   ],
   "source": [
    "print(min_alloc_gpu())"
   ]
  },
  {
   "cell_type": "code",
   "execution_count": 34,
   "metadata": {},
   "outputs": [
    {
     "data": {
      "text/plain": [
       "tensor([[[-1.2096, -1.8955],\n",
       "         [-1.2552,  0.4605],\n",
       "         [-0.6179, -0.4368],\n",
       "         [-0.5720,  0.9426],\n",
       "         [-0.2981, -0.8977]],\n",
       "\n",
       "        [[-0.8490, -0.1258],\n",
       "         [ 0.0903,  0.0820],\n",
       "         [-1.5453,  1.9921],\n",
       "         [ 1.5491,  0.3598],\n",
       "         [ 0.9632, -0.0993]],\n",
       "\n",
       "        [[-0.3745,  0.6055],\n",
       "         [ 1.4648,  1.0752],\n",
       "         [ 1.2823, -0.0454],\n",
       "         [ 0.4498,  0.4470],\n",
       "         [-0.6446, -0.8779]],\n",
       "\n",
       "        [[-0.5229,  0.7868],\n",
       "         [-0.5827, -1.7958],\n",
       "         [-1.2059, -0.7563],\n",
       "         [-1.5838, -0.6310],\n",
       "         [-0.6704, -0.8889]],\n",
       "\n",
       "        [[ 0.2962,  1.1574],\n",
       "         [ 0.4079, -0.5156],\n",
       "         [ 1.8377,  0.1620],\n",
       "         [ 1.2849, -0.7459],\n",
       "         [-1.5322,  0.9353]]])"
      ]
     },
     "execution_count": 34,
     "metadata": {},
     "output_type": "execute_result"
    }
   ],
   "source": [
    "mat"
   ]
  },
  {
   "cell_type": "code",
   "execution_count": 31,
   "metadata": {},
   "outputs": [],
   "source": [
    "out, idx = torch.topk(mat, 3, dim=1)"
   ]
  },
  {
   "cell_type": "code",
   "execution_count": 32,
   "metadata": {},
   "outputs": [
    {
     "data": {
      "text/plain": [
       "torch.Size([5, 3, 2])"
      ]
     },
     "execution_count": 32,
     "metadata": {},
     "output_type": "execute_result"
    }
   ],
   "source": [
    "out.shape"
   ]
  },
  {
   "cell_type": "code",
   "execution_count": 33,
   "metadata": {},
   "outputs": [
    {
     "data": {
      "text/plain": [
       "tensor([[[-0.2981,  0.9426],\n",
       "         [-0.5720,  0.4605],\n",
       "         [-0.6179, -0.4368]],\n",
       "\n",
       "        [[ 1.5491,  1.9921],\n",
       "         [ 0.9632,  0.3598],\n",
       "         [ 0.0903,  0.0820]],\n",
       "\n",
       "        [[ 1.4648,  1.0752],\n",
       "         [ 1.2823,  0.6055],\n",
       "         [ 0.4498,  0.4470]],\n",
       "\n",
       "        [[-0.5229,  0.7868],\n",
       "         [-0.5827, -0.6310],\n",
       "         [-0.6704, -0.7563]],\n",
       "\n",
       "        [[ 1.8377,  1.1574],\n",
       "         [ 1.2849,  0.9353],\n",
       "         [ 0.4079,  0.1620]]])"
      ]
     },
     "execution_count": 33,
     "metadata": {},
     "output_type": "execute_result"
    }
   ],
   "source": [
    "out"
   ]
  },
  {
   "cell_type": "code",
   "execution_count": 2,
   "metadata": {},
   "outputs": [],
   "source": [
    "dataset = data.get_dataset(\"/nethome/sbaskaran31/projects/Sidharth/hMOF/raw_5k/\")"
   ]
  },
  {
   "cell_type": "code",
   "execution_count": 8,
   "metadata": {},
   "outputs": [],
   "source": [
    "data = dataset[0]\n",
    "data_mod = data.clone()"
   ]
  },
  {
   "cell_type": "code",
   "execution_count": 9,
   "metadata": {},
   "outputs": [],
   "source": [
    "from matdeeplearn.preprocessor.helpers import get_cutoff_distance_matrix\n",
    "from matdeeplearn.preprocessor.transforms import VirtualNodes"
   ]
  },
  {
   "cell_type": "code",
   "execution_count": 10,
   "metadata": {},
   "outputs": [
    {
     "data": {
      "text/plain": [
       "Data(o_pos=[41, 3], o_z=[41], n_atoms=[1], pos=[41, 3], cell=[3, 3], cell2=[6], y=[1], z=[41], u=[1, 3], edge_index=[2, 596], edge_weight=[596], cell_offsets=[637, 3], distances=[596], structure_id=[1], x=[41, 151], edge_attr=[596, 50])"
      ]
     },
     "execution_count": 10,
     "metadata": {},
     "output_type": "execute_result"
    }
   ],
   "source": [
    "data"
   ]
  },
  {
   "cell_type": "code",
   "execution_count": 11,
   "metadata": {},
   "outputs": [],
   "source": [
    "ts = VirtualNodes(3.0, 50, [{\"name\": \"rv\", \"cutoff\": 7.0, \"neighbors\": 50}, {\"name\": \"rr\", \"cutoff\": 2.0, \"neighbors\": 50}])"
   ]
  },
  {
   "cell_type": "code",
   "execution_count": 12,
   "metadata": {},
   "outputs": [
    {
     "data": {
      "text/plain": [
       "Data(pos=[41, 3], cell=[3, 3], cell2=[6], y=[1], z=[257], u=[1, 3], cell_offsets=[637, 3], structure_id=[1], x=[257, 151], edge_index_rv=[2, 1305], edge_attr_rv=[1305, 50], edge_index_rr=[2, 98], edge_attr_rr=[98, 50])"
      ]
     },
     "execution_count": 12,
     "metadata": {},
     "output_type": "execute_result"
    }
   ],
   "source": [
    "ts(data_mod)"
   ]
  },
  {
   "cell_type": "code",
   "execution_count": 7,
   "metadata": {},
   "outputs": [],
   "source": [
    "cd_matrix, cell_offsets = get_cutoff_distance_matrix(\n",
    "    data.pos,\n",
    "    data.cell,\n",
    "    5.0,\n",
    "    50,\n",
    "    \"cpu\",\n",
    ")"
   ]
  },
  {
   "cell_type": "code",
   "execution_count": 9,
   "metadata": {},
   "outputs": [
    {
     "data": {
      "text/plain": [
       "torch.Size([41])"
      ]
     },
     "execution_count": 9,
     "metadata": {},
     "output_type": "execute_result"
    }
   ],
   "source": [
    "data.z.shape"
   ]
  },
  {
   "cell_type": "code",
   "execution_count": 8,
   "metadata": {},
   "outputs": [
    {
     "data": {
      "text/plain": [
       "torch.Size([41, 41])"
      ]
     },
     "execution_count": 8,
     "metadata": {},
     "output_type": "execute_result"
    }
   ],
   "source": [
    "cd_matrix.shape"
   ]
  },
  {
   "cell_type": "code",
   "execution_count": null,
   "metadata": {},
   "outputs": [],
   "source": []
  }
 ],
 "metadata": {
  "kernelspec": {
   "display_name": "matdeeplearn",
   "language": "python",
   "name": "python3"
  },
  "language_info": {
   "codemirror_mode": {
    "name": "ipython",
    "version": 3
   },
   "file_extension": ".py",
   "mimetype": "text/x-python",
   "name": "python",
   "nbconvert_exporter": "python",
   "pygments_lexer": "ipython3",
   "version": "3.9.16"
  },
  "orig_nbformat": 4,
  "vscode": {
   "interpreter": {
    "hash": "43b5de48ff39c337aa7ace1391e738a88656830e814cdc3d3f7dcabd9c0da7aa"
   }
  }
 },
 "nbformat": 4,
 "nbformat_minor": 2
}
