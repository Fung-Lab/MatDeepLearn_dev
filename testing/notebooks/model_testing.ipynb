{
 "cells": [
  {
   "cell_type": "code",
   "execution_count": 1,
   "metadata": {},
   "outputs": [
    {
     "name": "stderr",
     "output_type": "stream",
     "text": [
      "/global/homes/s/sidnb13/.conda/envs/matdeeplearn/lib/python3.9/site-packages/tqdm/auto.py:22: TqdmWarning: IProgress not found. Please update jupyter and ipywidgets. See https://ipywidgets.readthedocs.io/en/stable/user_install.html\n",
      "  from .autonotebook import tqdm as notebook_tqdm\n"
     ]
    }
   ],
   "source": [
    "import torch\n",
    "import matplotlib.pyplot as plt\n",
    "from torch_geometric.data import Data\n",
    "import networkx as nx"
   ]
  },
  {
   "cell_type": "code",
   "execution_count": 2,
   "metadata": {},
   "outputs": [],
   "source": [
    "%load_ext autoreload\n",
    "%autoreload 2"
   ]
  },
  {
   "cell_type": "code",
   "execution_count": 16,
   "metadata": {},
   "outputs": [],
   "source": [
    "x = torch.ones(5, 2) # graph with 5 nodes and 2 features\n",
    "edge_index = torch.tensor([[0,0,0,0],[1,2,3,4]]) # edge list\n",
    "edge_attr = torch.ones(4, 3) # 4 edges and 3 features"
   ]
  },
  {
   "cell_type": "code",
   "execution_count": 17,
   "metadata": {},
   "outputs": [],
   "source": [
    "sample_graph = Data(x=x, edge_index=edge_index, edge_attr=edge_attr)"
   ]
  },
  {
   "cell_type": "code",
   "execution_count": 18,
   "metadata": {},
   "outputs": [
    {
     "data": {
      "image/png": "[encoded data removed]",
      "text/plain": [
       "<Figure size 640x480 with 1 Axes>"
      ]
     },
     "metadata": {},
     "output_type": "display_data"
    }
   ],
   "source": [
    "nx.draw(nx.from_edgelist(edge_index.t().numpy()), with_labels=True)"
   ]
  },
  {
   "cell_type": "code",
   "execution_count": 37,
   "metadata": {},
   "outputs": [],
   "source": [
    "from matdeeplearn.models.alignn import (\n",
    "    NodeAggregation, EdgeAggregation, NodeModel, EdgeModel, EdgeGatedGraphConv, RBFExpansion\n",
    ")"
   ]
  },
  {
   "cell_type": "code",
   "execution_count": 35,
   "metadata": {},
   "outputs": [
    {
     "name": "stdout",
     "output_type": "stream",
     "text": [
      "tensor([[0.0000, 0.0000],\n",
      "        [0.7311, 0.7311],\n",
      "        [0.7311, 0.7311],\n",
      "        [0.7311, 0.7311],\n",
      "        [0.7311, 0.7311]])\n"
     ]
    }
   ],
   "source": [
    "edge_aggr = EdgeAggregation()\n",
    "\n",
    "print(edge_aggr(x, edge_index))"
   ]
  },
  {
   "cell_type": "code",
   "execution_count": 36,
   "metadata": {},
   "outputs": [
    {
     "ename": "RuntimeError",
     "evalue": "mat1 and mat2 shapes cannot be multiplied (4x3 and 2x2)",
     "output_type": "error",
     "traceback": [
      "\u001b[0;31m---------------------------------------------------------------------------\u001b[0m",
      "\u001b[0;31mRuntimeError\u001b[0m                              Traceback (most recent call last)",
      "\u001b[1;32m/global/cfs/projectdirs/m3641/Sidharth/MatDeepLearn_dev/testing/model_testing.ipynb Cell 8\u001b[0m in \u001b[0;36m<cell line: 2>\u001b[0;34m()\u001b[0m\n\u001b[1;32m      <a href='vscode-notebook-cell://ssh-remote%2Bperlmutter-p1.nersc.gov/global/cfs/projectdirs/m3641/Sidharth/MatDeepLearn_dev/testing/model_testing.ipynb#X13sdnNjb2RlLXJlbW90ZQ%3D%3D?line=0'>1</a>\u001b[0m edge_conv \u001b[39m=\u001b[39m EdgeGatedGraphConv(\u001b[39m2\u001b[39m, \u001b[39m2\u001b[39m)\n\u001b[0;32m----> <a href='vscode-notebook-cell://ssh-remote%2Bperlmutter-p1.nersc.gov/global/cfs/projectdirs/m3641/Sidharth/MatDeepLearn_dev/testing/model_testing.ipynb#X13sdnNjb2RlLXJlbW90ZQ%3D%3D?line=1'>2</a>\u001b[0m \u001b[39mprint\u001b[39m(edge_conv(x, edge_index, edge_attr))\n",
      "File \u001b[0;32m~/.conda/envs/matdeeplearn/lib/python3.9/site-packages/torch/nn/modules/module.py:1102\u001b[0m, in \u001b[0;36mModule._call_impl\u001b[0;34m(self, *input, **kwargs)\u001b[0m\n\u001b[1;32m   1098\u001b[0m \u001b[39m# If we don't have any hooks, we want to skip the rest of the logic in\u001b[39;00m\n\u001b[1;32m   1099\u001b[0m \u001b[39m# this function, and just call forward.\u001b[39;00m\n\u001b[1;32m   1100\u001b[0m \u001b[39mif\u001b[39;00m \u001b[39mnot\u001b[39;00m (\u001b[39mself\u001b[39m\u001b[39m.\u001b[39m_backward_hooks \u001b[39mor\u001b[39;00m \u001b[39mself\u001b[39m\u001b[39m.\u001b[39m_forward_hooks \u001b[39mor\u001b[39;00m \u001b[39mself\u001b[39m\u001b[39m.\u001b[39m_forward_pre_hooks \u001b[39mor\u001b[39;00m _global_backward_hooks\n\u001b[1;32m   1101\u001b[0m         \u001b[39mor\u001b[39;00m _global_forward_hooks \u001b[39mor\u001b[39;00m _global_forward_pre_hooks):\n\u001b[0;32m-> 1102\u001b[0m     \u001b[39mreturn\u001b[39;00m forward_call(\u001b[39m*\u001b[39;49m\u001b[39minput\u001b[39;49m, \u001b[39m*\u001b[39;49m\u001b[39m*\u001b[39;49mkwargs)\n\u001b[1;32m   1103\u001b[0m \u001b[39m# Do not call functions when jit is used\u001b[39;00m\n\u001b[1;32m   1104\u001b[0m full_backward_hooks, non_full_backward_hooks \u001b[39m=\u001b[39m [], []\n",
      "File \u001b[0;32m/global/cfs/cdirs/m3641/Sidharth/MatDeepLearn_dev/matdeeplearn/models/alignn.py:110\u001b[0m, in \u001b[0;36mEdgeGatedGraphConv.forward\u001b[0;34m(self, x, edge_index, edge_attr)\u001b[0m\n\u001b[1;32m    107\u001b[0m \u001b[39mdef\u001b[39;00m \u001b[39mforward\u001b[39m(\u001b[39mself\u001b[39m, x: torch\u001b[39m.\u001b[39mTensor, edge_index: torch\u001b[39m.\u001b[39mTensor, edge_attr: torch\u001b[39m.\u001b[39mTensor) \u001b[39m-\u001b[39m\u001b[39m>\u001b[39m torch\u001b[39m.\u001b[39mTensor:\n\u001b[1;32m    108\u001b[0m     \u001b[39m# compute new edge features\u001b[39;00m\n\u001b[1;32m    109\u001b[0m     row, col \u001b[39m=\u001b[39m edge_index\n\u001b[0;32m--> 110\u001b[0m     new_edge_attr \u001b[39m=\u001b[39m \u001b[39mself\u001b[39;49m\u001b[39m.\u001b[39;49medge_model(x[row], x[col], edge_attr)\n\u001b[1;32m    111\u001b[0m     \u001b[39m# compute new node features (which are based on previously updated edge features)\u001b[39;00m\n\u001b[1;32m    112\u001b[0m     new_x \u001b[39m=\u001b[39m \u001b[39mself\u001b[39m\u001b[39m.\u001b[39mnode_model(x, edge_attr\u001b[39m.\u001b[39medge_index, new_edge_attr)\n",
      "File \u001b[0;32m~/.conda/envs/matdeeplearn/lib/python3.9/site-packages/torch/nn/modules/module.py:1102\u001b[0m, in \u001b[0;36mModule._call_impl\u001b[0;34m(self, *input, **kwargs)\u001b[0m\n\u001b[1;32m   1098\u001b[0m \u001b[39m# If we don't have any hooks, we want to skip the rest of the logic in\u001b[39;00m\n\u001b[1;32m   1099\u001b[0m \u001b[39m# this function, and just call forward.\u001b[39;00m\n\u001b[1;32m   1100\u001b[0m \u001b[39mif\u001b[39;00m \u001b[39mnot\u001b[39;00m (\u001b[39mself\u001b[39m\u001b[39m.\u001b[39m_backward_hooks \u001b[39mor\u001b[39;00m \u001b[39mself\u001b[39m\u001b[39m.\u001b[39m_forward_hooks \u001b[39mor\u001b[39;00m \u001b[39mself\u001b[39m\u001b[39m.\u001b[39m_forward_pre_hooks \u001b[39mor\u001b[39;00m _global_backward_hooks\n\u001b[1;32m   1101\u001b[0m         \u001b[39mor\u001b[39;00m _global_forward_hooks \u001b[39mor\u001b[39;00m _global_forward_pre_hooks):\n\u001b[0;32m-> 1102\u001b[0m     \u001b[39mreturn\u001b[39;00m forward_call(\u001b[39m*\u001b[39;49m\u001b[39minput\u001b[39;49m, \u001b[39m*\u001b[39;49m\u001b[39m*\u001b[39;49mkwargs)\n\u001b[1;32m   1103\u001b[0m \u001b[39m# Do not call functions when jit is used\u001b[39;00m\n\u001b[1;32m   1104\u001b[0m full_backward_hooks, non_full_backward_hooks \u001b[39m=\u001b[39m [], []\n",
      "File \u001b[0;32m/global/cfs/cdirs/m3641/Sidharth/MatDeepLearn_dev/matdeeplearn/models/alignn.py:28\u001b[0m, in \u001b[0;36mEdgeModel.forward\u001b[0;34m(self, src, dest, edge_attr, u, batch)\u001b[0m\n\u001b[1;32m     24\u001b[0m \u001b[39mdef\u001b[39;00m \u001b[39mforward\u001b[39m(\u001b[39mself\u001b[39m, src, dest, edge_attr, u\u001b[39m=\u001b[39m\u001b[39mNone\u001b[39;00m, batch\u001b[39m=\u001b[39m\u001b[39mNone\u001b[39;00m):\n\u001b[1;32m     25\u001b[0m     \u001b[39m# src and dest are the nodes connecting the edge\u001b[39;00m\n\u001b[1;32m     26\u001b[0m     new_feats \u001b[39m=\u001b[39m F\u001b[39m.\u001b[39msilu(\u001b[39mself\u001b[39m\u001b[39m.\u001b[39mbatch_norm(\n\u001b[1;32m     27\u001b[0m         \u001b[39mself\u001b[39m\u001b[39m.\u001b[39msrc_gate(src) \u001b[39m+\u001b[39m \u001b[39mself\u001b[39m\u001b[39m.\u001b[39mdest_gate(dest) \u001b[39m+\u001b[39m\n\u001b[0;32m---> 28\u001b[0m         \u001b[39mself\u001b[39;49m\u001b[39m.\u001b[39;49medge_gate(edge_attr)\n\u001b[1;32m     29\u001b[0m     ))\n\u001b[1;32m     31\u001b[0m     \u001b[39mif\u001b[39;00m \u001b[39mself\u001b[39m\u001b[39m.\u001b[39mresidual:\n\u001b[1;32m     32\u001b[0m         new_feats \u001b[39m=\u001b[39m edge_attr \u001b[39m+\u001b[39m new_feats\n",
      "File \u001b[0;32m~/.conda/envs/matdeeplearn/lib/python3.9/site-packages/torch/nn/modules/module.py:1102\u001b[0m, in \u001b[0;36mModule._call_impl\u001b[0;34m(self, *input, **kwargs)\u001b[0m\n\u001b[1;32m   1098\u001b[0m \u001b[39m# If we don't have any hooks, we want to skip the rest of the logic in\u001b[39;00m\n\u001b[1;32m   1099\u001b[0m \u001b[39m# this function, and just call forward.\u001b[39;00m\n\u001b[1;32m   1100\u001b[0m \u001b[39mif\u001b[39;00m \u001b[39mnot\u001b[39;00m (\u001b[39mself\u001b[39m\u001b[39m.\u001b[39m_backward_hooks \u001b[39mor\u001b[39;00m \u001b[39mself\u001b[39m\u001b[39m.\u001b[39m_forward_hooks \u001b[39mor\u001b[39;00m \u001b[39mself\u001b[39m\u001b[39m.\u001b[39m_forward_pre_hooks \u001b[39mor\u001b[39;00m _global_backward_hooks\n\u001b[1;32m   1101\u001b[0m         \u001b[39mor\u001b[39;00m _global_forward_hooks \u001b[39mor\u001b[39;00m _global_forward_pre_hooks):\n\u001b[0;32m-> 1102\u001b[0m     \u001b[39mreturn\u001b[39;00m forward_call(\u001b[39m*\u001b[39;49m\u001b[39minput\u001b[39;49m, \u001b[39m*\u001b[39;49m\u001b[39m*\u001b[39;49mkwargs)\n\u001b[1;32m   1103\u001b[0m \u001b[39m# Do not call functions when jit is used\u001b[39;00m\n\u001b[1;32m   1104\u001b[0m full_backward_hooks, non_full_backward_hooks \u001b[39m=\u001b[39m [], []\n",
      "File \u001b[0;32m~/.conda/envs/matdeeplearn/lib/python3.9/site-packages/torch/nn/modules/linear.py:103\u001b[0m, in \u001b[0;36mLinear.forward\u001b[0;34m(self, input)\u001b[0m\n\u001b[1;32m    102\u001b[0m \u001b[39mdef\u001b[39;00m \u001b[39mforward\u001b[39m(\u001b[39mself\u001b[39m, \u001b[39minput\u001b[39m: Tensor) \u001b[39m-\u001b[39m\u001b[39m>\u001b[39m Tensor:\n\u001b[0;32m--> 103\u001b[0m     \u001b[39mreturn\u001b[39;00m F\u001b[39m.\u001b[39;49mlinear(\u001b[39minput\u001b[39;49m, \u001b[39mself\u001b[39;49m\u001b[39m.\u001b[39;49mweight, \u001b[39mself\u001b[39;49m\u001b[39m.\u001b[39;49mbias)\n",
      "File \u001b[0;32m~/.conda/envs/matdeeplearn/lib/python3.9/site-packages/torch/nn/functional.py:1848\u001b[0m, in \u001b[0;36mlinear\u001b[0;34m(input, weight, bias)\u001b[0m\n\u001b[1;32m   1846\u001b[0m \u001b[39mif\u001b[39;00m has_torch_function_variadic(\u001b[39minput\u001b[39m, weight, bias):\n\u001b[1;32m   1847\u001b[0m     \u001b[39mreturn\u001b[39;00m handle_torch_function(linear, (\u001b[39minput\u001b[39m, weight, bias), \u001b[39minput\u001b[39m, weight, bias\u001b[39m=\u001b[39mbias)\n\u001b[0;32m-> 1848\u001b[0m \u001b[39mreturn\u001b[39;00m torch\u001b[39m.\u001b[39;49m_C\u001b[39m.\u001b[39;49m_nn\u001b[39m.\u001b[39;49mlinear(\u001b[39minput\u001b[39;49m, weight, bias)\n",
      "\u001b[0;31mRuntimeError\u001b[0m: mat1 and mat2 shapes cannot be multiplied (4x3 and 2x2)"
     ]
    }
   ],
   "source": [
    "edge_conv = EdgeGatedGraphConv(2, 2)\n",
    "print(edge_conv(x, edge_index, edge_attr))"
   ]
  },
  {
   "cell_type": "code",
   "execution_count": null,
   "metadata": {},
   "outputs": [],
   "source": [
    "node_model = NodeModel(2, 2)\n",
    "print(node_model(x, edge_index, edge_attr))"
   ]
  },
  {
   "cell_type": "code",
   "execution_count": 43,
   "metadata": {},
   "outputs": [
    {
     "name": "stdout",
     "output_type": "stream",
     "text": [
      "Lengthscale not specified, using 0.20512820780277252\n",
      "tensor([[1.0000e+00, 8.1454e-01, 4.4021e-01, 1.5784e-01, 3.7551e-02, 5.9272e-03,\n",
      "         6.2073e-04, 4.3130e-05, 1.9884e-06, 6.0818e-08, 1.2342e-09, 1.6618e-11,\n",
      "         1.4846e-13, 8.7995e-16, 3.4605e-18, 9.0290e-21, 1.5630e-23, 1.7953e-26,\n",
      "         1.3681e-29, 6.9173e-33, 2.3205e-36, 5.1648e-40, 7.5670e-44, 0.0000e+00,\n",
      "         0.0000e+00, 0.0000e+00, 0.0000e+00, 0.0000e+00, 0.0000e+00, 0.0000e+00,\n",
      "         0.0000e+00, 0.0000e+00, 0.0000e+00, 0.0000e+00, 0.0000e+00, 0.0000e+00,\n",
      "         0.0000e+00, 0.0000e+00, 0.0000e+00, 0.0000e+00],\n",
      "        [7.6351e-03, 4.5953e-02, 1.8351e-01, 4.8619e-01, 8.5466e-01, 9.9680e-01,\n",
      "         7.7135e-01, 3.9602e-01, 1.3490e-01, 3.0489e-02, 4.5719e-03, 4.5486e-04,\n",
      "         3.0025e-05, 1.3150e-06, 3.8211e-08, 7.3670e-10, 9.4234e-12, 7.9976e-14,\n",
      "         4.5033e-16, 1.6824e-18, 4.1703e-21, 6.8585e-24, 7.4838e-27, 5.4180e-30,\n",
      "         2.6025e-33, 8.2938e-37, 1.7537e-40, 2.5223e-44, 0.0000e+00, 0.0000e+00,\n",
      "         0.0000e+00, 0.0000e+00, 0.0000e+00, 0.0000e+00, 0.0000e+00, 0.0000e+00,\n",
      "         0.0000e+00, 0.0000e+00, 0.0000e+00, 0.0000e+00],\n",
      "        [3.3983e-09, 1.5113e-07, 4.4593e-06, 8.7301e-05, 1.1339e-03, 9.7723e-03,\n",
      "         5.5876e-02, 2.1198e-01, 5.3355e-01, 8.9102e-01, 9.8726e-01, 7.2578e-01,\n",
      "         3.5400e-01, 1.1456e-01, 2.4597e-02, 3.5040e-03, 3.3119e-04, 2.0769e-05,\n",
      "         8.6413e-07, 2.3855e-08, 4.3691e-10, 5.3094e-12, 4.2808e-14, 2.2900e-16,\n",
      "         8.1276e-19, 1.9139e-21, 2.9903e-24, 3.0998e-27, 2.1319e-30, 9.7286e-34,\n",
      "         2.9454e-37, 5.9167e-41, 8.4078e-45, 0.0000e+00, 0.0000e+00, 0.0000e+00,\n",
      "         0.0000e+00, 0.0000e+00, 0.0000e+00, 0.0000e+00],\n",
      "        [8.8172e-20, 2.8974e-17, 6.3171e-15, 9.1381e-13, 8.7704e-11, 5.5849e-09,\n",
      "         2.3596e-07, 6.6143e-06, 1.2301e-04, 1.5180e-03, 1.2428e-02, 6.7508e-02,\n",
      "         2.4330e-01, 5.8178e-01, 9.2300e-01, 9.7157e-01, 6.7853e-01, 3.1441e-01,\n",
      "         9.6662e-02, 1.9717e-02, 2.6684e-03, 2.3960e-04, 1.4274e-05, 5.6422e-07,\n",
      "         1.4797e-08, 2.5747e-10, 2.9723e-12, 2.2767e-14, 1.1570e-16, 3.9012e-19,\n",
      "         8.7276e-22, 1.2954e-24, 1.2757e-27, 8.3355e-31, 3.6135e-34, 1.0394e-37,\n",
      "         1.9834e-41, 2.8026e-45, 0.0000e+00, 0.0000e+00],\n",
      "        [1.3336e-34, 3.2382e-31, 5.2167e-28, 5.5760e-25, 3.9544e-22, 1.8606e-19,\n",
      "         5.8085e-17, 1.2031e-14, 1.6534e-12, 1.5075e-10, 9.1198e-09, 3.6604e-07,\n",
      "         9.7479e-06, 1.7223e-04, 2.0191e-03, 1.5704e-02, 8.1039e-02, 2.7747e-01,\n",
      "         6.3031e-01, 9.5001e-01, 9.5001e-01, 6.3031e-01, 2.7747e-01, 8.1039e-02,\n",
      "         1.5704e-02, 2.0190e-03, 1.7223e-04, 9.7478e-06, 3.6604e-07, 9.1198e-09,\n",
      "         1.5075e-10, 1.6534e-12, 1.2031e-14, 5.8085e-17, 1.8606e-19, 3.9544e-22,\n",
      "         5.5760e-25, 5.2167e-28, 3.2382e-31, 1.3336e-34]])\n"
     ]
    }
   ],
   "source": [
    "rbf = RBFExpansion()\n",
    "print(rbf(torch.tensor([0, 1, 2, 3, 4]).float()))"
   ]
  },
  {
   "cell_type": "code",
   "execution_count": null,
   "metadata": {},
   "outputs": [],
   "source": []
  }
 ],
 "metadata": {
  "kernelspec": {
   "display_name": "matdeeplearn",
   "language": "python",
   "name": "matdeeplearn"
  },
  "language_info": {
   "codemirror_mode": {
    "name": "ipython",
    "version": 3
   },
   "file_extension": ".py",
   "mimetype": "text/x-python",
   "name": "python",
   "nbconvert_exporter": "python",
   "pygments_lexer": "ipython3",
   "version": "3.9.15 (main, Nov 24 2022, 14:31:59) \n[GCC 11.2.0]"
  },
  "orig_nbformat": 4,
  "vscode": {
   "interpreter": {
    "hash": "ff67ba2b1f155eb55d760d2f5c7e6a998c06e5498fbd8b94ace7ef10bc9a99d4"
   }
  }
 },
 "nbformat": 4,
 "nbformat_minor": 2
}
