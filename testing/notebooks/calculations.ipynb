{
 "cells": [
  {
   "cell_type": "code",
   "execution_count": 1,
   "metadata": {},
   "outputs": [
    {
     "name": "stderr",
     "output_type": "stream",
     "text": [
      "/global/homes/s/sidnb13/.conda/envs/matdeeplearn/lib/python3.9/site-packages/tqdm/auto.py:22: TqdmWarning: IProgress not found. Please update jupyter and ipywidgets. See https://ipywidgets.readthedocs.io/en/stable/user_install.html\n",
      "  from .autonotebook import tqdm as notebook_tqdm\n"
     ]
    }
   ],
   "source": [
    "import torch\n",
    "import numpy as np\n",
    "from matdeeplearn.common import data"
   ]
  },
  {
   "cell_type": "code",
   "execution_count": 2,
   "metadata": {},
   "outputs": [],
   "source": [
    "%load_ext autoreload\n",
    "%autoreload 2"
   ]
  },
  {
   "cell_type": "markdown",
   "metadata": {},
   "source": []
  },
  {
   "cell_type": "code",
   "execution_count": 3,
   "metadata": {},
   "outputs": [
    {
     "name": "stdout",
     "output_type": "stream",
     "text": [
      "Fri Dec 30 08:21:54 2022       \n",
      "+-----------------------------------------------------------------------------+\n",
      "| NVIDIA-SMI 515.65.01    Driver Version: 515.65.01    CUDA Version: 11.7     |\n",
      "|-------------------------------+----------------------+----------------------+\n",
      "| GPU  Name        Persistence-M| Bus-Id        Disp.A | Volatile Uncorr. ECC |\n",
      "| Fan  Temp  Perf  Pwr:Usage/Cap|         Memory-Usage | GPU-Util  Compute M. |\n",
      "|                               |                      |               MIG M. |\n",
      "|===============================+======================+======================|\n",
      "|   0  NVIDIA A100-PCI...  On   | 00000000:C3:00.0 Off |                    0 |\n",
      "| N/A   34C    P0    34W / 250W |      2MiB / 40960MiB |      0%      Default |\n",
      "|                               |                      |             Disabled |\n",
      "+-------------------------------+----------------------+----------------------+\n",
      "                                                                               \n",
      "+-----------------------------------------------------------------------------+\n",
      "| Processes:                                                                  |\n",
      "|  GPU   GI   CI        PID   Type   Process name                  GPU Memory |\n",
      "|        ID   ID                                                   Usage      |\n",
      "|=============================================================================|\n",
      "|  No running processes found                                                 |\n",
      "+-----------------------------------------------------------------------------+\n"
     ]
    }
   ],
   "source": [
    "!nvidia-smi"
   ]
  },
  {
   "cell_type": "code",
   "execution_count": 46,
   "metadata": {},
   "outputs": [],
   "source": [
    "dataset = data.get_dataset('/global/cfs/projectdirs/m3641/Sidharth/datasets/MP_data_69K/', )"
   ]
  },
  {
   "cell_type": "markdown",
   "metadata": {},
   "source": [
    "Pass distances into RBF and replace edge_attr"
   ]
  },
  {
   "cell_type": "code",
   "execution_count": 47,
   "metadata": {},
   "outputs": [
    {
     "name": "stdout",
     "output_type": "stream",
     "text": [
      "Data(n_atoms=[1], pos=[20, 3], cell=[3, 3], y=-2.166565179824829, z=[20], u=[1, 3], edge_index=[2, 260], edge_weight=[260], cell_offsets=[280, 3], distances=[260], structure_id=[1], x=[20, 114], edge_attr=[260, 50])\n"
     ]
    }
   ],
   "source": [
    "data_samp = dataset[0].to('cuda')\n",
    "print(data_samp)"
   ]
  },
  {
   "cell_type": "code",
   "execution_count": 60,
   "metadata": {},
   "outputs": [],
   "source": [
    "from matdeeplearn.preprocessor.transforms import GetY, NumNodeTransform, LineGraphMod, ToFloat\n",
    "import torch_geometric"
   ]
  },
  {
   "cell_type": "code",
   "execution_count": 61,
   "metadata": {},
   "outputs": [
    {
     "data": {
      "text/plain": [
       "Data(n_atoms=[1], pos=[20, 3], cell=[3, 3], y=-2.166565179824829, z=[20], u=[1, 3], edge_index=[2, 260], edge_weight=[260], cell_offsets=[280, 3], distances=[260], structure_id=[1], x=[20, 114], edge_attr=[260, 50], num_nodes=20, edge_index_lg=[3156, 2], x_lg=[260, 50], num_nodes_lg=260, edge_attr_lg=[3156, 1])"
      ]
     },
     "execution_count": 61,
     "metadata": {},
     "output_type": "execute_result"
    }
   ],
   "source": [
    "compose = torch_geometric.transforms.Compose([NumNodeTransform(), LineGraphMod(), ToFloat()])\n",
    "compose(data_samp)"
   ]
  },
  {
   "cell_type": "code",
   "execution_count": 62,
   "metadata": {},
   "outputs": [
    {
     "data": {
      "text/plain": [
       "tensor([[0.0000],\n",
       "        [0.3436],\n",
       "        [1.6097],\n",
       "        ...,\n",
       "        [1.9024],\n",
       "        [1.1493],\n",
       "        [0.0000]], device='cuda:0')"
      ]
     },
     "execution_count": 62,
     "metadata": {},
     "output_type": "execute_result"
    }
   ],
   "source": [
    "data_samp.edge_attr_lg"
   ]
  },
  {
   "cell_type": "code",
   "execution_count": 48,
   "metadata": {},
   "outputs": [
    {
     "name": "stdout",
     "output_type": "stream",
     "text": [
      "tensor([5.5800, 3.1126, 3.5917, 3.3817, 3.3822, 3.1754, 3.1754, 3.5338, 3.5340,\n",
      "        1.9715, 1.9709, 2.0040, 2.0040, 5.5800, 3.1126, 3.3817, 3.3822, 3.5917,\n",
      "        3.5338, 3.5340, 3.1754, 3.1754, 1.9715, 1.9709, 2.0040, 2.0040, 3.1126,\n",
      "        5.5800, 3.6348, 3.5915, 3.5915, 3.5323, 3.5315, 2.1924, 2.1924, 3.2288,\n",
      "        3.2278, 2.3627, 2.3622, 3.1126, 5.5800, 3.5915, 3.5915, 3.6348, 3.5323,\n",
      "        3.5315, 2.1924, 2.1924, 2.3627, 2.3622, 3.2288, 3.2278, 3.5917, 3.3817,\n",
      "        3.6348, 3.5915, 5.5800, 3.3769, 1.8021, 3.8155, 1.8089, 3.6989, 1.7631,\n",
      "        1.7435, 3.7578, 3.5928, 3.3822, 3.6348, 3.5915, 5.5800, 3.3769, 1.8021,\n",
      "        1.8083, 3.8156, 1.7631, 3.6989, 1.7444, 3.7574, 3.3817, 3.5917, 3.5915,\n",
      "        3.6348, 3.3769, 5.5800, 3.8155, 1.8089, 1.8021, 3.6989, 1.7631, 3.7578,\n",
      "        1.7435, 3.3822, 3.5928, 3.5915, 3.6348, 3.3769, 5.5800, 1.8083, 3.8156,\n",
      "        1.8021, 1.7631, 3.6989, 3.7574, 1.7444, 3.1754, 3.5323, 1.8021, 1.8083,\n",
      "        5.5800, 3.5210, 2.9121, 2.9177, 3.2047, 2.8187, 3.0097, 3.3580, 2.8661,\n",
      "        3.1754, 3.5315, 1.8021, 1.8089, 5.5800, 2.9121, 3.5209, 3.2047, 2.9181,\n",
      "        2.8187, 3.3580, 3.0104, 2.8653, 3.1754, 3.5323, 1.8083, 1.8021, 3.5210,\n",
      "        2.9121, 5.5800, 2.8187, 2.9177, 3.2047, 2.8661, 3.0097, 3.3580, 3.1754,\n",
      "        3.5315, 1.8089, 1.8021, 2.9121, 3.5209, 5.5800, 2.8187, 3.2047, 2.9181,\n",
      "        2.8653, 3.3580, 3.0104, 1.9715, 2.1924, 3.6989, 1.7631, 2.9177, 3.2047,\n",
      "        3.7460, 2.8187, 5.5800, 2.9013, 2.8547, 2.9795, 2.8977, 1.9709, 2.1924,\n",
      "        1.7631, 3.6989, 3.2047, 2.9181, 2.8187, 3.7453, 2.9013, 5.5800, 2.9790,\n",
      "        2.8544, 2.8974, 1.9715, 2.1924, 3.6989, 1.7631, 3.7460, 2.8187, 2.9177,\n",
      "        3.2047, 5.5800, 2.9013, 2.8977, 2.8547, 2.9795, 1.9709, 2.1924, 1.7631,\n",
      "        3.6989, 2.8187, 3.7453, 3.2047, 2.9181, 2.9013, 5.5800, 2.8974, 2.9790,\n",
      "        2.8544, 2.0040, 3.2288, 2.3627, 1.7435, 3.7578, 3.0097, 3.3580, 2.8653,\n",
      "        2.8547, 2.9790, 2.8974, 5.5800, 3.2694, 2.0040, 3.2278, 2.3622, 1.7444,\n",
      "        3.7574, 3.3580, 3.0104, 2.8661, 2.9795, 2.8544, 2.8977, 3.2694, 5.5800,\n",
      "        2.0040, 2.3627, 3.2288, 3.7578, 1.7435, 2.8653, 3.0097, 3.3580, 2.8974,\n",
      "        2.8547, 2.9790, 5.5800, 3.2694, 2.0040, 2.3622, 3.2278, 3.7574, 1.7444,\n",
      "        2.8661, 3.3580, 3.0104, 2.8977, 2.9795, 2.8544, 3.2694, 5.5800],\n",
      "       device='cuda:0')\n"
     ]
    }
   ],
   "source": [
    "print(data_samp.distances)"
   ]
  },
  {
   "cell_type": "code",
   "execution_count": 49,
   "metadata": {},
   "outputs": [
    {
     "name": "stdout",
     "output_type": "stream",
     "text": [
      "tensor([5.5800, 3.1126, 3.5917, 3.3817, 3.3822, 3.1754, 3.1754, 3.5338, 3.5340,\n",
      "        1.9715, 1.9709, 2.0040, 2.0040, 5.5800, 3.1126, 3.3817, 3.3822, 3.5917,\n",
      "        3.5338, 3.5340, 3.1754, 3.1754, 1.9715, 1.9709, 2.0040, 2.0040, 3.1126,\n",
      "        5.5800, 3.6348, 3.5915, 3.5915, 3.5323, 3.5315, 2.1924, 2.1924, 3.2288,\n",
      "        3.2278, 2.3627, 2.3622, 3.1126, 5.5800, 3.5915, 3.5915, 3.6348, 3.5323,\n",
      "        3.5315, 2.1924, 2.1924, 2.3627, 2.3622, 3.2288, 3.2278, 3.5917, 3.3817,\n",
      "        3.6348, 3.5915, 5.5800, 3.3769, 1.8021, 3.8155, 1.8089, 3.6989, 1.7631,\n",
      "        1.7435, 3.7578, 3.5928, 3.3822, 3.6348, 3.5915, 5.5800, 3.3769, 1.8021,\n",
      "        1.8083, 3.8156, 1.7631, 3.6989, 1.7444, 3.7574, 3.3817, 3.5917, 3.5915,\n",
      "        3.6348, 3.3769, 5.5800, 3.8155, 1.8089, 1.8021, 3.6989, 1.7631, 3.7578,\n",
      "        1.7435, 3.3822, 3.5928, 3.5915, 3.6348, 3.3769, 5.5800, 1.8083, 3.8156,\n",
      "        1.8021, 1.7631, 3.6989, 3.7574, 1.7444, 3.1754, 3.5323, 1.8021, 1.8083,\n",
      "        5.5800, 3.5210, 2.9121, 2.9177, 3.2047, 2.8187, 3.0097, 3.3580, 2.8661,\n",
      "        3.1754, 3.5315, 1.8021, 1.8089, 5.5800, 2.9121, 3.5209, 3.2047, 2.9181,\n",
      "        2.8187, 3.3580, 3.0104, 2.8653, 3.1754, 3.5323, 1.8083, 1.8021, 3.5210,\n",
      "        2.9121, 5.5800, 2.8187, 2.9177, 3.2047, 2.8661, 3.0097, 3.3580, 3.1754,\n",
      "        3.5315, 1.8089, 1.8021, 2.9121, 3.5209, 5.5800, 2.8187, 3.2047, 2.9181,\n",
      "        2.8653, 3.3580, 3.0104, 1.9715, 2.1924, 3.6989, 1.7631, 2.9177, 3.2047,\n",
      "        3.7460, 2.8187, 5.5800, 2.9013, 2.8547, 2.9795, 2.8977, 1.9709, 2.1924,\n",
      "        1.7631, 3.6989, 3.2047, 2.9181, 2.8187, 3.7453, 2.9013, 5.5800, 2.9790,\n",
      "        2.8544, 2.8974, 1.9715, 2.1924, 3.6989, 1.7631, 3.7460, 2.8187, 2.9177,\n",
      "        3.2047, 5.5800, 2.9013, 2.8977, 2.8547, 2.9795, 1.9709, 2.1924, 1.7631,\n",
      "        3.6989, 2.8187, 3.7453, 3.2047, 2.9181, 2.9013, 5.5800, 2.8974, 2.9790,\n",
      "        2.8544, 2.0040, 3.2288, 2.3627, 1.7435, 3.7578, 3.0097, 3.3580, 2.8653,\n",
      "        2.8547, 2.9790, 2.8974, 5.5800, 3.2694, 2.0040, 3.2278, 2.3622, 1.7444,\n",
      "        3.7574, 3.3580, 3.0104, 2.8661, 2.9795, 2.8544, 2.8977, 3.2694, 5.5800,\n",
      "        2.0040, 2.3627, 3.2288, 3.7578, 1.7435, 2.8653, 3.0097, 3.3580, 2.8974,\n",
      "        2.8547, 2.9790, 5.5800, 3.2694, 2.0040, 2.3622, 3.2278, 3.7574, 1.7444,\n",
      "        2.8661, 3.3580, 3.0104, 2.8977, 2.9795, 2.8544, 3.2694, 5.5800],\n",
      "       device='cuda:0')\n"
     ]
    }
   ],
   "source": [
    "print(data_samp.edge_weight)"
   ]
  },
  {
   "cell_type": "code",
   "execution_count": 50,
   "metadata": {},
   "outputs": [],
   "source": [
    "from matdeeplearn.preprocessor import helpers"
   ]
  },
  {
   "cell_type": "code",
   "execution_count": 51,
   "metadata": {},
   "outputs": [
    {
     "name": "stdout",
     "output_type": "stream",
     "text": [
      "cuda:0\n",
      "cuda:0\n",
      "cuda:0\n"
     ]
    }
   ],
   "source": [
    "print(data_samp.pos.device)\n",
    "print(data_samp.cell_offsets.device)\n",
    "print(data_samp.edge_index.device)"
   ]
  },
  {
   "cell_type": "code",
   "execution_count": 52,
   "metadata": {},
   "outputs": [],
   "source": [
    "idx_i, idx_j, idx_k, idx_kj, idx_ji = helpers.triplets(\n",
    "    data_samp.edge_index,\n",
    "    data_samp.cell_offsets,\n",
    "    data_samp.x.shape[0]\n",
    ")"
   ]
  },
  {
   "cell_type": "code",
   "execution_count": 11,
   "metadata": {},
   "outputs": [
    {
     "name": "stdout",
     "output_type": "stream",
     "text": [
      "torch.Size([3156]) torch.Size([3156])\n"
     ]
    }
   ],
   "source": [
    "print(idx_kj.shape, idx_ji.shape)"
   ]
  },
  {
   "cell_type": "code",
   "execution_count": 12,
   "metadata": {},
   "outputs": [],
   "source": [
    "angle, idx_kj, idx_ji = helpers.compute_bond_angles(\n",
    "    data_samp.pos, \n",
    "    data_samp.cell_offsets, \n",
    "    data_samp.edge_index, \n",
    "    data_samp.x.shape[0]\n",
    ")"
   ]
  },
  {
   "cell_type": "code",
   "execution_count": 13,
   "metadata": {},
   "outputs": [
    {
     "name": "stdout",
     "output_type": "stream",
     "text": [
      "torch.Size([3156])\n"
     ]
    }
   ],
   "source": [
    "print(angle.shape)"
   ]
  },
  {
   "cell_type": "code",
   "execution_count": 14,
   "metadata": {},
   "outputs": [],
   "source": [
    "triplet_pairs = torch.stack([idx_kj, idx_ji], dim=0)"
   ]
  },
  {
   "cell_type": "code",
   "execution_count": 15,
   "metadata": {},
   "outputs": [],
   "source": [
    "row, col = data_samp.edge_index"
   ]
  },
  {
   "cell_type": "code",
   "execution_count": 16,
   "metadata": {},
   "outputs": [
    {
     "name": "stdout",
     "output_type": "stream",
     "text": [
      "torch.Size([2, 3156]) tensor([[  0,  39,  52,  ..., 207, 246, 259],\n",
      "        [  0,   0,   0,  ..., 259, 259, 259]], device='cuda:0')\n"
     ]
    }
   ],
   "source": [
    "print(triplet_pairs.shape, triplet_pairs)"
   ]
  },
  {
   "cell_type": "code",
   "execution_count": 17,
   "metadata": {},
   "outputs": [],
   "source": [
    "positions = data_samp.pos\n",
    "offsets = data_samp.cell_offsets\n",
    "n_atoms = len(positions)\n",
    "n_cells = len(offsets)"
   ]
  },
  {
   "cell_type": "code",
   "execution_count": 18,
   "metadata": {},
   "outputs": [
    {
     "data": {
      "text/plain": [
       "20"
      ]
     },
     "execution_count": 18,
     "metadata": {},
     "output_type": "execute_result"
    }
   ],
   "source": [
    "data_samp.num_nodes"
   ]
  },
  {
   "cell_type": "code",
   "execution_count": 19,
   "metadata": {},
   "outputs": [],
   "source": [
    "import torch_geometric\n",
    "from torch_geometric.transforms import LineGraph\n",
    "from torch_geometric.utils import remove_self_loops"
   ]
  },
  {
   "cell_type": "code",
   "execution_count": 20,
   "metadata": {},
   "outputs": [],
   "source": [
    "class NumNodeTransform(object):\n",
    "    def __call__(self, data):\n",
    "        data.num_nodes = data.x.shape[0]\n",
    "        return data"
   ]
  },
  {
   "cell_type": "code",
   "execution_count": 21,
   "metadata": {},
   "outputs": [],
   "source": [
    "lg_transform = LineGraph()\n",
    "node_num_transform = NumNodeTransform()\n",
    "compose = torch_geometric.transforms.Compose([node_num_transform, lg_transform])"
   ]
  },
  {
   "cell_type": "code",
   "execution_count": 22,
   "metadata": {},
   "outputs": [
    {
     "name": "stdout",
     "output_type": "stream",
     "text": [
      "Data(n_atoms=[1], pos=[20, 3], cell=[3, 3], y=-2.166565179824829, z=[20], u=[1, 3], edge_index=[2, 260], edge_weight=[260], cell_offsets=[280, 3], distances=[260], structure_id=[1], x=[20, 114], edge_attr=[260, 50])\n"
     ]
    }
   ],
   "source": [
    "ds = data_samp.__copy__()\n",
    "print(ds)\n",
    "lg = compose(ds)"
   ]
  },
  {
   "cell_type": "code",
   "execution_count": 23,
   "metadata": {},
   "outputs": [
    {
     "name": "stdout",
     "output_type": "stream",
     "text": [
      "Data(n_atoms=[1], pos=[20, 3], cell=[3, 3], y=-2.166565179824829, z=[20], u=[1, 3], edge_index=[2, 3380], edge_weight=[260], cell_offsets=[280, 3], distances=[260], structure_id=[1], x=[260, 50], num_nodes=260)\n"
     ]
    }
   ],
   "source": [
    "print(lg)"
   ]
  },
  {
   "cell_type": "markdown",
   "metadata": {},
   "source": [
    "Assigning the edge attributes to the line graph at correct indices."
   ]
  },
  {
   "cell_type": "code",
   "execution_count": 24,
   "metadata": {},
   "outputs": [
    {
     "data": {
      "text/plain": [
       "torch.Size([2, 3380])"
      ]
     },
     "execution_count": 24,
     "metadata": {},
     "output_type": "execute_result"
    }
   ],
   "source": [
    "lg.edge_index.shape"
   ]
  },
  {
   "cell_type": "code",
   "execution_count": 25,
   "metadata": {},
   "outputs": [],
   "source": [
    "row_lg, col_lg = triplet_pairs.to('cpu')"
   ]
  },
  {
   "cell_type": "code",
   "execution_count": 26,
   "metadata": {},
   "outputs": [
    {
     "name": "stdout",
     "output_type": "stream",
     "text": [
      "tensor([[  0,  39,  52,  ..., 207, 246, 259],\n",
      "        [  0,   0,   0,  ..., 259, 259, 259]], device='cuda:0')\n"
     ]
    }
   ],
   "source": [
    "print(triplet_pairs)"
   ]
  },
  {
   "cell_type": "markdown",
   "metadata": {},
   "source": [
    "How to assign edge attributes to $L(g)$\n",
    "- Fill line graph edge attributes with zero matrix\n",
    "- Assign embeddings at respective indices from `edges_to_assign`"
   ]
  },
  {
   "cell_type": "code",
   "execution_count": 27,
   "metadata": {},
   "outputs": [],
   "source": [
    "from scipy.spatial.distance import cdist"
   ]
  },
  {
   "cell_type": "code",
   "execution_count": 28,
   "metadata": {},
   "outputs": [],
   "source": [
    "edge_attr_lg = torch.zeros((lg.edge_index.shape[1], 40), device='cuda')"
   ]
  },
  {
   "cell_type": "code",
   "execution_count": 29,
   "metadata": {},
   "outputs": [
    {
     "name": "stdout",
     "output_type": "stream",
     "text": [
      "torch.Size([3380, 40])\n"
     ]
    }
   ],
   "source": [
    "print(edge_attr_lg.shape)"
   ]
  },
  {
   "cell_type": "code",
   "execution_count": 30,
   "metadata": {},
   "outputs": [
    {
     "name": "stdout",
     "output_type": "stream",
     "text": [
      "tensor([[  0,   0],\n",
      "        [  0,   1],\n",
      "        [  0,   2],\n",
      "        ...,\n",
      "        [259, 257],\n",
      "        [259, 258],\n",
      "        [259, 259]], device='cuda:0')\n",
      "tensor([[  0,   0],\n",
      "        [ 39,   0],\n",
      "        [ 52,   0],\n",
      "        ...,\n",
      "        [207, 259],\n",
      "        [246, 259],\n",
      "        [259, 259]], device='cuda:0')\n"
     ]
    }
   ],
   "source": [
    "print(lg.edge_index.T)\n",
    "print(triplet_pairs.T)"
   ]
  },
  {
   "cell_type": "code",
   "execution_count": 31,
   "metadata": {},
   "outputs": [],
   "source": [
    "from torch_scatter import scatter_add\n",
    "from torch_sparse import coalesce\n",
    "from matdeeplearn.preprocessor.helpers import compute_bond_angles, triplets"
   ]
  },
  {
   "cell_type": "code",
   "execution_count": 32,
   "metadata": {},
   "outputs": [],
   "source": [
    "def lg_transform(data):\n",
    "    N = data.num_nodes\n",
    "    edge_index, edge_attr = data.edge_index, data.edge_attr\n",
    "    (row, col), edge_attr = coalesce(edge_index, edge_attr, N, N)\n",
    "\n",
    "    i = torch.arange(row.size(0), dtype=torch.long, device=row.device)\n",
    "    count = scatter_add(torch.ones_like(row), row, dim=0,\n",
    "                        dim_size=data.num_nodes)\n",
    "    cumsum = torch.cat([count.new_zeros(1), count.cumsum(0)], dim=0)\n",
    "\n",
    "    cols = [\n",
    "        i[cumsum[col[j]]:cumsum[col[j] + 1]]\n",
    "        for j in range(col.size(0))\n",
    "    ]\n",
    "    rows = [row.new_full((c.numel(), ), j) for j, c in enumerate(cols)]\n",
    "\n",
    "    row, col = torch.cat(rows, dim=0), torch.cat(cols, dim=0)\n",
    "\n",
    "    data.edge_index_lg = torch.stack([row, col], dim=0)\n",
    "    data.x_lg = data.edge_attr\n",
    "    data.num_nodes_lg = edge_index.size(1)\n",
    "\n",
    "    # CUSTOM CODE FOR CALCULATING EDGE ATTRIBUTES\n",
    "    edge_attr_lg = torch.zeros(\n",
    "        (data.edge_index_lg.shape[1], 1), device='cuda')\n",
    "\n",
    "    # compute bond angles\n",
    "    angles, idx_kj, idx_ji = compute_bond_angles(\n",
    "        data.pos, data.cell_offsets, data.edge_index, data.num_nodes)\n",
    "    triplet_pairs = torch.stack([idx_kj, idx_ji], dim=0)\n",
    "    \n",
    "    print(triplet_pairs.shape, data.edge_index_lg.shape)\n",
    "    \n",
    "    return data"
   ]
  },
  {
   "cell_type": "code",
   "execution_count": 33,
   "metadata": {},
   "outputs": [
    {
     "name": "stdout",
     "output_type": "stream",
     "text": [
      "torch.Size([2, 3156]) torch.Size([2, 3380])\n"
     ]
    }
   ],
   "source": [
    "data_trans = lg_transform(data_samp)"
   ]
  },
  {
   "cell_type": "code",
   "execution_count": 34,
   "metadata": {},
   "outputs": [],
   "source": [
    "from torch.profiler import profile, record_function, ProfilerActivity"
   ]
  },
  {
   "cell_type": "code",
   "execution_count": 44,
   "metadata": {},
   "outputs": [
    {
     "name": "stdout",
     "output_type": "stream",
     "text": [
      "del = 2.56e-05\n",
      "CPU times: user 59.8 ms, sys: 16.3 ms, total: 76.1 ms\n",
      "Wall time: 91.5 ms\n"
     ]
    }
   ],
   "source": [
    "%%time\n",
    "match_indices = torch.Tensor(np.where(cdist(lg.edge_index.T.cpu(), triplet_pairs.T.cpu()) == 0)[0].reshape(-1, 1)).type(torch.long).squeeze().to('cuda')"
   ]
  },
  {
   "cell_type": "code",
   "execution_count": 45,
   "metadata": {},
   "outputs": [
    {
     "name": "stdout",
     "output_type": "stream",
     "text": [
      "del = 2.56e-05\n",
      "CPU times: user 337 µs, sys: 547 µs, total: 884 µs\n",
      "Wall time: 599 µs\n"
     ]
    }
   ],
   "source": [
    "%%time\n",
    "match_indices_2 = (lg.edge_index.T.unsqueeze(0) == triplet_pairs.T.unsqueeze(1)).sum(dim=2).argmax(dim=1).to('cuda')"
   ]
  },
  {
   "cell_type": "code",
   "execution_count": 37,
   "metadata": {},
   "outputs": [
    {
     "data": {
      "text/plain": [
       "tensor([   0,  507,  676,  ..., 2703, 3210, 3379], device='cuda:0')"
      ]
     },
     "execution_count": 37,
     "metadata": {},
     "output_type": "execute_result"
    }
   ],
   "source": [
    "match_indices_2"
   ]
  },
  {
   "cell_type": "code",
   "execution_count": 38,
   "metadata": {},
   "outputs": [
    {
     "data": {
      "text/plain": [
       "(tensor([   0,    1,    2,  ..., 3377, 3378, 3379], device='cuda:0'),\n",
       " tensor([   0,    1,    2,  ..., 3377, 3378, 3379], device='cuda:0'))"
      ]
     },
     "execution_count": 38,
     "metadata": {},
     "output_type": "execute_result"
    }
   ],
   "source": [
    "torch.sort(match_indices).values, torch.sort(match_indices_2).values"
   ]
  },
  {
   "cell_type": "code",
   "execution_count": 39,
   "metadata": {},
   "outputs": [
    {
     "data": {
      "text/plain": [
       "(tensor([   0,    1,    2,  ..., 3377, 3378, 3379], device='cuda:0'),\n",
       " tensor([   0,  507,  676,  ..., 2703, 3210, 3379], device='cuda:0'))"
      ]
     },
     "execution_count": 39,
     "metadata": {},
     "output_type": "execute_result"
    }
   ],
   "source": [
    "match_indices, match_indices_2"
   ]
  },
  {
   "cell_type": "code",
   "execution_count": 40,
   "metadata": {},
   "outputs": [
    {
     "name": "stdout",
     "output_type": "stream",
     "text": [
      "torch.Size([2, 3380])\n",
      "torch.Size([2, 3156])\n"
     ]
    }
   ],
   "source": [
    "print(lg.edge_index.shape)\n",
    "print(triplet_pairs.shape)"
   ]
  },
  {
   "cell_type": "code",
   "execution_count": 41,
   "metadata": {},
   "outputs": [
    {
     "data": {
      "text/plain": [
       "torch.Size([3156])"
      ]
     },
     "execution_count": 41,
     "metadata": {},
     "output_type": "execute_result"
    }
   ],
   "source": [
    "match_indices.shape"
   ]
  },
  {
   "cell_type": "code",
   "execution_count": 42,
   "metadata": {},
   "outputs": [],
   "source": [
    "edges = lg.edge_index.T[match_indices.squeeze(-1)]"
   ]
  },
  {
   "cell_type": "code",
   "execution_count": 43,
   "metadata": {},
   "outputs": [
    {
     "ename": "NameError",
     "evalue": "name 'angles' is not defined",
     "output_type": "error",
     "traceback": [
      "\u001b[0;31m---------------------------------------------------------------------------\u001b[0m",
      "\u001b[0;31mNameError\u001b[0m                                 Traceback (most recent call last)",
      "Cell \u001b[0;32mIn[43], line 1\u001b[0m\n\u001b[0;32m----> 1\u001b[0m edge_attr_lg[match_indices\u001b[39m.\u001b[39msqueeze(\u001b[39m-\u001b[39m\u001b[39m1\u001b[39m)] \u001b[39m=\u001b[39m angles\u001b[39m.\u001b[39mreshape(\u001b[39m-\u001b[39m\u001b[39m1\u001b[39m,\u001b[39m1\u001b[39m)\n",
      "\u001b[0;31mNameError\u001b[0m: name 'angles' is not defined"
     ]
    }
   ],
   "source": [
    "edge_attr_lg[match_indices.squeeze(-1)] = angles.reshape(-1,1)"
   ]
  },
  {
   "cell_type": "code",
   "execution_count": null,
   "metadata": {},
   "outputs": [],
   "source": [
    "dists = torch.mean(edge_attr_lg, dim=1)"
   ]
  },
  {
   "cell_type": "code",
   "execution_count": null,
   "metadata": {},
   "outputs": [],
   "source": [
    "import matplotlib.pyplot as plt"
   ]
  },
  {
   "cell_type": "code",
   "execution_count": null,
   "metadata": {},
   "outputs": [
    {
     "data": {
      "text/plain": [
       "(array([  0.,   0.,   0.,   0.,   0.,   0.,   0.,   0.,   0.,   0.,   0.,\n",
       "          0.,   0.,   0.,   0.,   0.,   0.,   0.,   0.,   0.,   0.,   0.,\n",
       "          0.,   0.,   0.,   0.,   0.,   0.,   0.,   0.,   0.,   0.,   0.,\n",
       "          0.,   0.,   0.,   0.,   0.,   0.,   0.,   0.,   0.,   0.,   0.,\n",
       "          0.,   0.,   0.,   0.,   0.,   0.,   0.,   0.,   0.,   0.,   0.,\n",
       "          0.,   0.,   0.,   0.,   0.,   0.,   0.,   0.,   0.,   0.,   0.,\n",
       "          0.,   0.,   0.,   0.,   0.,   0.,   0.,   0.,   0.,   0.,   0.,\n",
       "          0.,   0.,   0.,   0.,   0.,   0.,   0.,   0.,   0.,   0.,   0.,\n",
       "          0.,   0.,   0.,   0.,   0.,   0.,   0.,   0.,   0.,   0.,   0.,\n",
       "          0., 729.,   0.,   0.,   0.,   0.,   0.,   0.,   0.,   0.,   0.,\n",
       "          0.,   0.,   0.,   0.,   0.,   0.,   0.,   0.,   0.,   0.,   0.,\n",
       "          0.,   0.,   0.,   0.,   0.,   0.,   0.,   0.,   0.,   0.,   0.,\n",
       "          0.,   0.,   0.,   0.,   0.,   0.,   0.,   0.,   0.,   0.,   0.,\n",
       "          0.,   0.,   0.,   0.,   0.,   0.,   0.,   0.,   0.,   0.,   0.,\n",
       "          0.,   0.,   0.,   0.,   0.,   0.,   0.,   0.,   0.,   0.,   0.,\n",
       "          0.,   0.,   0.,   0.,   0.,   0.,   0.,   0.,   0.,   0.,   0.,\n",
       "          0.,   0.,   0.,   0.,   0.,   0.,   0.,   0.,   0.,   0.,   0.,\n",
       "          0.,   0.,   0.,   0.,   0.,   0.,   0.,   0.,   0.,   0.,   0.,\n",
       "          0.,   0.]),\n",
       " array([-0.5  , -0.495, -0.49 , -0.485, -0.48 , -0.475, -0.47 , -0.465,\n",
       "        -0.46 , -0.455, -0.45 , -0.445, -0.44 , -0.435, -0.43 , -0.425,\n",
       "        -0.42 , -0.415, -0.41 , -0.405, -0.4  , -0.395, -0.39 , -0.385,\n",
       "        -0.38 , -0.375, -0.37 , -0.365, -0.36 , -0.355, -0.35 , -0.345,\n",
       "        -0.34 , -0.335, -0.33 , -0.325, -0.32 , -0.315, -0.31 , -0.305,\n",
       "        -0.3  , -0.295, -0.29 , -0.285, -0.28 , -0.275, -0.27 , -0.265,\n",
       "        -0.26 , -0.255, -0.25 , -0.245, -0.24 , -0.235, -0.23 , -0.225,\n",
       "        -0.22 , -0.215, -0.21 , -0.205, -0.2  , -0.195, -0.19 , -0.185,\n",
       "        -0.18 , -0.175, -0.17 , -0.165, -0.16 , -0.155, -0.15 , -0.145,\n",
       "        -0.14 , -0.135, -0.13 , -0.125, -0.12 , -0.115, -0.11 , -0.105,\n",
       "        -0.1  , -0.095, -0.09 , -0.085, -0.08 , -0.075, -0.07 , -0.065,\n",
       "        -0.06 , -0.055, -0.05 , -0.045, -0.04 , -0.035, -0.03 , -0.025,\n",
       "        -0.02 , -0.015, -0.01 , -0.005,  0.   ,  0.005,  0.01 ,  0.015,\n",
       "         0.02 ,  0.025,  0.03 ,  0.035,  0.04 ,  0.045,  0.05 ,  0.055,\n",
       "         0.06 ,  0.065,  0.07 ,  0.075,  0.08 ,  0.085,  0.09 ,  0.095,\n",
       "         0.1  ,  0.105,  0.11 ,  0.115,  0.12 ,  0.125,  0.13 ,  0.135,\n",
       "         0.14 ,  0.145,  0.15 ,  0.155,  0.16 ,  0.165,  0.17 ,  0.175,\n",
       "         0.18 ,  0.185,  0.19 ,  0.195,  0.2  ,  0.205,  0.21 ,  0.215,\n",
       "         0.22 ,  0.225,  0.23 ,  0.235,  0.24 ,  0.245,  0.25 ,  0.255,\n",
       "         0.26 ,  0.265,  0.27 ,  0.275,  0.28 ,  0.285,  0.29 ,  0.295,\n",
       "         0.3  ,  0.305,  0.31 ,  0.315,  0.32 ,  0.325,  0.33 ,  0.335,\n",
       "         0.34 ,  0.345,  0.35 ,  0.355,  0.36 ,  0.365,  0.37 ,  0.375,\n",
       "         0.38 ,  0.385,  0.39 ,  0.395,  0.4  ,  0.405,  0.41 ,  0.415,\n",
       "         0.42 ,  0.425,  0.43 ,  0.435,  0.44 ,  0.445,  0.45 ,  0.455,\n",
       "         0.46 ,  0.465,  0.47 ,  0.475,  0.48 ,  0.485,  0.49 ,  0.495,\n",
       "         0.5  ], dtype=float32),\n",
       " <BarContainer object of 200 artists>)"
      ]
     },
     "execution_count": 37,
     "metadata": {},
     "output_type": "execute_result"
    },
    {
     "data": {
      "image/png": "[encoded data removed]",
      "text/plain": [
       "<Figure size 640x480 with 1 Axes>"
      ]
     },
     "metadata": {},
     "output_type": "display_data"
    }
   ],
   "source": [
    "plt.hist(dists.cpu().numpy(), bins=200)"
   ]
  },
  {
   "cell_type": "code",
   "execution_count": null,
   "metadata": {},
   "outputs": [],
   "source": [
    "from matdeeplearn.preprocessor.transforms import NumNodeTransform, LineGraphMod\n",
    "from torch_geometric.transforms import Compose"
   ]
  },
  {
   "cell_type": "code",
   "execution_count": null,
   "metadata": {},
   "outputs": [
    {
     "name": "stdout",
     "output_type": "stream",
     "text": [
      "True\n"
     ]
    }
   ],
   "source": [
    "sample_graph = dataset[5]\n",
    "print(sample_graph.is_directed())"
   ]
  },
  {
   "cell_type": "code",
   "execution_count": null,
   "metadata": {},
   "outputs": [],
   "source": [
    "ds2 = dataset[1]\n",
    "\n",
    "otf = Compose([NumNodeTransform(), LineGraphMod()])\n",
    "\n",
    "# print(ds2)\n",
    "otf(ds2)\n",
    "# print(ds2)"
   ]
  },
  {
   "cell_type": "code",
   "execution_count": null,
   "metadata": {},
   "outputs": [
    {
     "name": "stdout",
     "output_type": "stream",
     "text": [
      "Data(n_atoms=[1], pos=[4, 3], cell=[3, 3], y=-0.9110451936721802, z=[4], u=[1, 3], edge_index=[2, 16], edge_weight=[16], cell_offsets=[20, 3], distances=[16], structure_id=[1], x=[4, 114], edge_attr=[16, 50], num_nodes=4, edge_index_lg=[2, 64], x_lg=[16, 50], num_nodes_lg=16, edge_attr_lg=[64, 1])\n"
     ]
    }
   ],
   "source": [
    "print(ds2)"
   ]
  }
 ],
 "metadata": {
  "kernelspec": {
   "display_name": "matdeeplearn",
   "language": "python",
   "name": "python3"
  },
  "language_info": {
   "codemirror_mode": {
    "name": "ipython",
    "version": 3
   },
   "file_extension": ".py",
   "mimetype": "text/x-python",
   "name": "python",
   "nbconvert_exporter": "python",
   "pygments_lexer": "ipython3",
   "version": "3.9.15"
  },
  "vscode": {
   "interpreter": {
    "hash": "ff67ba2b1f155eb55d760d2f5c7e6a998c06e5498fbd8b94ace7ef10bc9a99d4"
   }
  }
 },
 "nbformat": 4,
 "nbformat_minor": 4
}
