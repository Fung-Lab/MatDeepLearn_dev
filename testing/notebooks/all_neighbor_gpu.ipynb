{
 "cells": [
  {
   "cell_type": "code",
   "execution_count": 1,
   "metadata": {},
   "outputs": [
    {
     "name": "stderr",
     "output_type": "stream",
     "text": [
      "/nethome/sbaskaran31/miniconda3/envs/matdeeplearn/lib/python3.9/site-packages/tqdm/auto.py:22: TqdmWarning: IProgress not found. Please update jupyter and ipywidgets. See https://ipywidgets.readthedocs.io/en/stable/user_install.html\n",
      "  from .autonotebook import tqdm as notebook_tqdm\n"
     ]
    },
    {
     "name": "stdout",
     "output_type": "stream",
     "text": [
      "Pretty printing has been turned OFF\n"
     ]
    }
   ],
   "source": [
    "from matdeeplearn.common import data\n",
    "import os\n",
    "import torch\n",
    "import matplotlib.pyplot as plt\n",
    "from pprint import pprint\n",
    "\n",
    "from matdeeplearn.preprocessor.helpers import *\n",
    "from matdeeplearn.preprocessor.transforms import *\n",
    "from matdeeplearn.common.graph_data import CustomData\n",
    "\n",
    "from torch_geometric.loader import DataLoader\n",
    "from ase import neighborlist\n",
    "\n",
    "%pprint\n",
    "%load_ext autoreload\n",
    "%autoreload 2\n",
    "\n",
    "torch.set_printoptions(profile=\"full\")"
   ]
  },
  {
   "cell_type": "code",
   "execution_count": 2,
   "metadata": {},
   "outputs": [],
   "source": [
    "from torch.profiler import profile, record_function, ProfilerActivity"
   ]
  },
  {
   "cell_type": "code",
   "execution_count": 3,
   "metadata": {},
   "outputs": [],
   "source": [
    "dataset = data.get_dataset(\"/nethome/sbaskaran31/projects/Sidharth/hMOF/raw_5k/mdl\")"
   ]
  },
  {
   "cell_type": "code",
   "execution_count": 72,
   "metadata": {},
   "outputs": [],
   "source": [
    "sample: CustomData = dataset[0]"
   ]
  },
  {
   "cell_type": "code",
   "execution_count": 5,
   "metadata": {},
   "outputs": [],
   "source": [
    "def calculate_all_neighbor_edges(data: CustomData, device: torch.device):\n",
    "    return calculate_edges_master(\n",
    "        \"ocp\",\n",
    "        True,\n",
    "        5.0,\n",
    "        250,\n",
    "        1,\n",
    "        data.structure_id,\n",
    "        data.cell,\n",
    "        data.pos,\n",
    "        data.z,\n",
    "        False,\n",
    "        False,\n",
    "        device=device,\n",
    "    )\n"
   ]
  },
  {
   "cell_type": "code",
   "execution_count": 78,
   "metadata": {},
   "outputs": [],
   "source": [
    "ts1 = VirtualNodes(**{\"device\": \"cpu\", \"virtual_box_increment\": 3, \"attrs\": [\"rr\", \"rv\"], \"rr_cutoff\": 5.0, \"rv_cutoff\": 5.0, \"cutoff_radius\" : 5.0, \"n_neighbors\" : 50,\n",
    "    \"edge_calc_method\": \"ocp\",\n",
    "    \"num_offsets\": 1,\n",
    "    \"edge_steps\" : 25,\n",
    "    \"all_neighbors\": True,\n",
    "    \"use_degree\": False})"
   ]
  },
  {
   "attachments": {},
   "cell_type": "markdown",
   "metadata": {},
   "source": [
    "CPU calculation benchmarks\n"
   ]
  },
  {
   "cell_type": "code",
   "execution_count": 79,
   "metadata": {},
   "outputs": [
    {
     "name": "stderr",
     "output_type": "stream",
     "text": [
      "STAGE:2023-04-02 17:10:00 1729111:1729111 ActivityProfilerController.cpp:294] Completed Stage: Warm Up\n",
      "[W CPUAllocator.cpp:231] Memory block of unknown size was allocated before the profiling started, profiler results will not include the deallocation event\n",
      "STAGE:2023-04-02 17:10:00 1729111:1729111 ActivityProfilerController.cpp:300] Completed Stage: Collection\n"
     ]
    }
   ],
   "source": [
    "with profile(\n",
    "    activities=[ProfilerActivity.CPU], record_shapes=True, profile_memory=True\n",
    ") as prof_cpu:\n",
    "    ts1(sample)"
   ]
  },
  {
   "cell_type": "code",
   "execution_count": 81,
   "metadata": {},
   "outputs": [],
   "source": [
    "import cProfile"
   ]
  },
  {
   "cell_type": "code",
   "execution_count": 82,
   "metadata": {},
   "outputs": [
    {
     "name": "stdout",
     "output_type": "stream",
     "text": [
      "         12906 function calls (12878 primitive calls) in 1.963 seconds\n",
      "\n",
      "   Ordered by: cumulative time\n",
      "\n",
      "   ncalls  tottime  percall  cumtime  percall filename:lineno(function)\n",
      "        1    0.000    0.000    1.965    1.965 {built-in method builtins.exec}\n",
      "        1    0.000    0.000    1.965    1.965 <string>:1(<module>)\n",
      "        1    0.000    0.000    1.965    1.965 transforms.py:76(__call__)\n",
      "        2    0.000    0.000    1.604    0.802 helpers.py:54(calculate_edges_master)\n",
      "        2    0.196    0.098    1.327    0.663 helpers.py:1029(radius_graph_pbc)\n",
      "       16    0.618    0.039    0.618    0.039 {built-in method torch.masked_select}\n",
      "        2    0.206    0.103    0.277    0.139 helpers.py:1292(get_pbc_distances)\n",
      "        2    0.221    0.110    0.221    0.111 helpers.py:188(get_mask)\n",
      "        6    0.129    0.022    0.129    0.022 {method 'repeat' of 'torch._C._TensorBase' objects}\n",
      "        2    0.000    0.000    0.101    0.050 helpers.py:727(custom_edge_feats)\n",
      "        2    0.000    0.000    0.095    0.047 module.py:1188(_call_impl)\n",
      "        2    0.040    0.020    0.095    0.047 helpers.py:280(forward)\n",
      "       13    0.092    0.007    0.092    0.007 {built-in method torch.repeat_interleave}\n",
      "        6    0.068    0.011    0.068    0.011 {built-in method torch.sum}\n",
      "        2    0.049    0.024    0.049    0.024 {built-in method torch.exp}\n",
      "       16    0.044    0.003    0.044    0.003 {built-in method torch.index_select}\n",
      "        4    0.000    0.000    0.043    0.011 _tensor.py:33(wrapped)\n",
      "        4    0.043    0.011    0.043    0.011 {method 'pow' of 'torch._C._TensorBase' objects}\n",
      "        2    0.040    0.020    0.040    0.020 {method 'bmm' of 'torch._C._TensorBase' objects}\n",
      "        2    0.039    0.019    0.039    0.019 {built-in method torch.logical_and}\n",
      "        2    0.037    0.018    0.037    0.018 {built-in method torch.gt}\n",
      "        2    0.036    0.018    0.036    0.018 {built-in method torch.le}\n",
      "        2    0.032    0.016    0.032    0.016 {built-in method torch.div}\n",
      "        2    0.001    0.000    0.029    0.015 helpers.py:1199(get_max_neighbors_mask)\n",
      "        1    0.014    0.014    0.026    0.026 helpers.py:695(custom_node_feats)\n",
      "       15    0.019    0.001    0.019    0.001 {built-in method torch.arange}\n",
      "        1    0.000    0.000    0.012    0.012 helpers.py:602(load_node_representation)\n",
      "        1    0.000    0.000    0.012    0.012 npyio.py:1720(genfromtxt)\n",
      "        1    0.000    0.000    0.011    0.011 helpers.py:843(generate_virtual_nodes)\n",
      "        1    0.000    0.000    0.009    0.009 helpers.py:829(frac_to_cart_coords)\n",
      "        1    0.000    0.000    0.007    0.007 functional.py:192(einsum)\n",
      "        1    0.007    0.007    0.007    0.007 {built-in method torch.einsum}\n",
      "        2    0.006    0.003    0.006    0.003 {built-in method torch.pow}\n",
      "        2    0.006    0.003    0.006    0.003 helpers.py:271(__init__)\n",
      "        1    0.000    0.000    0.005    0.005 _datasource.py:155(open)\n",
      "        1    0.000    0.000    0.005    0.005 _datasource.py:487(open)\n",
      "        1    0.005    0.005    0.005    0.005 {built-in method io.open}\n",
      "        1    0.000    0.000    0.004    0.004 npyio.py:2306(<listcomp>)\n",
      "        1    0.000    0.000    0.002    0.002 helpers.py:741(lattice_params_to_matrix_torch)\n",
      "    10000    0.002    0.000    0.002    0.000 _iotools.py:670(_loose_call)\n",
      "        9    0.002    0.000    0.002    0.000 {built-in method torch.zeros}\n",
      "        2    0.001    0.000    0.001    0.000 {built-in method torch.sort}\n",
      "        1    0.001    0.001    0.001    0.001 {built-in method numpy.array}\n",
      "        1    0.000    0.000    0.001    0.001 npyio.py:2164(<listcomp>)\n",
      "      100    0.000    0.000    0.001    0.000 _iotools.py:597(__init__)\n",
      "        8    0.000    0.000    0.000    0.000 functional.py:1379(norm)\n",
      "        4    0.000    0.000    0.000    0.000 _ops.py:437(__call__)\n",
      "       43    0.000    0.000    0.000    0.000 {method 'view' of 'torch._C._TensorBase' objects}\n",
      "        2    0.000    0.000    0.000    0.000 {method 'sort' of 'torch._C._TensorBase' objects}\n",
      "        2    0.000    0.000    0.000    0.000 segment_coo.py:38(segment_coo)\n",
      "        2    0.000    0.000    0.000    0.000 segment_coo.py:6(segment_sum_coo)\n",
      "      101    0.000    0.000    0.000    0.000 _iotools.py:225(__call__)\n",
      "        2    0.000    0.000    0.000    0.000 {built-in method torch._ops.torch_scatter.segment_sum_coo}\n",
      "  210/196    0.000    0.000    0.000    0.000 {built-in method builtins.getattr}\n",
      "       57    0.000    0.000    0.000    0.000 data.py:430(__setattr__)\n",
      "      101    0.000    0.000    0.000    0.000 _iotools.py:198(_delimited_splitter)\n",
      "        2    0.000    0.000    0.000    0.000 _tensor.py:632(norm)\n",
      "    70/58    0.000    0.000    0.000    0.000 {built-in method builtins.setattr}\n",
      "        7    0.000    0.000    0.000    0.000 {built-in method torch.stack}\n",
      "      231    0.000    0.000    0.000    0.000 {built-in method builtins.len}\n",
      "       57    0.000    0.000    0.000    0.000 data.py:421(__getattr__)\n",
      "      208    0.000    0.000    0.000    0.000 {method 'split' of 'str' objects}\n",
      "        2    0.000    0.000    0.000    0.000 {built-in method torch.frobenius_norm}\n",
      "       59    0.000    0.000    0.000    0.000 storage.py:67(__setattr__)\n",
      "        2    0.000    0.000    0.000    0.000 functional.py:1097(cartesian_prod)\n",
      "       18    0.000    0.000    0.000    0.000 _tensor.py:890(__len__)\n",
      "        2    0.000    0.000    0.000    0.000 {built-in method torch.cartesian_prod}\n",
      "        2    0.000    0.000    0.000    0.000 {built-in method torch.isfinite}\n",
      "        2    0.000    0.000    0.000    0.000 helpers.py:1134(<listcomp>)\n",
      "        1    0.000    0.000    0.000    0.000 graph_data.py:16(__init__)\n",
      "        5    0.000    0.000    0.000    0.000 {built-in method torch.tensor}\n",
      "        1    0.000    0.000    0.000    0.000 _datasource.py:344(_findfile)\n",
      "        2    0.000    0.000    0.000    0.000 {built-in method torch.argwhere}\n",
      "       15    0.000    0.000    0.000    0.000 {built-in method builtins.hasattr}\n",
      "        2    0.000    0.000    0.000    0.000 {method 'clamp' of 'torch._C._TensorBase' objects}\n",
      "        6    0.000    0.000    0.000    0.000 {built-in method torch.cross}\n",
      "        8    0.000    0.000    0.000    0.000 {built-in method torch.cumsum}\n",
      "        1    0.000    0.000    0.000    0.000 functional.py:396(meshgrid)\n",
      "       57    0.000    0.000    0.000    0.000 storage.py:57(__getattr__)\n",
      "        2    0.000    0.000    0.000    0.000 {method 'index_copy_' of 'torch._C._TensorBase' objects}\n",
      "        1    0.000    0.000    0.000    0.000 functional.py:492(_meshgrid)\n",
      "        2    0.000    0.000    0.000    0.000 module.py:336(register_buffer)\n",
      "        2    0.000    0.000    0.000    0.000 {method 'sum' of 'torch._C._TensorBase' objects}\n",
      "       22    0.000    0.000    0.000    0.000 {built-in method torch._C._get_tracing_state}\n",
      "        2    0.000    0.000    0.000    0.000 segment_csr.py:35(segment_csr)\n",
      "       57    0.000    0.000    0.000    0.000 storage.py:87(__setitem__)\n",
      "        2    0.000    0.000    0.000    0.000 segment_csr.py:6(segment_sum_csr)\n",
      "        2    0.000    0.000    0.000    0.000 {method 'index_fill_' of 'torch._C._TensorBase' objects}\n",
      "        1    0.000    0.000    0.000    0.000 transforms.py:211(<dictcomp>)\n",
      "        1    0.000    0.000    0.000    0.000 _iotools.py:86(flatten_dtype)\n",
      "        1    0.000    0.000    0.000    0.000 pathlib.py:1079(__new__)\n",
      "        2    0.000    0.000    0.000    0.000 module.py:309(__init__)\n",
      "       12    0.000    0.000    0.000    0.000 {method 'expand' of 'torch._C._TensorBase' objects}\n",
      "        2    0.000    0.000    0.000    0.000 {built-in method numpy.core._multiarray_umath.implement_array_function}\n",
      "        1    0.000    0.000    0.000    0.000 <__array_function__ internals>:177(prod)\n",
      "        3    0.000    0.000    0.000    0.000 {method 'flatten' of 'torch._C._TensorBase' objects}\n",
      "        1    0.000    0.000    0.000    0.000 pathlib.py:702(_from_parts)\n",
      "        6    0.000    0.000    0.000    0.000 {built-in method torch.norm}\n",
      "        2    0.000    0.000    0.000    0.000 {built-in method torch._ops.torch_scatter.segment_sum_csr}\n",
      "      100    0.000    0.000    0.000    0.000 _iotools.py:583(_find_map_entry)\n",
      "        1    0.000    0.000    0.000    0.000 {built-in method torch.meshgrid}\n",
      "        1    0.000    0.000    0.000    0.000 fromnumeric.py:2927(prod)\n",
      "        2    0.000    0.000    0.000    0.000 {built-in method torch.linspace}\n",
      "        1    0.000    0.000    0.000    0.000 fromnumeric.py:69(_wrapreduction)\n",
      "        1    0.000    0.000    0.000    0.000 _datasource.py:431(exists)\n",
      "        2    0.000    0.000    0.000    0.000 pathlib.py:682(_parse_args)\n",
      "        1    0.000    0.000    0.000    0.000 genericpath.py:16(exists)\n",
      "        2    0.000    0.000    0.000    0.000 {built-in method torch.full}\n",
      "        2    0.000    0.000    0.000    0.000 {method 'new_ones' of 'torch._C._TensorBase' objects}\n",
      "        8    0.000    0.000    0.000    0.000 {method 'max' of 'torch._C._TensorBase' objects}\n",
      "        1    0.000    0.000    0.000    0.000 {built-in method posix.stat}\n",
      "  160/158    0.000    0.000    0.000    0.000 {built-in method builtins.isinstance}\n",
      "        1    0.000    0.000    0.000    0.000 {built-in method torch.deg2rad}\n",
      "        1    0.000    0.000    0.000    0.000 _datasource.py:246(__init__)\n",
      "        1    0.000    0.000    0.000    0.000 {built-in method torch.cat}\n",
      "        2    0.000    0.000    0.000    0.000 {built-in method torch.cos}\n",
      "        3    0.000    0.000    0.000    0.000 _datasource.py:303(_isurl)\n",
      "        1    0.000    0.000    0.000    0.000 {method 'reduce' of 'numpy.ufunc' objects}\n",
      "        1    0.000    0.000    0.000    0.000 posixpath.py:373(abspath)\n",
      "        4    0.000    0.000    0.000    0.000 parse.py:372(urlparse)\n",
      "        4    0.000    0.000    0.000    0.000 module.py:1256(__getattr__)\n",
      "        2    0.000    0.000    0.000    0.000 module.py:1272(__setattr__)\n",
      "        2    0.000    0.000    0.000    0.000 _tensor.py:906(__iter__)\n",
      "        2    0.000    0.000    0.000    0.000 pathlib.py:64(parse_parts)\n",
      "        2    0.000    0.000    0.000    0.000 {method 'expand_as' of 'torch._C._TensorBase' objects}\n",
      "        2    0.000    0.000    0.000    0.000 {built-in method torch.bmm}\n",
      "       12    0.000    0.000    0.000    0.000 _VF.py:26(__getattr__)\n",
      "        2    0.000    0.000    0.000    0.000 {method 'squeeze' of 'torch._C._TensorBase' objects}\n",
      "        1    0.000    0.000    0.000    0.000 {built-in method builtins.next}\n",
      "        1    0.000    0.000    0.000    0.000 _datasource.py:375(abspath)\n",
      "       73    0.000    0.000    0.000    0.000 storage.py:84(__getitem__)\n",
      "        4    0.000    0.000    0.000    0.000 {built-in method torch.empty}\n",
      "        1    0.000    0.000    0.000    0.000 data.py:394(__init__)\n",
      "        2    0.000    0.000    0.000    0.000 _datasource.py:294(_possible_names)\n",
      "        6    0.000    0.000    0.000    0.000 {built-in method torch.ceil}\n",
      "        3    0.000    0.000    0.000    0.000 _datasource.py:263(_iszip)\n",
      "        1    0.000    0.000    0.000    0.000 {method 'astype' of 'numpy.ndarray' objects}\n",
      "        2    0.000    0.000    0.000    0.000 {built-in method torch.sin}\n",
      "        2    0.000    0.000    0.000    0.000 {built-in method torch.all}\n",
      "        2    0.000    0.000    0.000    0.000 {method 'unbind' of 'torch._C._TensorBase' objects}\n",
      "        2    0.000    0.000    0.000    0.000 {method 'unsqueeze' of 'torch._C._TensorBase' objects}\n",
      "        4    0.000    0.000    0.000    0.000 parse.py:437(urlsplit)\n",
      "        3    0.000    0.000    0.000    0.000 {method 'to' of 'torch._C._TensorBase' objects}\n",
      "        1    0.000    0.000    0.000    0.000 _iotools.py:284(__init__)\n",
      "        1    0.000    0.000    0.000    0.000 npyio.py:2062(<listcomp>)\n",
      "        4    0.000    0.000    0.000    0.000 {built-in method torch.transpose}\n",
      "        3    0.000    0.000    0.000    0.000 data.py:770(pos)\n",
      "        1    0.000    0.000    0.000    0.000 contextlib.py:321(__exit__)\n",
      "      100    0.000    0.000    0.000    0.000 _iotools.py:530(_dtypeortype)\n",
      "        1    0.000    0.000    0.000    0.000 {built-in method torch.clamp}\n",
      "        2    0.000    0.000    0.000    0.000 {built-in method torch._C._log_api_usage_once}\n",
      "        2    0.000    0.000    0.000    0.000 _datasource.py:417(_sanitize_relative_path)\n",
      "        2    0.000    0.000    0.000    0.000 parameter.py:8(__instancecheck__)\n",
      "        1    0.000    0.000    0.000    0.000 {built-in method torch.from_numpy}\n",
      "        3    0.000    0.000    0.000    0.000 posixpath.py:334(normpath)\n",
      "      104    0.000    0.000    0.000    0.000 _iotools.py:11(_decode_line)\n",
      "        1    0.000    0.000    0.000    0.000 {method 'close' of '_io.TextIOWrapper' objects}\n",
      "        2    0.000    0.000    0.000    0.000 posixpath.py:71(join)\n",
      "        3    0.000    0.000    0.000    0.000 posixpath.py:117(splitext)\n",
      "       37    0.000    0.000    0.000    0.000 {method 'get' of 'dict' objects}\n",
      "        4    0.000    0.000    0.000    0.000 codecs.py:319(decode)\n",
      "        1    0.000    0.000    0.000    0.000 storage.py:42(__init__)\n",
      "      136    0.000    0.000    0.000    0.000 {method 'append' of 'list' objects}\n",
      "        1    0.000    0.000    0.000    0.000 pathlib.py:974(__truediv__)\n",
      "       28    0.000    0.000    0.000    0.000 {method 'dim' of 'torch._C._TensorBase' objects}\n",
      "      101    0.000    0.000    0.000    0.000 {method 'strip' of 'str' objects}\n",
      "        1    0.000    0.000    0.000    0.000 {built-in method torch.arccos}\n",
      "        1    0.000    0.000    0.000    0.000 pathlib.py:736(_make_child)\n",
      "        1    0.000    0.000    0.000    0.000 npyio.py:736(_ensure_ndmin_ndarray)\n",
      "        5    0.000    0.000    0.000    0.000 _datasource.py:130(keys)\n",
      "        1    0.000    0.000    0.000    0.000 {built-in method posix.getcwd}\n",
      "        1    0.000    0.000    0.000    0.000 transforms.py:166(<listcomp>)\n",
      "        1    0.000    0.000    0.000    0.000 pathlib.py:742(__str__)\n",
      "        1    0.000    0.000    0.000    0.000 _bootlocale.py:33(getpreferredencoding)\n",
      "       28    0.000    0.000    0.000    0.000 {built-in method torch._C._has_torch_function_unary}\n",
      "        3    0.000    0.000    0.000    0.000 genericpath.py:121(_splitext)\n",
      "        2    0.000    0.000    0.000    0.000 {method 'format' of 'str' objects}\n",
      "        4    0.000    0.000    0.000    0.000 {method 'float' of 'torch._C._TensorBase' objects}\n",
      "        1    0.000    0.000    0.000    0.000 feature_store.py:251(__init__)\n",
      "       10    0.000    0.000    0.000    0.000 {built-in method sys.intern}\n",
      "        1    0.000    0.000    0.000    0.000 <__array_function__ internals>:177(squeeze)\n",
      "        8    0.000    0.000    0.000    0.000 parse.py:114(_coerce_args)\n",
      "        1    0.000    0.000    0.000    0.000 abc.py:117(__instancecheck__)\n",
      "        4    0.000    0.000    0.000    0.000 {built-in method _codecs.utf_8_decode}\n",
      "        1    0.000    0.000    0.000    0.000 posixpath.py:60(isabs)\n",
      "        2    0.000    0.000    0.000    0.000 pathlib.py:303(splitroot)\n",
      "        2    0.000    0.000    0.000    0.000 graph_store.py:90(__init__)\n",
      "        8    0.000    0.000    0.000    0.000 _collections_abc.py:767(__contains__)\n",
      "        8    0.000    0.000    0.000    0.000 {built-in method torch._C._has_torch_function}\n",
      "        3    0.000    0.000    0.000    0.000 {method 'size' of 'torch._C._TensorBase' objects}\n",
      "        1    0.000    0.000    0.000    0.000 _iotools.py:169(__init__)\n",
      "        1    0.000    0.000    0.000    0.000 _datasource.py:280(_splitzipext)\n",
      "        2    0.000    0.000    0.000    0.000 {method 'long' of 'torch._C._TensorBase' objects}\n",
      "        1    0.000    0.000    0.000    0.000 _iotools.py:822(easy_dtype)\n",
      "        1    0.000    0.000    0.000    0.000 pathlib.py:986(parent)\n",
      "        1    0.000    0.000    0.000    0.000 {built-in method _locale.nl_langinfo}\n",
      "        1    0.000    0.000    0.000    0.000 codecs.py:309(__init__)\n",
      "        1    0.000    0.000    0.000    0.000 transforms.py:188(<listcomp>)\n",
      "        8    0.000    0.000    0.000    0.000 data.py:443(__getitem__)\n",
      "       24    0.000    0.000    0.000    0.000 {method 'replace' of 'str' objects}\n",
      "        1    0.000    0.000    0.000    0.000 fromnumeric.py:1478(squeeze)\n",
      "        4    0.000    0.000    0.000    0.000 <string>:1(<lambda>)\n",
      "        3    0.000    0.000    0.000    0.000 {built-in method builtins.iter}\n",
      "        7    0.000    0.000    0.000    0.000 {method 'keys' of 'dict' objects}\n",
      "        7    0.000    0.000    0.000    0.000 {built-in method __new__ of type object at 0x7372a0}\n",
      "        1    0.000    0.000    0.000    0.000 _iotools.py:37(_is_string_like)\n",
      "        1    0.000    0.000    0.000    0.000 {built-in method _abc._abc_instancecheck}\n",
      "        8    0.000    0.000    0.000    0.000 {method 'startswith' of 'str' objects}\n",
      "        6    0.000    0.000    0.000    0.000 {method 'rfind' of 'str' objects}\n",
      "        2    0.000    0.000    0.000    0.000 data.py:750(x)\n",
      "       17    0.000    0.000    0.000    0.000 {method 'lstrip' of 'str' objects}\n",
      "        1    0.000    0.000    0.000    0.000 pathlib.py:725(_format_parsed_parts)\n",
      "        1    0.000    0.000    0.000    0.000 transforms.py:168(<listcomp>)\n",
      "        2    0.000    0.000    0.000    0.000 pathlib.py:715(_from_parsed_parts)\n",
      "        6    0.000    0.000    0.000    0.000 _datasource.py:103(_load)\n",
      "        3    0.000    0.000    0.000    0.000 posixpath.py:41(_get_sep)\n",
      "       16    0.000    0.000    0.000    0.000 {built-in method posix.fspath}\n",
      "        1    0.000    0.000    0.000    0.000 {method 'disable' of '_lsprof.Profiler' objects}\n",
      "        1    0.000    0.000    0.000    0.000 data.py:762(edge_attr)\n",
      "        1    0.000    0.000    0.000    0.000 contextlib.py:317(__init__)\n",
      "        4    0.000    0.000    0.000    0.000 posixpath.py:131(splitdrive)\n",
      "        1    0.000    0.000    0.000    0.000 data.py:754(edge_index)\n",
      "        1    0.000    0.000    0.000    0.000 transforms.py:189(<listcomp>)\n",
      "        1    0.000    0.000    0.000    0.000 data.py:766(y)\n",
      "        1    0.000    0.000    0.000    0.000 codecs.py:260(__init__)\n",
      "        3    0.000    0.000    0.000    0.000 {method 'endswith' of 'str' objects}\n",
      "        1    0.000    0.000    0.000    0.000 _datasource.py:256(__del__)\n",
      "        3    0.000    0.000    0.000    0.000 pathlib.py:1089(_init)\n",
      "        1    0.000    0.000    0.000    0.000 transforms.py:191(<listcomp>)\n",
      "        2    0.000    0.000    0.000    0.000 {function _ParameterMeta.__instancecheck__ at 0x7fcd29f9e040}\n",
      "        1    0.000    0.000    0.000    0.000 transforms.py:190(<listcomp>)\n",
      "        3    0.000    0.000    0.000    0.000 {method 'join' of 'str' objects}\n",
      "        5    0.000    0.000    0.000    0.000 {method 'items' of 'dict' objects}\n",
      "        2    0.000    0.000    0.000    0.000 {method 'discard' of 'set' objects}\n",
      "        1    0.000    0.000    0.000    0.000 fromnumeric.py:70(<dictcomp>)\n",
      "        8    0.000    0.000    0.000    0.000 parse.py:103(_noop)\n",
      "        1    0.000    0.000    0.000    0.000 transforms.py:193(<listcomp>)\n",
      "        1    0.000    0.000    0.000    0.000 pathlib.py:102(join_parsed_parts)\n",
      "        1    0.000    0.000    0.000    0.000 transforms.py:192(<listcomp>)\n",
      "        1    0.000    0.000    0.000    0.000 npyio.py:726(_ensure_ndmin_ndarray_check_param)\n",
      "        1    0.000    0.000    0.000    0.000 _datasource.py:149(__getitem__)\n",
      "        1    0.000    0.000    0.000    0.000 {method 'update' of 'dict' objects}\n",
      "        1    0.000    0.000    0.000    0.000 {method 'squeeze' of 'numpy.ndarray' objects}\n",
      "        1    0.000    0.000    0.000    0.000 {method 'add' of 'set' objects}\n",
      "        1    0.000    0.000    0.000    0.000 {method 'extend' of 'list' objects}\n",
      "        2    0.000    0.000    0.000    0.000 {method 'reverse' of 'list' objects}\n",
      "        1    0.000    0.000    0.000    0.000 fromnumeric.py:1474(_squeeze_dispatcher)\n",
      "        1    0.000    0.000    0.000    0.000 fromnumeric.py:2922(_prod_dispatcher)\n",
      "        1    0.000    0.000    0.000    0.000 contextlib.py:319(__enter__)\n",
      "\n",
      "\n"
     ]
    }
   ],
   "source": [
    "cProfile.run(\"ts1(sample)\", sort=\"cumtime\")"
   ]
  },
  {
   "cell_type": "code",
   "execution_count": 80,
   "metadata": {},
   "outputs": [
    {
     "name": "stdout",
     "output_type": "stream",
     "text": [
      "----------------------------------  ------------  ------------  ------------  ------------  ------------  ------------  ------------  ------------  \n",
      "                              Name    Self CPU %      Self CPU   CPU total %     CPU total  CPU time avg       CPU Mem  Self CPU Mem    # of Calls  \n",
      "----------------------------------  ------------  ------------  ------------  ------------  ------------  ------------  ------------  ------------  \n",
      "               aten::masked_select        46.33%      54.986ms        55.11%      65.417ms       4.089ms       1.02 Mb    -298.85 Mb            16  \n",
      "                       aten::index        13.84%      16.430ms        13.98%      16.590ms     535.161us       2.29 Mb       2.17 Mb            31  \n",
      "                       aten::copy_        12.16%      14.434ms        12.16%      14.434ms     148.804us           0 b           0 b            97  \n",
      "           aten::repeat_interleave         2.56%       3.044ms         8.29%       9.834ms     378.231us      48.84 Mb      -2.70 Mb            26  \n",
      "                         aten::add         7.78%       9.239ms         7.81%       9.266ms     579.125us      43.15 Mb      43.15 Mb            16  \n",
      "                         aten::sum         1.09%       1.299ms         7.06%       8.374ms     348.917us      13.61 Mb    -150.62 Mb            24  \n",
      "                          aten::to         0.07%      87.000us         5.54%       6.570ms      68.438us     164.06 Mb     161.59 Kb            96  \n",
      "                    aten::_to_copy         0.15%     180.000us         5.49%       6.522ms     159.073us     164.06 Mb      13.78 Mb            41  \n",
      "                         aten::sub         5.38%       6.387ms         5.38%       6.387ms     354.833us      43.62 Mb      43.62 Mb            18  \n",
      "                      aten::repeat         0.07%      79.000us         4.24%       5.038ms     839.667us      95.24 Mb      20.41 Mb             6  \n",
      "----------------------------------  ------------  ------------  ------------  ------------  ------------  ------------  ------------  ------------  \n",
      "Self CPU time total: 118.694ms\n",
      "\n",
      "----------------------------------  ------------  ------------  ------------  ------------  ------------  ------------  ------------  ------------  \n",
      "                              Name    Self CPU %      Self CPU   CPU total %     CPU total  CPU time avg       CPU Mem  Self CPU Mem    # of Calls  \n",
      "----------------------------------  ------------  ------------  ------------  ------------  ------------  ------------  ------------  ------------  \n",
      "                       aten::empty         0.13%     157.000us         0.13%     157.000us       0.940us     377.70 Mb     377.70 Mb           167  \n",
      "                          aten::to         0.07%      87.000us         5.54%       6.570ms      68.438us     164.06 Mb     161.59 Kb            96  \n",
      "                    aten::_to_copy         0.15%     180.000us         5.49%       6.522ms     159.073us     164.06 Mb      13.78 Mb            41  \n",
      "               aten::empty_strided         0.05%      64.000us         0.05%      64.000us       1.524us     150.28 Mb     150.28 Mb            42  \n",
      "                      aten::repeat         0.07%      79.000us         4.24%       5.038ms     839.667us      95.24 Mb      20.41 Mb             6  \n",
      "           aten::repeat_interleave         2.56%       3.044ms         8.29%       9.834ms     378.231us      48.84 Mb      -2.70 Mb            26  \n",
      "                aten::index_select         3.26%       3.872ms         3.31%       3.925ms     135.345us      47.76 Mb       6.27 Mb            29  \n",
      "                         aten::sub         5.38%       6.387ms         5.38%       6.387ms     354.833us      43.62 Mb      43.62 Mb            18  \n",
      "                         aten::add         7.78%       9.239ms         7.81%       9.266ms     579.125us      43.15 Mb      43.15 Mb            16  \n",
      "                         aten::pow         1.24%       1.473ms         1.24%       1.473ms     245.500us      42.31 Mb      42.31 Mb             6  \n",
      "----------------------------------  ------------  ------------  ------------  ------------  ------------  ------------  ------------  ------------  \n",
      "Self CPU time total: 118.694ms\n",
      "\n"
     ]
    }
   ],
   "source": [
    "print(prof_cpu.key_averages().table(sort_by=\"cpu_time_total\", row_limit=10))\n",
    "print(prof_cpu.key_averages().table(sort_by=\"cpu_memory_usage\", row_limit=10))"
   ]
  },
  {
   "cell_type": "code",
   "execution_count": 73,
   "metadata": {},
   "outputs": [
    {
     "name": "stderr",
     "output_type": "stream",
     "text": [
      "STAGE:2023-04-02 17:08:21 1729111:1729111 ActivityProfilerController.cpp:294] Completed Stage: Warm Up\n"
     ]
    },
    {
     "name": "stdout",
     "output_type": "stream",
     "text": [
      "----------------------------------  ------------  ------------  ------------  ------------  ------------  ------------  \n",
      "                              Name    Self CPU %      Self CPU   CPU total %     CPU total  CPU time avg    # of Calls  \n",
      "----------------------------------  ------------  ------------  ------------  ------------  ------------  ------------  \n",
      "                       aten::zeros         0.00%      11.000us         0.01%      28.000us      28.000us             1  \n",
      "                       aten::empty         0.00%      16.000us         0.00%      16.000us      16.000us             1  \n",
      "                       aten::zero_         0.00%       1.000us         0.00%       1.000us       1.000us             1  \n",
      "                  VN_Transform_CPU         2.03%      10.169ms        99.99%     500.809ms     500.809ms             1  \n",
      "                       aten::empty         0.00%      22.000us         0.00%      22.000us      22.000us             1  \n",
      "                      aten::arange         0.00%       8.000us         0.01%      41.000us      41.000us             1  \n",
      "                       aten::empty         0.00%       1.000us         0.00%       1.000us       1.000us             1  \n",
      "                      aten::arange         0.01%      28.000us         0.01%      32.000us      32.000us             1  \n",
      "                     aten::resize_         0.00%       4.000us         0.00%       4.000us       4.000us             1  \n",
      "                      aten::arange         0.00%       1.000us         0.00%       6.000us       6.000us             1  \n",
      "                       aten::empty         0.00%       3.000us         0.00%       3.000us       3.000us             1  \n",
      "                      aten::arange         0.00%       1.000us         0.00%       2.000us       2.000us             1  \n",
      "                     aten::resize_         0.00%       1.000us         0.00%       1.000us       1.000us             1  \n",
      "                      aten::arange         0.00%       6.000us         0.00%       9.000us       9.000us             1  \n",
      "                       aten::empty         0.00%       2.000us         0.00%       2.000us       2.000us             1  \n",
      "                      aten::arange         0.00%       1.000us         0.00%       1.000us       1.000us             1  \n",
      "                     aten::resize_         0.00%       0.000us         0.00%       0.000us       0.000us             1  \n",
      "                       aten::slice         0.00%      19.000us         0.00%      23.000us      23.000us             1  \n",
      "                  aten::as_strided         0.00%       4.000us         0.00%       4.000us       4.000us             1  \n",
      "                       aten::slice         0.00%       3.000us         0.00%       3.000us       3.000us             1  \n",
      "                  aten::as_strided         0.00%       0.000us         0.00%       0.000us       0.000us             1  \n",
      "                       aten::slice         0.00%       2.000us         0.00%       2.000us       2.000us             1  \n",
      "                  aten::as_strided         0.00%       0.000us         0.00%       0.000us       0.000us             1  \n",
      "                    aten::meshgrid         0.00%      24.000us         0.01%      57.000us      57.000us             1  \n",
      "                        aten::view         0.00%      13.000us         0.00%      13.000us      13.000us             1  \n",
      "                      aten::expand         0.00%       6.000us         0.00%       8.000us       8.000us             1  \n",
      "                  aten::as_strided         0.00%       2.000us         0.00%       2.000us       2.000us             1  \n",
      "                        aten::view         0.00%       2.000us         0.00%       2.000us       2.000us             1  \n",
      "                      aten::expand         0.00%       5.000us         0.00%       6.000us       6.000us             1  \n",
      "                  aten::as_strided         0.00%       1.000us         0.00%       1.000us       1.000us             1  \n",
      "                        aten::view         0.00%       1.000us         0.00%       1.000us       1.000us             1  \n",
      "                      aten::expand         0.00%       2.000us         0.00%       3.000us       3.000us             1  \n",
      "                  aten::as_strided         0.00%       1.000us         0.00%       1.000us       1.000us             1  \n",
      "                     aten::flatten         0.00%      15.000us         0.01%      55.000us      55.000us             1  \n",
      "                       aten::clone         0.00%      16.000us         0.01%      38.000us      38.000us             1  \n",
      "                  aten::empty_like         0.00%       7.000us         0.00%       9.000us       9.000us             1  \n",
      "                       aten::empty         0.00%       2.000us         0.00%       2.000us       2.000us             1  \n",
      "                       aten::copy_         0.00%      13.000us         0.00%      13.000us      13.000us             1  \n",
      "                aten::_unsafe_view         0.00%       2.000us         0.00%       2.000us       2.000us             1  \n",
      "                     aten::flatten         0.00%       3.000us         0.00%      12.000us      12.000us             1  \n",
      "                       aten::clone         0.00%       2.000us         0.00%       5.000us       5.000us             1  \n",
      "                  aten::empty_like         0.00%       0.000us         0.00%       1.000us       1.000us             1  \n",
      "                       aten::empty         0.00%       1.000us         0.00%       1.000us       1.000us             1  \n",
      "                       aten::copy_         0.00%       2.000us         0.00%       2.000us       2.000us             1  \n",
      "                aten::_unsafe_view         0.00%       4.000us         0.00%       4.000us       4.000us             1  \n",
      "                     aten::flatten         0.00%       2.000us         0.00%       8.000us       8.000us             1  \n",
      "                       aten::clone         0.00%       0.000us         0.00%       5.000us       5.000us             1  \n",
      "                  aten::empty_like         0.00%       2.000us         0.00%       2.000us       2.000us             1  \n",
      "                       aten::empty         0.00%       2.000us         0.00%       2.000us       2.000us             1  \n",
      "                       aten::copy_         0.00%       1.000us         0.00%       1.000us       1.000us             1  \n",
      "                aten::_unsafe_view         0.00%       1.000us         0.00%       1.000us       1.000us             1  \n",
      "                       aten::stack         0.00%      18.000us         0.01%      40.000us      40.000us             1  \n",
      "                   aten::unsqueeze         0.00%       1.000us         0.00%       1.000us       1.000us             1  \n",
      "                  aten::as_strided         0.00%       0.000us         0.00%       0.000us       0.000us             1  \n",
      "                   aten::unsqueeze         0.00%       0.000us         0.00%       1.000us       1.000us             1  \n",
      "                  aten::as_strided         0.00%       1.000us         0.00%       1.000us       1.000us             1  \n",
      "                   aten::unsqueeze         0.00%       3.000us         0.00%       4.000us       4.000us             1  \n",
      "                  aten::as_strided         0.00%       1.000us         0.00%       1.000us       1.000us             1  \n",
      "                         aten::cat         0.00%      16.000us         0.00%      16.000us      16.000us             1  \n",
      "                       aten::empty         0.00%       1.000us         0.00%       1.000us       1.000us             1  \n",
      "                          aten::to         0.00%       0.000us         0.00%       0.000us       0.000us             1  \n",
      "                  aten::lift_fresh         0.00%       0.000us         0.00%       0.000us       0.000us             1  \n",
      "                     aten::detach_         0.00%       4.000us         0.00%       7.000us       7.000us             1  \n",
      "                           detach_         0.00%       3.000us         0.00%       3.000us       3.000us             1  \n",
      "                       aten::empty         0.00%       1.000us         0.00%       1.000us       1.000us             1  \n",
      "                          aten::to         0.00%       0.000us         0.00%       0.000us       0.000us             1  \n",
      "                     aten::detach_         0.00%       4.000us         0.00%       9.000us       9.000us             1  \n",
      "                  aten::lift_fresh         0.00%       0.000us         0.00%       0.000us       0.000us             1  \n",
      "                           detach_         0.00%       5.000us         0.00%       5.000us       5.000us             1  \n",
      "                     aten::deg2rad         0.00%       9.000us         0.01%      61.000us      61.000us             1  \n",
      "                  aten::empty_like         0.00%       3.000us         0.00%       7.000us       7.000us             1  \n",
      "               aten::empty_strided         0.00%       4.000us         0.00%       4.000us       4.000us             1  \n",
      "                     aten::deg2rad         0.00%       9.000us         0.01%      45.000us      45.000us             1  \n",
      "                         aten::mul         0.00%      17.000us         0.01%      36.000us      36.000us             1  \n",
      "                          aten::to         0.00%       5.000us         0.00%      19.000us      19.000us             1  \n",
      "                    aten::_to_copy         0.00%       6.000us         0.00%      14.000us      14.000us             1  \n",
      "               aten::empty_strided         0.00%       5.000us         0.00%       5.000us       5.000us             1  \n",
      "                       aten::copy_         0.00%       3.000us         0.00%       3.000us       3.000us             1  \n",
      "                         aten::cos         0.00%      23.000us         0.00%      23.000us      23.000us             1  \n",
      "                         aten::sin         0.00%      11.000us         0.00%      11.000us      11.000us             1  \n",
      "                       aten::slice         0.00%       3.000us         0.00%       4.000us       4.000us             1  \n",
      "                  aten::as_strided         0.00%       1.000us         0.00%       1.000us       1.000us             1  \n",
      "                      aten::select         0.00%       5.000us         0.00%       5.000us       5.000us             1  \n",
      "                  aten::as_strided         0.00%       0.000us         0.00%       0.000us       0.000us             1  \n",
      "                       aten::slice         0.00%       1.000us         0.00%       2.000us       2.000us             1  \n",
      "                  aten::as_strided         0.00%       1.000us         0.00%       1.000us       1.000us             1  \n",
      "                      aten::select         0.00%       3.000us         0.00%       7.000us       7.000us             1  \n",
      "                  aten::as_strided         0.00%       4.000us         0.00%       4.000us       4.000us             1  \n",
      "                         aten::mul         0.00%       5.000us         0.00%       5.000us       5.000us             1  \n",
      "                       aten::slice         0.00%       1.000us         0.00%       2.000us       2.000us             1  \n",
      "                  aten::as_strided         0.00%       1.000us         0.00%       1.000us       1.000us             1  \n",
      "                      aten::select         0.00%       1.000us         0.00%       1.000us       1.000us             1  \n",
      "                  aten::as_strided         0.00%       0.000us         0.00%       0.000us       0.000us             1  \n",
      "                         aten::sub         0.00%      10.000us         0.00%      10.000us      10.000us             1  \n",
      "                       aten::slice         0.00%       2.000us         0.00%       2.000us       2.000us             1  \n",
      "                  aten::as_strided         0.00%       0.000us         0.00%       0.000us       0.000us             1  \n",
      "                      aten::select         0.00%       1.000us         0.00%       1.000us       1.000us             1  \n",
      "                  aten::as_strided         0.00%       0.000us         0.00%       0.000us       0.000us             1  \n",
      "                       aten::slice         0.00%       1.000us         0.00%       5.000us       5.000us             1  \n",
      "                  aten::as_strided         0.00%       4.000us         0.00%       4.000us       4.000us             1  \n",
      "----------------------------------  ------------  ------------  ------------  ------------  ------------  ------------  \n",
      "Self CPU time total: 500.837ms\n",
      "\n"
     ]
    },
    {
     "name": "stderr",
     "output_type": "stream",
     "text": [
      "STAGE:2023-04-02 17:08:22 1729111:1729111 ActivityProfilerController.cpp:300] Completed Stage: Collection\n"
     ]
    }
   ],
   "source": [
    "with torch.autograd.profiler.profile(use_cuda=False) as prof:\n",
    "    with record_function(\"VN_Transform_CPU\"):\n",
    "        ts1(sample)\n",
    "print(prof)\n"
   ]
  },
  {
   "cell_type": "code",
   "execution_count": null,
   "metadata": {},
   "outputs": [],
   "source": [
    "with profile(\n",
    "    activities=[ProfilerActivity.CPU], record_shapes=True, profile_memory=True\n",
    ") as prof_cpu:\n",
    "    with record_function(\"VN_TRANSFORM_CPU\"):\n",
    "        calculate_all_neighbor_edges(sample, torch.device(\"cpu\"))"
   ]
  },
  {
   "attachments": {},
   "cell_type": "markdown",
   "metadata": {},
   "source": [
    "GPU calculation benchmarks\n"
   ]
  },
  {
   "cell_type": "code",
   "execution_count": 38,
   "metadata": {},
   "outputs": [
    {
     "name": "stderr",
     "output_type": "stream",
     "text": [
      "STAGE:2023-04-02 13:58:59 1729111:1729111 ActivityProfilerController.cpp:294] Completed Stage: Warm Up\n",
      "STAGE:2023-04-02 13:58:59 1729111:1729111 ActivityProfilerController.cpp:300] Completed Stage: Collection\n"
     ]
    }
   ],
   "source": [
    "with profile(\n",
    "    activities=[ProfilerActivity.CPU, ProfilerActivity.CUDA],\n",
    "    record_shapes=True,\n",
    "    profile_memory=True,\n",
    ") as prof_gpu:\n",
    "    with record_function(\"OCP_All_Neighbor_GPU\"):\n",
    "        for i in range(10):\n",
    "            calculate_all_neighbor_edges(dataset[i], torch.device(\"cuda:7\"))"
   ]
  },
  {
   "cell_type": "code",
   "execution_count": null,
   "metadata": {},
   "outputs": [],
   "source": [
    "print(prof_gpu.key_averages().table(sort_by=\"cuda_time_total\", row_limit=10))\n"
   ]
  },
  {
   "cell_type": "code",
   "execution_count": 75,
   "metadata": {},
   "outputs": [],
   "source": [
    "ts2 = VirtualNodes(**{\"device\": \"cuda:7\", \"virtual_box_increment\": 3, \"attrs\": [\"rr\", \"rv\"], \"rr_cutoff\": 5.0, \"rv_cutoff\": 5.0, \"cutoff_radius\" : 5.0, \"n_neighbors\" : 50,\n",
    "    \"edge_calc_method\": \"ocp\",\n",
    "    \"num_offsets\": 1,\n",
    "    \"edge_steps\" : 25,\n",
    "    \"all_neighbors\": True,\n",
    "    \"use_degree\": False})"
   ]
  },
  {
   "cell_type": "code",
   "execution_count": 76,
   "metadata": {},
   "outputs": [
    {
     "name": "stderr",
     "output_type": "stream",
     "text": [
      "STAGE:2023-04-02 17:09:09 1729111:1729111 ActivityProfilerController.cpp:294] Completed Stage: Warm Up\n",
      "STAGE:2023-04-02 17:09:10 1729111:1729111 ActivityProfilerController.cpp:300] Completed Stage: Collection\n"
     ]
    },
    {
     "ename": "RuntimeError",
     "evalue": "Expected all tensors to be on the same device, but found at least two devices, cpu and cuda:7! (when checking argument for argument mat2 in method wrapper_bmm)",
     "output_type": "error",
     "traceback": [
      "\u001b[0;31m---------------------------------------------------------------------------\u001b[0m",
      "\u001b[0;31mRuntimeError\u001b[0m                              Traceback (most recent call last)",
      "Cell \u001b[0;32mIn[76], line 3\u001b[0m\n\u001b[1;32m      1\u001b[0m \u001b[39mwith\u001b[39;00m torch\u001b[39m.\u001b[39mautograd\u001b[39m.\u001b[39mprofiler\u001b[39m.\u001b[39mprofile(use_cuda\u001b[39m=\u001b[39m\u001b[39mTrue\u001b[39;00m) \u001b[39mas\u001b[39;00m prof:\n\u001b[1;32m      2\u001b[0m     \u001b[39mwith\u001b[39;00m record_function(\u001b[39m\"\u001b[39m\u001b[39mOCP_All_Neighbor_GPU\u001b[39m\u001b[39m\"\u001b[39m):\n\u001b[0;32m----> 3\u001b[0m         ts2(sample)\n\u001b[1;32m      4\u001b[0m \u001b[39mprint\u001b[39m(prof)\n",
      "File \u001b[0;32m/net/csefiles/coc-fung-cluster/Sidharth/MatDeepLearn_dev/matdeeplearn/preprocessor/transforms.py:78\u001b[0m, in \u001b[0;36mVirtualNodes.__call__\u001b[0;34m(self, data)\u001b[0m\n\u001b[1;32m     76\u001b[0m \u001b[39mdef\u001b[39;00m \u001b[39m__call__\u001b[39m(\u001b[39mself\u001b[39m, data: Data) \u001b[39m-\u001b[39m\u001b[39m>\u001b[39m CustomData:\n\u001b[1;32m     77\u001b[0m     \u001b[39m# NOTE use cell2 instead of cell for correct VN generation\u001b[39;00m\n\u001b[0;32m---> 78\u001b[0m     vpos, virtual_z \u001b[39m=\u001b[39m generate_virtual_nodes(\n\u001b[1;32m     79\u001b[0m         data\u001b[39m.\u001b[39;49mcell2, \u001b[39mself\u001b[39;49m\u001b[39m.\u001b[39;49mkwargs\u001b[39m.\u001b[39;49mget(\u001b[39m\"\u001b[39;49m\u001b[39mvirtual_box_increment\u001b[39;49m\u001b[39m\"\u001b[39;49m), \u001b[39mself\u001b[39;49m\u001b[39m.\u001b[39;49mdevice\n\u001b[1;32m     80\u001b[0m     )\n\u001b[1;32m     82\u001b[0m     \u001b[39mtry\u001b[39;00m:\n\u001b[1;32m     83\u001b[0m         data\u001b[39m.\u001b[39mrv_pos \u001b[39m=\u001b[39m torch\u001b[39m.\u001b[39mcat((data\u001b[39m.\u001b[39mo_pos, vpos), dim\u001b[39m=\u001b[39m\u001b[39m0\u001b[39m)\n",
      "File \u001b[0;32m/net/csefiles/coc-fung-cluster/Sidharth/MatDeepLearn_dev/matdeeplearn/preprocessor/helpers.py:881\u001b[0m, in \u001b[0;36mgenerate_virtual_nodes\u001b[0;34m(cell, increment, device)\u001b[0m\n\u001b[1;32m    879\u001b[0m lengths \u001b[39m=\u001b[39m torch\u001b[39m.\u001b[39mtensor([[a, b, c]], device\u001b[39m=\u001b[39mdevice)\n\u001b[1;32m    880\u001b[0m angles \u001b[39m=\u001b[39m torch\u001b[39m.\u001b[39mtensor([[alpha, beta, gamma]], device\u001b[39m=\u001b[39mdevice)\n\u001b[0;32m--> 881\u001b[0m virtual_pos \u001b[39m=\u001b[39m frac_to_cart_coords(coords, lengths, angles, \u001b[39mlen\u001b[39;49m(coords))\n\u001b[1;32m    883\u001b[0m \u001b[39m# virtual positions and atomic numbers\u001b[39;00m\n\u001b[1;32m    884\u001b[0m \u001b[39mreturn\u001b[39;00m virtual_pos, torch\u001b[39m.\u001b[39mtensor([\u001b[39m100\u001b[39m] \u001b[39m*\u001b[39m \u001b[39mlen\u001b[39m(coords), device\u001b[39m=\u001b[39mdevice)\n",
      "File \u001b[0;32m/net/csefiles/coc-fung-cluster/Sidharth/MatDeepLearn_dev/matdeeplearn/preprocessor/helpers.py:838\u001b[0m, in \u001b[0;36mfrac_to_cart_coords\u001b[0;34m(frac_coords, lengths, angles, num_atoms)\u001b[0m\n\u001b[1;32m    836\u001b[0m lattice \u001b[39m=\u001b[39m lattice_params_to_matrix_torch(lengths, angles)\n\u001b[1;32m    837\u001b[0m lattice_nodes \u001b[39m=\u001b[39m torch\u001b[39m.\u001b[39mrepeat_interleave(lattice, num_atoms, dim\u001b[39m=\u001b[39m\u001b[39m0\u001b[39m)\n\u001b[0;32m--> 838\u001b[0m pos \u001b[39m=\u001b[39m torch\u001b[39m.\u001b[39;49meinsum(\u001b[39m\"\u001b[39;49m\u001b[39mbi,bij->bj\u001b[39;49m\u001b[39m\"\u001b[39;49m, frac_coords, lattice_nodes)  \u001b[39m# cart coords\u001b[39;00m\n\u001b[1;32m    840\u001b[0m \u001b[39mreturn\u001b[39;00m pos\n",
      "File \u001b[0;32m~/miniconda3/envs/matdeeplearn/lib/python3.9/site-packages/torch/functional.py:378\u001b[0m, in \u001b[0;36meinsum\u001b[0;34m(*args)\u001b[0m\n\u001b[1;32m    373\u001b[0m     \u001b[39mreturn\u001b[39;00m einsum(equation, \u001b[39m*\u001b[39m_operands)\n\u001b[1;32m    375\u001b[0m \u001b[39mif\u001b[39;00m \u001b[39mlen\u001b[39m(operands) \u001b[39m<\u001b[39m\u001b[39m=\u001b[39m \u001b[39m2\u001b[39m \u001b[39mor\u001b[39;00m \u001b[39mnot\u001b[39;00m opt_einsum\u001b[39m.\u001b[39menabled:\n\u001b[1;32m    376\u001b[0m     \u001b[39m# the path for contracting 0 or 1 time(s) is already optimized\u001b[39;00m\n\u001b[1;32m    377\u001b[0m     \u001b[39m# or the user has disabled using opt_einsum\u001b[39;00m\n\u001b[0;32m--> 378\u001b[0m     \u001b[39mreturn\u001b[39;00m _VF\u001b[39m.\u001b[39;49meinsum(equation, operands)  \u001b[39m# type: ignore[attr-defined]\u001b[39;00m\n\u001b[1;32m    380\u001b[0m path \u001b[39m=\u001b[39m \u001b[39mNone\u001b[39;00m\n\u001b[1;32m    381\u001b[0m \u001b[39mif\u001b[39;00m opt_einsum\u001b[39m.\u001b[39mis_available():\n",
      "\u001b[0;31mRuntimeError\u001b[0m: Expected all tensors to be on the same device, but found at least two devices, cpu and cuda:7! (when checking argument for argument mat2 in method wrapper_bmm)"
     ]
    }
   ],
   "source": [
    "with torch.autograd.profiler.profile(use_cuda=True) as prof:\n",
    "    with record_function(\"OCP_All_Neighbor_GPU\"):\n",
    "        ts2(sample)\n",
    "print(prof)"
   ]
  },
  {
   "cell_type": "code",
   "execution_count": 49,
   "metadata": {},
   "outputs": [
    {
     "name": "stdout",
     "output_type": "stream",
     "text": [
      "790.1875\n"
     ]
    }
   ],
   "source": [
    "start = torch.cuda.Event(enable_timing=True)\n",
    "end = torch.cuda.Event(enable_timing=True)\n",
    "\n",
    "start.record()\n",
    "calculate_all_neighbor_edges(sample, torch.device(\"cuda:7\"))\n",
    "end.record()\n",
    "\n",
    "# Waits for everything to finish running\n",
    "torch.cuda.current_stream().synchronize()\n",
    "\n",
    "print(start.elapsed_time(end))\n"
   ]
  },
  {
   "cell_type": "code",
   "execution_count": 45,
   "metadata": {},
   "outputs": [],
   "source": [
    "from time import time\n"
   ]
  },
  {
   "cell_type": "code",
   "execution_count": 50,
   "metadata": {},
   "outputs": [],
   "source": [
    "start = time()\n",
    "calculate_all_neighbor_edges(sample, torch.device(\"cpu\"))\n",
    "end = time()\n"
   ]
  },
  {
   "cell_type": "code",
   "execution_count": 51,
   "metadata": {},
   "outputs": [
    {
     "name": "stdout",
     "output_type": "stream",
     "text": [
      "0.7506468296051025\n"
     ]
    }
   ],
   "source": [
    "print(end - start)\n"
   ]
  },
  {
   "cell_type": "code",
   "execution_count": null,
   "metadata": {},
   "outputs": [],
   "source": []
  }
 ],
 "metadata": {
  "kernelspec": {
   "display_name": "matdeeplearn",
   "language": "python",
   "name": "python3"
  },
  "language_info": {
   "codemirror_mode": {
    "name": "ipython",
    "version": 3
   },
   "file_extension": ".py",
   "mimetype": "text/x-python",
   "name": "python",
   "nbconvert_exporter": "python",
   "pygments_lexer": "ipython3",
   "version": "3.9.16"
  },
  "orig_nbformat": 4
 },
 "nbformat": 4,
 "nbformat_minor": 2
}
