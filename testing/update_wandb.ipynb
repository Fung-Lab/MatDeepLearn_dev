{
 "cells": [
  {
   "cell_type": "code",
   "execution_count": 14,
   "metadata": {},
   "outputs": [
    {
     "name": "stdout",
     "output_type": "stream",
     "text": [
      "Pretty printing has been turned ON\n"
     ]
    }
   ],
   "source": [
    "%pprint"
   ]
  },
  {
   "cell_type": "code",
   "execution_count": 15,
   "metadata": {},
   "outputs": [],
   "source": [
    "def flatten(my_dict):\n",
    "    result = {}\n",
    "    for key, value in my_dict.items():\n",
    "        if isinstance(value, dict):\n",
    "            result.update(flatten(value))\n",
    "        else:\n",
    "            result[key] = value\n",
    "    return result\n"
   ]
  },
  {
   "cell_type": "code",
   "execution_count": 16,
   "metadata": {},
   "outputs": [
    {
     "data": {
      "text/plain": [
       "{'c': 1}"
      ]
     },
     "execution_count": 16,
     "metadata": {},
     "output_type": "execute_result"
    }
   ],
   "source": [
    "flatten({\"a\": {\"b\": {\"c\": 1}}})"
   ]
  },
  {
   "attachments": {},
   "cell_type": "markdown",
   "metadata": {},
   "source": [
    "Change existing W&B runs to clean up config for backward-compatible experiment tracking\n"
   ]
  },
  {
   "cell_type": "code",
   "execution_count": 1,
   "metadata": {},
   "outputs": [],
   "source": [
    "import wandb\n",
    "api = wandb.Api()"
   ]
  },
  {
   "cell_type": "code",
   "execution_count": 50,
   "metadata": {},
   "outputs": [
    {
     "name": "stderr",
     "output_type": "stream",
     "text": [
      "Failed to detect the name of this notebook, you can set it manually with the WANDB_NOTEBOOK_NAME environment variable to enable code saving.\n",
      "\u001b[34m\u001b[1mwandb\u001b[0m: Currently logged in as: \u001b[33msidharth-baskaran\u001b[0m (\u001b[33mfung-lab\u001b[0m). Use \u001b[1m`wandb login --relogin`\u001b[0m to force relogin\n"
     ]
    },
    {
     "data": {
      "text/html": [
       "wandb version 0.14.0 is available!  To upgrade, please run:\n",
       " $ pip install wandb --upgrade"
      ],
      "text/plain": [
       "<IPython.core.display.HTML object>"
      ]
     },
     "metadata": {},
     "output_type": "display_data"
    },
    {
     "data": {
      "text/html": [
       "Tracking run with wandb version 0.13.9"
      ],
      "text/plain": [
       "<IPython.core.display.HTML object>"
      ]
     },
     "metadata": {},
     "output_type": "display_data"
    },
    {
     "data": {
      "text/html": [
       "Run data is saved locally in <code>/net/csefiles/coc-fung-cluster/Sidharth/MatDeepLearn_dev/testing/wandb/run-20230331_213106-29fb0g8x</code>"
      ],
      "text/plain": [
       "<IPython.core.display.HTML object>"
      ]
     },
     "metadata": {},
     "output_type": "display_data"
    },
    {
     "data": {
      "text/html": [
       "Syncing run <strong><a href=\"https://wandb.ai/fung-lab/cgcnn_vn/runs/29fb0g8x\" target=\"_blank\">breezy-fire-173</a></strong> to <a href=\"https://wandb.ai/fung-lab/cgcnn_vn\" target=\"_blank\">Weights & Biases</a> (<a href=\"https://wandb.me/run\" target=\"_blank\">docs</a>)<br/>"
      ],
      "text/plain": [
       "<IPython.core.display.HTML object>"
      ]
     },
     "metadata": {},
     "output_type": "display_data"
    },
    {
     "data": {
      "text/html": [
       " View project at <a href=\"https://wandb.ai/fung-lab/cgcnn_vn\" target=\"_blank\">https://wandb.ai/fung-lab/cgcnn_vn</a>"
      ],
      "text/plain": [
       "<IPython.core.display.HTML object>"
      ]
     },
     "metadata": {},
     "output_type": "display_data"
    },
    {
     "data": {
      "text/html": [
       " View run at <a href=\"https://wandb.ai/fung-lab/cgcnn_vn/runs/29fb0g8x\" target=\"_blank\">https://wandb.ai/fung-lab/cgcnn_vn/runs/29fb0g8x</a>"
      ],
      "text/plain": [
       "<IPython.core.display.HTML object>"
      ]
     },
     "metadata": {},
     "output_type": "display_data"
    },
    {
     "data": {
      "text/html": [
       "<button onClick=\"this.nextSibling.style.display='block';this.style.display='none';\">Display W&B run</button><iframe src=\"https://wandb.ai/fung-lab/cgcnn_vn/runs/29fb0g8x?jupyter=true\" style=\"border:none;width:100%;height:420px;display:none;\"></iframe>"
      ],
      "text/plain": [
       "<wandb.sdk.wandb_run.Run object at 0x7fd0f2b5bfa0>"
      ]
     },
     "execution_count": 50,
     "metadata": {},
     "output_type": "execute_result"
    }
   ],
   "source": [
    "wandb.init(project=\"cgcnn_vn\", entity=\"fung-lab\")"
   ]
  },
  {
   "cell_type": "code",
   "execution_count": 42,
   "metadata": {},
   "outputs": [],
   "source": [
    "def get_nested(data, *args):\n",
    "    if args and data:\n",
    "        element = args[0]\n",
    "        if element and element in data:\n",
    "            value = data.get(element)\n",
    "            return value if len(args) == 1 else get_nested(value, *args[1:])\n",
    "\n",
    "\n",
    "def flatten(my_dict):\n",
    "    result = {}\n",
    "    for key, value in my_dict.items():\n",
    "        if isinstance(value, dict):\n",
    "            result.update(flatten(value))\n",
    "        else:\n",
    "            result[key] = value\n",
    "    return result"
   ]
  },
  {
   "cell_type": "code",
   "execution_count": 51,
   "metadata": {},
   "outputs": [],
   "source": [
    "# get runs from projects\n",
    "runs = api.runs(\"fung-lab/cgcnn_vn\")\n"
   ]
  },
  {
   "cell_type": "code",
   "execution_count": 55,
   "metadata": {},
   "outputs": [
    {
     "name": "stderr",
     "output_type": "stream",
     "text": [
      "wandb: ERROR Dropped streaming file chunk (see wandb/debug-internal.log)\n",
      "wandb: ERROR Dropped streaming file chunk (see wandb/debug-internal.log)\n",
      "wandb: ERROR Dropped streaming file chunk (see wandb/debug-internal.log)\n",
      "wandb: ERROR Dropped streaming file chunk (see wandb/debug-internal.log)\n",
      "wandb: ERROR Dropped streaming file chunk (see wandb/debug-internal.log)\n",
      "wandb: ERROR Dropped streaming file chunk (see wandb/debug-internal.log)\n",
      "wandb: ERROR Dropped streaming file chunk (see wandb/debug-internal.log)\n",
      "wandb: ERROR Dropped streaming file chunk (see wandb/debug-internal.log)\n",
      "wandb: ERROR Dropped streaming file chunk (see wandb/debug-internal.log)\n",
      "wandb: ERROR Dropped streaming file chunk (see wandb/debug-internal.log)\n",
      "wandb: ERROR Dropped streaming file chunk (see wandb/debug-internal.log)\n",
      "wandb: ERROR Dropped streaming file chunk (see wandb/debug-internal.log)\n",
      "wandb: ERROR Dropped streaming file chunk (see wandb/debug-internal.log)\n",
      "wandb: ERROR Dropped streaming file chunk (see wandb/debug-internal.log)\n",
      "wandb: ERROR Dropped streaming file chunk (see wandb/debug-internal.log)\n",
      "wandb: ERROR Dropped streaming file chunk (see wandb/debug-internal.log)\n",
      "wandb: ERROR Dropped streaming file chunk (see wandb/debug-internal.log)\n",
      "wandb: ERROR Dropped streaming file chunk (see wandb/debug-internal.log)\n",
      "wandb: ERROR Dropped streaming file chunk (see wandb/debug-internal.log)\n",
      "wandb: ERROR Dropped streaming file chunk (see wandb/debug-internal.log)\n",
      "wandb: ERROR Dropped streaming file chunk (see wandb/debug-internal.log)\n",
      "wandb: ERROR Dropped streaming file chunk (see wandb/debug-internal.log)\n",
      "wandb: ERROR Dropped streaming file chunk (see wandb/debug-internal.log)\n",
      "wandb: ERROR Dropped streaming file chunk (see wandb/debug-internal.log)\n",
      "wandb: ERROR Dropped streaming file chunk (see wandb/debug-internal.log)\n",
      "wandb: ERROR Dropped streaming file chunk (see wandb/debug-internal.log)\n",
      "wandb: ERROR Dropped streaming file chunk (see wandb/debug-internal.log)\n",
      "wandb: ERROR Dropped streaming file chunk (see wandb/debug-internal.log)\n",
      "wandb: ERROR Dropped streaming file chunk (see wandb/debug-internal.log)\n",
      "wandb: ERROR Dropped streaming file chunk (see wandb/debug-internal.log)\n",
      "wandb: ERROR Dropped streaming file chunk (see wandb/debug-internal.log)\n",
      "wandb: ERROR Dropped streaming file chunk (see wandb/debug-internal.log)\n",
      "wandb: ERROR Dropped streaming file chunk (see wandb/debug-internal.log)\n",
      "wandb: ERROR Dropped streaming file chunk (see wandb/debug-internal.log)\n",
      "wandb: ERROR Dropped streaming file chunk (see wandb/debug-internal.log)\n",
      "wandb: ERROR Dropped streaming file chunk (see wandb/debug-internal.log)\n",
      "wandb: ERROR Dropped streaming file chunk (see wandb/debug-internal.log)\n",
      "wandb: ERROR Dropped streaming file chunk (see wandb/debug-internal.log)\n",
      "wandb: ERROR Dropped streaming file chunk (see wandb/debug-internal.log)\n",
      "wandb: ERROR Dropped streaming file chunk (see wandb/debug-internal.log)\n",
      "wandb: ERROR Dropped streaming file chunk (see wandb/debug-internal.log)\n",
      "wandb: ERROR Dropped streaming file chunk (see wandb/debug-internal.log)\n",
      "wandb: ERROR Dropped streaming file chunk (see wandb/debug-internal.log)\n",
      "wandb: ERROR Dropped streaming file chunk (see wandb/debug-internal.log)\n",
      "wandb: ERROR Dropped streaming file chunk (see wandb/debug-internal.log)\n",
      "wandb: ERROR Dropped streaming file chunk (see wandb/debug-internal.log)\n",
      "wandb: ERROR Dropped streaming file chunk (see wandb/debug-internal.log)\n",
      "wandb: ERROR Dropped streaming file chunk (see wandb/debug-internal.log)\n",
      "wandb: ERROR Dropped streaming file chunk (see wandb/debug-internal.log)\n",
      "wandb: ERROR Dropped streaming file chunk (see wandb/debug-internal.log)\n",
      "wandb: ERROR Dropped streaming file chunk (see wandb/debug-internal.log)\n",
      "wandb: ERROR Dropped streaming file chunk (see wandb/debug-internal.log)\n",
      "wandb: ERROR Dropped streaming file chunk (see wandb/debug-internal.log)\n",
      "wandb: ERROR Dropped streaming file chunk (see wandb/debug-internal.log)\n",
      "wandb: ERROR Dropped streaming file chunk (see wandb/debug-internal.log)\n",
      "wandb: ERROR Dropped streaming file chunk (see wandb/debug-internal.log)\n",
      "wandb: ERROR Dropped streaming file chunk (see wandb/debug-internal.log)\n",
      "wandb: ERROR Dropped streaming file chunk (see wandb/debug-internal.log)\n",
      "wandb: ERROR Dropped streaming file chunk (see wandb/debug-internal.log)\n",
      "wandb: ERROR Dropped streaming file chunk (see wandb/debug-internal.log)\n",
      "wandb: ERROR Dropped streaming file chunk (see wandb/debug-internal.log)\n",
      "wandb: ERROR Dropped streaming file chunk (see wandb/debug-internal.log)\n",
      "wandb: ERROR Dropped streaming file chunk (see wandb/debug-internal.log)\n",
      "wandb: ERROR Dropped streaming file chunk (see wandb/debug-internal.log)\n",
      "wandb: ERROR Dropped streaming file chunk (see wandb/debug-internal.log)\n",
      "wandb: ERROR Dropped streaming file chunk (see wandb/debug-internal.log)\n",
      "wandb: ERROR Dropped streaming file chunk (see wandb/debug-internal.log)\n",
      "wandb: ERROR Dropped streaming file chunk (see wandb/debug-internal.log)\n",
      "wandb: ERROR Dropped streaming file chunk (see wandb/debug-internal.log)\n",
      "wandb: ERROR Dropped streaming file chunk (see wandb/debug-internal.log)\n",
      "wandb: ERROR Dropped streaming file chunk (see wandb/debug-internal.log)\n",
      "wandb: ERROR Dropped streaming file chunk (see wandb/debug-internal.log)\n",
      "wandb: ERROR Dropped streaming file chunk (see wandb/debug-internal.log)\n",
      "wandb: ERROR Dropped streaming file chunk (see wandb/debug-internal.log)\n",
      "wandb: ERROR Dropped streaming file chunk (see wandb/debug-internal.log)\n",
      "wandb: ERROR Dropped streaming file chunk (see wandb/debug-internal.log)\n",
      "wandb: ERROR Dropped streaming file chunk (see wandb/debug-internal.log)\n",
      "wandb: ERROR Dropped streaming file chunk (see wandb/debug-internal.log)\n",
      "wandb: ERROR Dropped streaming file chunk (see wandb/debug-internal.log)\n",
      "wandb: ERROR Dropped streaming file chunk (see wandb/debug-internal.log)\n",
      "wandb: ERROR Dropped streaming file chunk (see wandb/debug-internal.log)\n",
      "wandb: ERROR Dropped streaming file chunk (see wandb/debug-internal.log)\n",
      "wandb: ERROR Dropped streaming file chunk (see wandb/debug-internal.log)\n",
      "wandb: ERROR Dropped streaming file chunk (see wandb/debug-internal.log)\n",
      "wandb: ERROR Dropped streaming file chunk (see wandb/debug-internal.log)\n",
      "wandb: ERROR Dropped streaming file chunk (see wandb/debug-internal.log)\n",
      "wandb: ERROR Dropped streaming file chunk (see wandb/debug-internal.log)\n",
      "wandb: ERROR Dropped streaming file chunk (see wandb/debug-internal.log)\n",
      "wandb: ERROR Dropped streaming file chunk (see wandb/debug-internal.log)\n",
      "wandb: ERROR Dropped streaming file chunk (see wandb/debug-internal.log)\n",
      "wandb: ERROR Dropped streaming file chunk (see wandb/debug-internal.log)\n",
      "wandb: ERROR Dropped streaming file chunk (see wandb/debug-internal.log)\n",
      "wandb: ERROR Dropped streaming file chunk (see wandb/debug-internal.log)\n",
      "wandb: ERROR Dropped streaming file chunk (see wandb/debug-internal.log)\n",
      "wandb: ERROR Dropped streaming file chunk (see wandb/debug-internal.log)\n",
      "wandb: ERROR Dropped streaming file chunk (see wandb/debug-internal.log)\n",
      "wandb: ERROR Dropped streaming file chunk (see wandb/debug-internal.log)\n",
      "wandb: ERROR Dropped streaming file chunk (see wandb/debug-internal.log)\n",
      "wandb: ERROR Dropped streaming file chunk (see wandb/debug-internal.log)\n",
      "wandb: ERROR Dropped streaming file chunk (see wandb/debug-internal.log)\n",
      "wandb: ERROR Dropped streaming file chunk (see wandb/debug-internal.log)\n",
      "wandb: ERROR Dropped streaming file chunk (see wandb/debug-internal.log)\n",
      "wandb: ERROR Dropped streaming file chunk (see wandb/debug-internal.log)\n",
      "wandb: ERROR Dropped streaming file chunk (see wandb/debug-internal.log)\n",
      "wandb: ERROR Dropped streaming file chunk (see wandb/debug-internal.log)\n",
      "wandb: ERROR Dropped streaming file chunk (see wandb/debug-internal.log)\n",
      "wandb: ERROR Dropped streaming file chunk (see wandb/debug-internal.log)\n",
      "wandb: ERROR Dropped streaming file chunk (see wandb/debug-internal.log)\n",
      "wandb: ERROR Dropped streaming file chunk (see wandb/debug-internal.log)\n",
      "wandb: ERROR Dropped streaming file chunk (see wandb/debug-internal.log)\n",
      "wandb: ERROR Dropped streaming file chunk (see wandb/debug-internal.log)\n",
      "wandb: ERROR Dropped streaming file chunk (see wandb/debug-internal.log)\n",
      "wandb: ERROR Dropped streaming file chunk (see wandb/debug-internal.log)\n",
      "wandb: ERROR Dropped streaming file chunk (see wandb/debug-internal.log)\n",
      "wandb: ERROR Dropped streaming file chunk (see wandb/debug-internal.log)\n",
      "wandb: ERROR Dropped streaming file chunk (see wandb/debug-internal.log)\n",
      "wandb: ERROR Dropped streaming file chunk (see wandb/debug-internal.log)\n",
      "wandb: ERROR Dropped streaming file chunk (see wandb/debug-internal.log)\n",
      "wandb: ERROR Dropped streaming file chunk (see wandb/debug-internal.log)\n",
      "wandb: ERROR Dropped streaming file chunk (see wandb/debug-internal.log)\n",
      "wandb: ERROR Dropped streaming file chunk (see wandb/debug-internal.log)\n",
      "wandb: ERROR Dropped streaming file chunk (see wandb/debug-internal.log)\n",
      "wandb: ERROR Dropped streaming file chunk (see wandb/debug-internal.log)\n",
      "wandb: ERROR Dropped streaming file chunk (see wandb/debug-internal.log)\n",
      "wandb: ERROR Dropped streaming file chunk (see wandb/debug-internal.log)\n",
      "wandb: ERROR Dropped streaming file chunk (see wandb/debug-internal.log)\n",
      "wandb: ERROR Dropped streaming file chunk (see wandb/debug-internal.log)\n",
      "wandb: ERROR Dropped streaming file chunk (see wandb/debug-internal.log)\n",
      "wandb: ERROR Dropped streaming file chunk (see wandb/debug-internal.log)\n",
      "wandb: ERROR Dropped streaming file chunk (see wandb/debug-internal.log)\n",
      "wandb: ERROR Dropped streaming file chunk (see wandb/debug-internal.log)\n",
      "wandb: ERROR Dropped streaming file chunk (see wandb/debug-internal.log)\n",
      "wandb: ERROR Dropped streaming file chunk (see wandb/debug-internal.log)\n",
      "wandb: ERROR Dropped streaming file chunk (see wandb/debug-internal.log)\n",
      "wandb: ERROR Dropped streaming file chunk (see wandb/debug-internal.log)\n",
      "wandb: ERROR Dropped streaming file chunk (see wandb/debug-internal.log)\n",
      "wandb: ERROR Dropped streaming file chunk (see wandb/debug-internal.log)\n",
      "wandb: ERROR Dropped streaming file chunk (see wandb/debug-internal.log)\n",
      "wandb: ERROR Dropped streaming file chunk (see wandb/debug-internal.log)\n",
      "wandb: ERROR Dropped streaming file chunk (see wandb/debug-internal.log)\n",
      "wandb: ERROR Dropped streaming file chunk (see wandb/debug-internal.log)\n",
      "wandb: ERROR Dropped streaming file chunk (see wandb/debug-internal.log)\n",
      "wandb: ERROR Dropped streaming file chunk (see wandb/debug-internal.log)\n",
      "wandb: ERROR Dropped streaming file chunk (see wandb/debug-internal.log)\n",
      "wandb: ERROR Dropped streaming file chunk (see wandb/debug-internal.log)\n",
      "wandb: ERROR Dropped streaming file chunk (see wandb/debug-internal.log)\n",
      "wandb: ERROR Dropped streaming file chunk (see wandb/debug-internal.log)\n",
      "wandb: ERROR Dropped streaming file chunk (see wandb/debug-internal.log)\n",
      "wandb: ERROR Dropped streaming file chunk (see wandb/debug-internal.log)\n",
      "wandb: ERROR Dropped streaming file chunk (see wandb/debug-internal.log)\n",
      "wandb: ERROR Dropped streaming file chunk (see wandb/debug-internal.log)\n",
      "wandb: ERROR Dropped streaming file chunk (see wandb/debug-internal.log)\n",
      "wandb: ERROR Dropped streaming file chunk (see wandb/debug-internal.log)\n",
      "wandb: ERROR Dropped streaming file chunk (see wandb/debug-internal.log)\n",
      "wandb: ERROR Dropped streaming file chunk (see wandb/debug-internal.log)\n",
      "wandb: ERROR Dropped streaming file chunk (see wandb/debug-internal.log)\n",
      "wandb: ERROR Dropped streaming file chunk (see wandb/debug-internal.log)\n",
      "wandb: ERROR Dropped streaming file chunk (see wandb/debug-internal.log)\n",
      "wandb: ERROR Dropped streaming file chunk (see wandb/debug-internal.log)\n",
      "wandb: ERROR Dropped streaming file chunk (see wandb/debug-internal.log)\n",
      "wandb: ERROR Dropped streaming file chunk (see wandb/debug-internal.log)\n",
      "wandb: ERROR Dropped streaming file chunk (see wandb/debug-internal.log)\n",
      "wandb: ERROR Dropped streaming file chunk (see wandb/debug-internal.log)\n",
      "wandb: ERROR Dropped streaming file chunk (see wandb/debug-internal.log)\n",
      "wandb: ERROR Dropped streaming file chunk (see wandb/debug-internal.log)\n",
      "wandb: ERROR Dropped streaming file chunk (see wandb/debug-internal.log)\n",
      "wandb: ERROR Dropped streaming file chunk (see wandb/debug-internal.log)\n",
      "wandb: ERROR Dropped streaming file chunk (see wandb/debug-internal.log)\n",
      "wandb: ERROR Dropped streaming file chunk (see wandb/debug-internal.log)\n",
      "wandb: ERROR Dropped streaming file chunk (see wandb/debug-internal.log)\n",
      "wandb: ERROR Dropped streaming file chunk (see wandb/debug-internal.log)\n",
      "wandb: ERROR Dropped streaming file chunk (see wandb/debug-internal.log)\n",
      "wandb: ERROR Dropped streaming file chunk (see wandb/debug-internal.log)\n",
      "wandb: ERROR Dropped streaming file chunk (see wandb/debug-internal.log)\n",
      "wandb: ERROR Dropped streaming file chunk (see wandb/debug-internal.log)\n",
      "wandb: ERROR Dropped streaming file chunk (see wandb/debug-internal.log)\n",
      "wandb: ERROR Dropped streaming file chunk (see wandb/debug-internal.log)\n",
      "wandb: ERROR Dropped streaming file chunk (see wandb/debug-internal.log)\n",
      "wandb: ERROR Dropped streaming file chunk (see wandb/debug-internal.log)\n",
      "wandb: ERROR Dropped streaming file chunk (see wandb/debug-internal.log)\n",
      "wandb: ERROR Dropped streaming file chunk (see wandb/debug-internal.log)\n",
      "wandb: ERROR Dropped streaming file chunk (see wandb/debug-internal.log)\n",
      "wandb: ERROR Dropped streaming file chunk (see wandb/debug-internal.log)\n",
      "wandb: ERROR Dropped streaming file chunk (see wandb/debug-internal.log)\n",
      "wandb: ERROR Dropped streaming file chunk (see wandb/debug-internal.log)\n",
      "wandb: ERROR Dropped streaming file chunk (see wandb/debug-internal.log)\n",
      "wandb: ERROR Dropped streaming file chunk (see wandb/debug-internal.log)\n",
      "wandb: ERROR Dropped streaming file chunk (see wandb/debug-internal.log)\n",
      "wandb: ERROR Dropped streaming file chunk (see wandb/debug-internal.log)\n",
      "wandb: ERROR Dropped streaming file chunk (see wandb/debug-internal.log)\n",
      "wandb: ERROR Dropped streaming file chunk (see wandb/debug-internal.log)\n",
      "wandb: ERROR Dropped streaming file chunk (see wandb/debug-internal.log)\n",
      "wandb: ERROR Dropped streaming file chunk (see wandb/debug-internal.log)\n",
      "wandb: ERROR Dropped streaming file chunk (see wandb/debug-internal.log)\n",
      "wandb: ERROR Dropped streaming file chunk (see wandb/debug-internal.log)\n",
      "wandb: ERROR Dropped streaming file chunk (see wandb/debug-internal.log)\n",
      "wandb: ERROR Dropped streaming file chunk (see wandb/debug-internal.log)\n",
      "wandb: ERROR Dropped streaming file chunk (see wandb/debug-internal.log)\n",
      "wandb: ERROR Dropped streaming file chunk (see wandb/debug-internal.log)\n",
      "wandb: ERROR Dropped streaming file chunk (see wandb/debug-internal.log)\n",
      "wandb: ERROR Dropped streaming file chunk (see wandb/debug-internal.log)\n",
      "wandb: ERROR Dropped streaming file chunk (see wandb/debug-internal.log)\n",
      "wandb: ERROR Dropped streaming file chunk (see wandb/debug-internal.log)\n",
      "wandb: ERROR Dropped streaming file chunk (see wandb/debug-internal.log)\n",
      "wandb: ERROR Dropped streaming file chunk (see wandb/debug-internal.log)\n",
      "wandb: ERROR Dropped streaming file chunk (see wandb/debug-internal.log)\n",
      "wandb: ERROR Dropped streaming file chunk (see wandb/debug-internal.log)\n",
      "wandb: ERROR Dropped streaming file chunk (see wandb/debug-internal.log)\n",
      "wandb: ERROR Dropped streaming file chunk (see wandb/debug-internal.log)\n",
      "wandb: ERROR Dropped streaming file chunk (see wandb/debug-internal.log)\n",
      "wandb: ERROR Dropped streaming file chunk (see wandb/debug-internal.log)\n",
      "wandb: ERROR Dropped streaming file chunk (see wandb/debug-internal.log)\n",
      "wandb: ERROR Dropped streaming file chunk (see wandb/debug-internal.log)\n",
      "wandb: ERROR Dropped streaming file chunk (see wandb/debug-internal.log)\n",
      "wandb: ERROR Dropped streaming file chunk (see wandb/debug-internal.log)\n",
      "wandb: ERROR Dropped streaming file chunk (see wandb/debug-internal.log)\n",
      "wandb: ERROR Dropped streaming file chunk (see wandb/debug-internal.log)\n",
      "wandb: ERROR Dropped streaming file chunk (see wandb/debug-internal.log)\n",
      "wandb: ERROR Dropped streaming file chunk (see wandb/debug-internal.log)\n",
      "wandb: ERROR Dropped streaming file chunk (see wandb/debug-internal.log)\n",
      "wandb: ERROR Dropped streaming file chunk (see wandb/debug-internal.log)\n",
      "wandb: ERROR Dropped streaming file chunk (see wandb/debug-internal.log)\n",
      "wandb: ERROR Dropped streaming file chunk (see wandb/debug-internal.log)\n",
      "wandb: ERROR Dropped streaming file chunk (see wandb/debug-internal.log)\n",
      "wandb: ERROR Dropped streaming file chunk (see wandb/debug-internal.log)\n"
     ]
    }
   ],
   "source": [
    "for run in runs:\n",
    "    transforms = run.config.get(\"transforms\", {})\n",
    "    if transforms:\n",
    "        try:\n",
    "            transforms = {key: val for d in transforms for key, val in flatten(d).items() if key != \"name\" and key != \"otf\"}\n",
    "            run.config[\"transforms\"] = None\n",
    "            run.config.update(transforms)\n",
    "            run.update()\n",
    "        except BaseException:\n",
    "            pass"
   ]
  },
  {
   "cell_type": "code",
   "execution_count": 46,
   "metadata": {},
   "outputs": [],
   "source": [
    "sample = api.run(\"fung-lab/cgcnn_vn/1cfn416m\")\n",
    "transforms = sample.config.get(\"transforms\", {})\n",
    "transforms = {key: val for d in transforms for key, val in flatten(d).items() if key != \"name\" and key != \"otf\"}"
   ]
  },
  {
   "cell_type": "code",
   "execution_count": 47,
   "metadata": {},
   "outputs": [
    {
     "data": {
      "text/plain": [
       "{'index': 5, 'attrs': ['rr', 'rv'], 'rr_cutoff': 5, 'rv_cutoff': 5, 'virtual_box_increment': 3}"
      ]
     },
     "execution_count": 47,
     "metadata": {},
     "output_type": "execute_result"
    }
   ],
   "source": [
    "transforms"
   ]
  },
  {
   "cell_type": "code",
   "execution_count": 41,
   "metadata": {},
   "outputs": [
    {
     "data": {
      "text/plain": [
       "'{\"dim1\": {\"value\": 100, \"desc\": null}, \"dim2\": {\"value\": 150, \"desc\": null}, \"pool\": {\"value\": \"global_mean_pool\", \"desc\": null}, \"act_fn\": {\"value\": \"relu\", \"desc\": null}, \"act_nn\": {\"value\": \"ReLU\", \"desc\": null}, \"gc_count\": {\"value\": 4, \"desc\": null}, \"metadata\": {\"value\": {\"cluster\": \"fung-cluster\", \"dataset\": \"hMOF-5K\", \"architecture\": \"CGCNN_VN\"}, \"desc\": null}, \"self_loop\": {\"value\": true, \"desc\": null}, \"batch_norm\": {\"value\": true, \"desc\": null}, \"edge_steps\": {\"value\": 50, \"desc\": null}, \"mp_pattern\": {\"value\": [[\"rr\", \"rv\"], [\"rr\", \"rv\"], [\"rr\", \"rv\"], [\"rr\", \"rv\"]], \"desc\": null}, \"pool_order\": {\"value\": \"early\", \"desc\": null}, \"transforms\": {\"value\": [{\"otf\": false, \"args\": {\"index\": 5}, \"name\": \"GetY\"}, {\"otf\": false, \"args\": {\"attrs\": [\"rr\", \"rv\"], \"rr_cutoff\": 5, \"rv_cutoff\": 5, \"virtual_box_increment\": 3}, \"name\": \"VirtualNodes\"}], \"desc\": null}, \"pool_choice\": {\"value\": \"virtual\", \"desc\": null}, \"dropout_rate\": {\"value\": 0, \"desc\": null}, \"pre_fc_count\": {\"value\": 1, \"desc\": null}, \"virtual_pool\": {\"value\": \"AtomicNumberPooling\", \"desc\": null}, \"post_fc_count\": {\"value\": 3, \"desc\": null}, \"batch_track_stats\": {\"value\": true, \"desc\": null}, \"atomic_intermediate_layer_resolution\": {\"value\": 0, \"desc\": null}}'"
      ]
     },
     "execution_count": 41,
     "metadata": {},
     "output_type": "execute_result"
    }
   ],
   "source": [
    "sample.json_config\n"
   ]
  },
  {
   "cell_type": "code",
   "execution_count": 20,
   "metadata": {},
   "outputs": [
    {
     "ename": "CommError",
     "evalue": "Could not find run <Run %3Centity%3E/%3Cproject%3E/%3Crun_id%3E (not found)>",
     "output_type": "error",
     "traceback": [
      "\u001b[0;31m---------------------------------------------------------------------------\u001b[0m",
      "\u001b[0;31mValueError\u001b[0m                                Traceback (most recent call last)",
      "File \u001b[0;32m~/miniconda3/envs/matdeeplearn/lib/python3.9/site-packages/wandb/apis/normalize.py:26\u001b[0m, in \u001b[0;36mnormalize_exceptions.<locals>.wrapper\u001b[0;34m(*args, **kwargs)\u001b[0m\n\u001b[1;32m     25\u001b[0m \u001b[39mtry\u001b[39;00m:\n\u001b[0;32m---> 26\u001b[0m     \u001b[39mreturn\u001b[39;00m func(\u001b[39m*\u001b[39;49margs, \u001b[39m*\u001b[39;49m\u001b[39m*\u001b[39;49mkwargs)\n\u001b[1;32m     27\u001b[0m \u001b[39mexcept\u001b[39;00m requests\u001b[39m.\u001b[39mHTTPError \u001b[39mas\u001b[39;00m err:\n",
      "File \u001b[0;32m~/miniconda3/envs/matdeeplearn/lib/python3.9/site-packages/wandb/apis/public.py:872\u001b[0m, in \u001b[0;36mApi.run\u001b[0;34m(self, path)\u001b[0m\n\u001b[1;32m    871\u001b[0m \u001b[39mif\u001b[39;00m \u001b[39mnot\u001b[39;00m \u001b[39mself\u001b[39m\u001b[39m.\u001b[39m_runs\u001b[39m.\u001b[39mget(path):\n\u001b[0;32m--> 872\u001b[0m     \u001b[39mself\u001b[39m\u001b[39m.\u001b[39m_runs[path] \u001b[39m=\u001b[39m Run(\u001b[39mself\u001b[39;49m\u001b[39m.\u001b[39;49mclient, entity, project, run_id)\n\u001b[1;32m    873\u001b[0m \u001b[39mreturn\u001b[39;00m \u001b[39mself\u001b[39m\u001b[39m.\u001b[39m_runs[path]\n",
      "File \u001b[0;32m~/miniconda3/envs/matdeeplearn/lib/python3.9/site-packages/wandb/apis/public.py:1712\u001b[0m, in \u001b[0;36mRun.__init__\u001b[0;34m(self, client, entity, project, run_id, attrs, include_sweeps)\u001b[0m\n\u001b[1;32m   1710\u001b[0m \u001b[39mself\u001b[39m\u001b[39m.\u001b[39m_state \u001b[39m=\u001b[39m _attrs\u001b[39m.\u001b[39mget(\u001b[39m\"\u001b[39m\u001b[39mstate\u001b[39m\u001b[39m\"\u001b[39m, \u001b[39m\"\u001b[39m\u001b[39mnot found\u001b[39m\u001b[39m\"\u001b[39m)\n\u001b[0;32m-> 1712\u001b[0m \u001b[39mself\u001b[39;49m\u001b[39m.\u001b[39;49mload(force\u001b[39m=\u001b[39;49m\u001b[39mnot\u001b[39;49;00m _attrs)\n",
      "File \u001b[0;32m~/miniconda3/envs/matdeeplearn/lib/python3.9/site-packages/wandb/apis/public.py:1816\u001b[0m, in \u001b[0;36mRun.load\u001b[0;34m(self, force)\u001b[0m\n\u001b[1;32m   1811\u001b[0m \u001b[39mif\u001b[39;00m (\n\u001b[1;32m   1812\u001b[0m     response \u001b[39mis\u001b[39;00m \u001b[39mNone\u001b[39;00m\n\u001b[1;32m   1813\u001b[0m     \u001b[39mor\u001b[39;00m response\u001b[39m.\u001b[39mget(\u001b[39m\"\u001b[39m\u001b[39mproject\u001b[39m\u001b[39m\"\u001b[39m) \u001b[39mis\u001b[39;00m \u001b[39mNone\u001b[39;00m\n\u001b[1;32m   1814\u001b[0m     \u001b[39mor\u001b[39;00m response[\u001b[39m\"\u001b[39m\u001b[39mproject\u001b[39m\u001b[39m\"\u001b[39m]\u001b[39m.\u001b[39mget(\u001b[39m\"\u001b[39m\u001b[39mrun\u001b[39m\u001b[39m\"\u001b[39m) \u001b[39mis\u001b[39;00m \u001b[39mNone\u001b[39;00m\n\u001b[1;32m   1815\u001b[0m ):\n\u001b[0;32m-> 1816\u001b[0m     \u001b[39mraise\u001b[39;00m \u001b[39mValueError\u001b[39;00m(\u001b[39m\"\u001b[39m\u001b[39mCould not find run \u001b[39m\u001b[39m%s\u001b[39;00m\u001b[39m\"\u001b[39m \u001b[39m%\u001b[39m \u001b[39mself\u001b[39m)\n\u001b[1;32m   1817\u001b[0m \u001b[39mself\u001b[39m\u001b[39m.\u001b[39m_attrs \u001b[39m=\u001b[39m response[\u001b[39m\"\u001b[39m\u001b[39mproject\u001b[39m\u001b[39m\"\u001b[39m][\u001b[39m\"\u001b[39m\u001b[39mrun\u001b[39m\u001b[39m\"\u001b[39m]\n",
      "\u001b[0;31mValueError\u001b[0m: Could not find run <Run %3Centity%3E/%3Cproject%3E/%3Crun_id%3E (not found)>",
      "\nDuring handling of the above exception, another exception occurred:\n",
      "\u001b[0;31mCommError\u001b[0m                                 Traceback (most recent call last)",
      "Cell \u001b[0;32mIn[20], line 1\u001b[0m\n\u001b[0;32m----> 1\u001b[0m run \u001b[39m=\u001b[39m api\u001b[39m.\u001b[39;49mrun(\u001b[39m\"\u001b[39;49m\u001b[39m<entity>/<project>/<run_id>\u001b[39;49m\u001b[39m\"\u001b[39;49m)\n\u001b[1;32m      2\u001b[0m run\u001b[39m.\u001b[39mconfig[\u001b[39m\"\u001b[39m\u001b[39mkey\u001b[39m\u001b[39m\"\u001b[39m] \u001b[39m=\u001b[39m updated_value\n\u001b[1;32m      3\u001b[0m run\u001b[39m.\u001b[39mupdate()\n",
      "File \u001b[0;32m~/miniconda3/envs/matdeeplearn/lib/python3.9/site-packages/wandb/apis/normalize.py:64\u001b[0m, in \u001b[0;36mnormalize_exceptions.<locals>.wrapper\u001b[0;34m(*args, **kwargs)\u001b[0m\n\u001b[1;32m     62\u001b[0m     \u001b[39mraise\u001b[39;00m\n\u001b[1;32m     63\u001b[0m \u001b[39melse\u001b[39;00m:\n\u001b[0;32m---> 64\u001b[0m     \u001b[39mraise\u001b[39;00m CommError(message, err)\u001b[39m.\u001b[39mwith_traceback(sys\u001b[39m.\u001b[39mexc_info()[\u001b[39m2\u001b[39m])\n",
      "File \u001b[0;32m~/miniconda3/envs/matdeeplearn/lib/python3.9/site-packages/wandb/apis/normalize.py:26\u001b[0m, in \u001b[0;36mnormalize_exceptions.<locals>.wrapper\u001b[0;34m(*args, **kwargs)\u001b[0m\n\u001b[1;32m     24\u001b[0m message \u001b[39m=\u001b[39m \u001b[39m\"\u001b[39m\u001b[39mWhoa, you found a bug.\u001b[39m\u001b[39m\"\u001b[39m\n\u001b[1;32m     25\u001b[0m \u001b[39mtry\u001b[39;00m:\n\u001b[0;32m---> 26\u001b[0m     \u001b[39mreturn\u001b[39;00m func(\u001b[39m*\u001b[39;49margs, \u001b[39m*\u001b[39;49m\u001b[39m*\u001b[39;49mkwargs)\n\u001b[1;32m     27\u001b[0m \u001b[39mexcept\u001b[39;00m requests\u001b[39m.\u001b[39mHTTPError \u001b[39mas\u001b[39;00m err:\n\u001b[1;32m     28\u001b[0m     \u001b[39mraise\u001b[39;00m CommError(err\u001b[39m.\u001b[39mresponse, err)\n",
      "File \u001b[0;32m~/miniconda3/envs/matdeeplearn/lib/python3.9/site-packages/wandb/apis/public.py:872\u001b[0m, in \u001b[0;36mApi.run\u001b[0;34m(self, path)\u001b[0m\n\u001b[1;32m    870\u001b[0m entity, project, run_id \u001b[39m=\u001b[39m \u001b[39mself\u001b[39m\u001b[39m.\u001b[39m_parse_path(path)\n\u001b[1;32m    871\u001b[0m \u001b[39mif\u001b[39;00m \u001b[39mnot\u001b[39;00m \u001b[39mself\u001b[39m\u001b[39m.\u001b[39m_runs\u001b[39m.\u001b[39mget(path):\n\u001b[0;32m--> 872\u001b[0m     \u001b[39mself\u001b[39m\u001b[39m.\u001b[39m_runs[path] \u001b[39m=\u001b[39m Run(\u001b[39mself\u001b[39;49m\u001b[39m.\u001b[39;49mclient, entity, project, run_id)\n\u001b[1;32m    873\u001b[0m \u001b[39mreturn\u001b[39;00m \u001b[39mself\u001b[39m\u001b[39m.\u001b[39m_runs[path]\n",
      "File \u001b[0;32m~/miniconda3/envs/matdeeplearn/lib/python3.9/site-packages/wandb/apis/public.py:1712\u001b[0m, in \u001b[0;36mRun.__init__\u001b[0;34m(self, client, entity, project, run_id, attrs, include_sweeps)\u001b[0m\n\u001b[1;32m   1709\u001b[0m \u001b[39mself\u001b[39m\u001b[39m.\u001b[39m_summary \u001b[39m=\u001b[39m \u001b[39mNone\u001b[39;00m\n\u001b[1;32m   1710\u001b[0m \u001b[39mself\u001b[39m\u001b[39m.\u001b[39m_state \u001b[39m=\u001b[39m _attrs\u001b[39m.\u001b[39mget(\u001b[39m\"\u001b[39m\u001b[39mstate\u001b[39m\u001b[39m\"\u001b[39m, \u001b[39m\"\u001b[39m\u001b[39mnot found\u001b[39m\u001b[39m\"\u001b[39m)\n\u001b[0;32m-> 1712\u001b[0m \u001b[39mself\u001b[39;49m\u001b[39m.\u001b[39;49mload(force\u001b[39m=\u001b[39;49m\u001b[39mnot\u001b[39;49;00m _attrs)\n",
      "File \u001b[0;32m~/miniconda3/envs/matdeeplearn/lib/python3.9/site-packages/wandb/apis/public.py:1816\u001b[0m, in \u001b[0;36mRun.load\u001b[0;34m(self, force)\u001b[0m\n\u001b[1;32m   1810\u001b[0m response \u001b[39m=\u001b[39m \u001b[39mself\u001b[39m\u001b[39m.\u001b[39m_exec(query)\n\u001b[1;32m   1811\u001b[0m \u001b[39mif\u001b[39;00m (\n\u001b[1;32m   1812\u001b[0m     response \u001b[39mis\u001b[39;00m \u001b[39mNone\u001b[39;00m\n\u001b[1;32m   1813\u001b[0m     \u001b[39mor\u001b[39;00m response\u001b[39m.\u001b[39mget(\u001b[39m\"\u001b[39m\u001b[39mproject\u001b[39m\u001b[39m\"\u001b[39m) \u001b[39mis\u001b[39;00m \u001b[39mNone\u001b[39;00m\n\u001b[1;32m   1814\u001b[0m     \u001b[39mor\u001b[39;00m response[\u001b[39m\"\u001b[39m\u001b[39mproject\u001b[39m\u001b[39m\"\u001b[39m]\u001b[39m.\u001b[39mget(\u001b[39m\"\u001b[39m\u001b[39mrun\u001b[39m\u001b[39m\"\u001b[39m) \u001b[39mis\u001b[39;00m \u001b[39mNone\u001b[39;00m\n\u001b[1;32m   1815\u001b[0m ):\n\u001b[0;32m-> 1816\u001b[0m     \u001b[39mraise\u001b[39;00m \u001b[39mValueError\u001b[39;00m(\u001b[39m\"\u001b[39m\u001b[39mCould not find run \u001b[39m\u001b[39m%s\u001b[39;00m\u001b[39m\"\u001b[39m \u001b[39m%\u001b[39m \u001b[39mself\u001b[39m)\n\u001b[1;32m   1817\u001b[0m \u001b[39mself\u001b[39m\u001b[39m.\u001b[39m_attrs \u001b[39m=\u001b[39m response[\u001b[39m\"\u001b[39m\u001b[39mproject\u001b[39m\u001b[39m\"\u001b[39m][\u001b[39m\"\u001b[39m\u001b[39mrun\u001b[39m\u001b[39m\"\u001b[39m]\n\u001b[1;32m   1818\u001b[0m \u001b[39mself\u001b[39m\u001b[39m.\u001b[39m_state \u001b[39m=\u001b[39m \u001b[39mself\u001b[39m\u001b[39m.\u001b[39m_attrs[\u001b[39m\"\u001b[39m\u001b[39mstate\u001b[39m\u001b[39m\"\u001b[39m]\n",
      "\u001b[0;31mCommError\u001b[0m: Could not find run <Run %3Centity%3E/%3Cproject%3E/%3Crun_id%3E (not found)>"
     ]
    }
   ],
   "source": [
    "run = api.run(\"<entity>/<project>/<run_id>\")\n",
    "run.config[\"key\"] = updated_value\n",
    "run.update()\n"
   ]
  },
  {
   "cell_type": "code",
   "execution_count": 2,
   "metadata": {},
   "outputs": [],
   "source": [
    "import pathlib"
   ]
  },
  {
   "cell_type": "code",
   "execution_count": 4,
   "metadata": {},
   "outputs": [],
   "source": [
    "results_path = \"/nethome/sbaskaran31/projects/Sidharth/MatDeepLearn_dev/scripts/results\""
   ]
  },
  {
   "cell_type": "code",
   "execution_count": 10,
   "metadata": {},
   "outputs": [
    {
     "data": {
      "text/plain": [
       "[<bound method Path.absolute of PosixPath('/nethome/sbaskaran31/projects/Sidharth/MatDeepLearn_dev/scripts/results/torchmd_net_vn-all-neighbor-OCP-2023-03-12-16-01-04')>,\n",
       " <bound method Path.absolute of PosixPath('/nethome/sbaskaran31/projects/Sidharth/MatDeepLearn_dev/scripts/results/cgcnn_vn-all-neighbor-OCP-2023-03-31-22-10-08')>,\n",
       " <bound method Path.absolute of PosixPath('/nethome/sbaskaran31/projects/Sidharth/MatDeepLearn_dev/scripts/results/cgcnn_vn_hg-2023-04-02-23-33-20')>,\n",
       " <bound method Path.absolute of PosixPath('/nethome/sbaskaran31/projects/Sidharth/MatDeepLearn_dev/scripts/results/cgcnn_novn-all-neighbor-OCP-2023-04-03-19-34-24')>,\n",
       " <bound method Path.absolute of PosixPath('/nethome/sbaskaran31/projects/Sidharth/MatDeepLearn_dev/scripts/results/cgcnn_vn-50-neighbor-MDL-2023-03-07-23-41-36')>,\n",
       " <bound method Path.absolute of PosixPath('/nethome/sbaskaran31/projects/Sidharth/MatDeepLearn_dev/scripts/results/cgcnn_vn-all-neighbor-OCP-2023-03-27-15-14-08')>,\n",
       " <bound method Path.absolute of PosixPath('/nethome/sbaskaran31/projects/Sidharth/MatDeepLearn_dev/scripts/results/cgcnn_vn-all-neighbor-OCP-2023-03-22-23-18-24')>,\n",
       " <bound method Path.absolute of PosixPath('/nethome/sbaskaran31/projects/Sidharth/MatDeepLearn_dev/scripts/results/cgcnn_vn-all-neighbor-OCP-2023-03-27-16-33-04')>,\n",
       " <bound method Path.absolute of PosixPath('/nethome/sbaskaran31/projects/Sidharth/MatDeepLearn_dev/scripts/results/cgcnn_vn_hg-2023-03-30-20-51-12')>,\n",
       " <bound method Path.absolute of PosixPath('/nethome/sbaskaran31/projects/Sidharth/MatDeepLearn_dev/scripts/results/cgcnn_vn-all-neighbor-OCP-2023-03-15-00-35-12')>,\n",
       " <bound method Path.absolute of PosixPath('/nethome/sbaskaran31/projects/Sidharth/MatDeepLearn_dev/scripts/results/torchmd_net_vn-all-neighbor-OCP-2023-03-13-10-32-32')>,\n",
       " <bound method Path.absolute of PosixPath('/nethome/sbaskaran31/projects/Sidharth/MatDeepLearn_dev/scripts/results/cgcnn_vn-all-neighbor-OCP-2023-03-31-21-53-04')>,\n",
       " <bound method Path.absolute of PosixPath('/nethome/sbaskaran31/projects/Sidharth/MatDeepLearn_dev/scripts/results/torchmd_net_vn-all-neighbor-OCP-2023-03-14-17-11-28')>,\n",
       " <bound method Path.absolute of PosixPath('/nethome/sbaskaran31/projects/Sidharth/MatDeepLearn_dev/scripts/results/cgcnn_vn-novn-OCP-2023-03-10-01-34-40')>,\n",
       " <bound method Path.absolute of PosixPath('/nethome/sbaskaran31/projects/Sidharth/MatDeepLearn_dev/scripts/results/cgcnn_vn-without-vn-2023-02-23-19-38-24')>,\n",
       " <bound method Path.absolute of PosixPath('/nethome/sbaskaran31/projects/Sidharth/MatDeepLearn_dev/scripts/results/torchmd_net_vn-all-neighbor-OCP-2023-03-12-15-29-04')>,\n",
       " <bound method Path.absolute of PosixPath('/nethome/sbaskaran31/projects/Sidharth/MatDeepLearn_dev/scripts/results/2023-02-16-18-21-36-my_train_job')>,\n",
       " <bound method Path.absolute of PosixPath('/nethome/sbaskaran31/projects/Sidharth/MatDeepLearn_dev/scripts/results/torchmd_net_vn-all-neighbor-OCP-2023-03-13-11-53-36')>,\n",
       " <bound method Path.absolute of PosixPath('/nethome/sbaskaran31/projects/Sidharth/MatDeepLearn_dev/scripts/results/torchmd_net_vn-all-neighbor-OCP-2023-03-18-19-25-52')>,\n",
       " <bound method Path.absolute of PosixPath('/nethome/sbaskaran31/projects/Sidharth/MatDeepLearn_dev/scripts/results/cgcnn_vn-novn-MDL-2023-03-13-15-58-56')>,\n",
       " <bound method Path.absolute of PosixPath('/nethome/sbaskaran31/projects/Sidharth/MatDeepLearn_dev/scripts/results/cgcnn_vn-all-neighbor-OCP-2023-04-02-12-27-44')>,\n",
       " <bound method Path.absolute of PosixPath('/nethome/sbaskaran31/projects/Sidharth/MatDeepLearn_dev/scripts/results/cgcnn_vn-all-neighbor-OCP-2023-03-31-22-08-00')>,\n",
       " <bound method Path.absolute of PosixPath('/nethome/sbaskaran31/projects/Sidharth/MatDeepLearn_dev/scripts/results/cgcnn_vn-without-vn-2023-03-03-15-43-44')>,\n",
       " <bound method Path.absolute of PosixPath('/nethome/sbaskaran31/projects/Sidharth/MatDeepLearn_dev/scripts/results/cgcnn_vn-all-neighbor-OCP-2023-04-02-23-41-52')>,\n",
       " <bound method Path.absolute of PosixPath('/nethome/sbaskaran31/projects/Sidharth/MatDeepLearn_dev/scripts/results/cgcnn_vn-50-neighbor-mdl-2023-03-15-17-39-12')>,\n",
       " <bound method Path.absolute of PosixPath('/nethome/sbaskaran31/projects/Sidharth/MatDeepLearn_dev/scripts/results/cgcnn_vn-50-neighbor-MDL-2023-03-05-12-06-08')>,\n",
       " <bound method Path.absolute of PosixPath('/nethome/sbaskaran31/projects/Sidharth/MatDeepLearn_dev/scripts/results/cgcnn_vn-baseline-2023-02-18-22-41-52')>,\n",
       " <bound method Path.absolute of PosixPath('/nethome/sbaskaran31/projects/Sidharth/MatDeepLearn_dev/scripts/results/cgcnn_vn-all-neighbor-OCP-2023-03-13-11-02-24')>,\n",
       " <bound method Path.absolute of PosixPath('/nethome/sbaskaran31/projects/Sidharth/MatDeepLearn_dev/scripts/results/cgcnn_vn-all-neighbor-OCP-2023-04-02-12-36-16')>,\n",
       " <bound method Path.absolute of PosixPath('/nethome/sbaskaran31/projects/Sidharth/MatDeepLearn_dev/scripts/results/cgcnn_vn-all-neighbor-OCP-2023-04-02-23-39-44')>,\n",
       " <bound method Path.absolute of PosixPath('/nethome/sbaskaran31/projects/Sidharth/MatDeepLearn_dev/scripts/results/torchmd_net_vn-all-neighbor-OCP-2023-03-12-15-18-24')>,\n",
       " <bound method Path.absolute of PosixPath('/nethome/sbaskaran31/projects/Sidharth/MatDeepLearn_dev/scripts/results/cgcnn_vn-without-vn-2023-03-04-18-34-24')>,\n",
       " <bound method Path.absolute of PosixPath('/nethome/sbaskaran31/projects/Sidharth/MatDeepLearn_dev/scripts/results/cgcnn_vn-all-neighbor-OCP-2023-03-30-14-10-08')>,\n",
       " <bound method Path.absolute of PosixPath('/nethome/sbaskaran31/projects/Sidharth/MatDeepLearn_dev/scripts/results/cgcnn_vn-all-neighbor-OCP-2023-04-02-20-23-28')>,\n",
       " <bound method Path.absolute of PosixPath('/nethome/sbaskaran31/projects/Sidharth/MatDeepLearn_dev/scripts/results/torchmd_net_vn-all-neighbor-OCP-2023-03-17-13-16-48')>,\n",
       " <bound method Path.absolute of PosixPath('/nethome/sbaskaran31/projects/Sidharth/MatDeepLearn_dev/scripts/results/cgcnn_vn-50-neighbor-mdl-2023-03-27-13-36-00')>,\n",
       " <bound method Path.absolute of PosixPath('/nethome/sbaskaran31/projects/Sidharth/MatDeepLearn_dev/scripts/results/cgcnn_vn_hg-2023-04-02-20-36-16')>,\n",
       " <bound method Path.absolute of PosixPath('/nethome/sbaskaran31/projects/Sidharth/MatDeepLearn_dev/scripts/results/cgcnn_vn-all-neighbor-OCP-2023-03-27-13-55-12')>,\n",
       " <bound method Path.absolute of PosixPath('/nethome/sbaskaran31/projects/Sidharth/MatDeepLearn_dev/scripts/results/cgcnn_vn-novn-OCP-2023-03-21-12-21-20')>,\n",
       " <bound method Path.absolute of PosixPath('/nethome/sbaskaran31/projects/Sidharth/MatDeepLearn_dev/scripts/results/cgcnn_vn-novn-OCP-2023-03-13-16-26-40')>,\n",
       " <bound method Path.absolute of PosixPath('/nethome/sbaskaran31/projects/Sidharth/MatDeepLearn_dev/scripts/results/torchmd_net_vn-all-neighbor-OCP-2023-03-24-12-19-12')>,\n",
       " <bound method Path.absolute of PosixPath('/nethome/sbaskaran31/projects/Sidharth/MatDeepLearn_dev/scripts/results/cgcnn_vn-50-neighbor-MDL-2023-03-07-20-46-40')>,\n",
       " <bound method Path.absolute of PosixPath('/nethome/sbaskaran31/projects/Sidharth/MatDeepLearn_dev/scripts/results/cgcnn_vn-novn-MDL-2023-03-14-19-49-20')>,\n",
       " <bound method Path.absolute of PosixPath('/nethome/sbaskaran31/projects/Sidharth/MatDeepLearn_dev/scripts/results/cgcnn_vn-all-neighbor-OCP-2023-03-27-15-31-12')>,\n",
       " <bound method Path.absolute of PosixPath('/nethome/sbaskaran31/projects/Sidharth/MatDeepLearn_dev/scripts/results/cgcnn_vn-baseline-2023-02-18-23-18-08')>,\n",
       " <bound method Path.absolute of PosixPath('/nethome/sbaskaran31/projects/Sidharth/MatDeepLearn_dev/scripts/results/cgcnn_vn-50-neighbor-mdl-2023-03-12-16-43-44')>,\n",
       " <bound method Path.absolute of PosixPath('/nethome/sbaskaran31/projects/Sidharth/MatDeepLearn_dev/scripts/results/cgcnn_vn-all-neighbor-OCP-2023-03-30-17-54-08')>,\n",
       " <bound method Path.absolute of PosixPath('/nethome/sbaskaran31/projects/Sidharth/MatDeepLearn_dev/scripts/results/cgcnn_vn-all-neighbor-OCP-2023-03-30-13-10-24')>,\n",
       " <bound method Path.absolute of PosixPath('/nethome/sbaskaran31/projects/Sidharth/MatDeepLearn_dev/scripts/results/cgcnn_vn-novn-OCP-2023-03-14-23-18-24')>,\n",
       " <bound method Path.absolute of PosixPath('/nethome/sbaskaran31/projects/Sidharth/MatDeepLearn_dev/scripts/results/torchmd_net_vn-all-neighbor-OCP-2023-03-13-10-06-56')>,\n",
       " <bound method Path.absolute of PosixPath('/nethome/sbaskaran31/projects/Sidharth/MatDeepLearn_dev/scripts/results/cgcnn_vn-without-vn-2023-03-04-18-57-52')>,\n",
       " <bound method Path.absolute of PosixPath('/nethome/sbaskaran31/projects/Sidharth/MatDeepLearn_dev/scripts/results/torchmd_net_vn-all-neighbor-OCP-2023-03-22-20-40-32')>,\n",
       " <bound method Path.absolute of PosixPath('/nethome/sbaskaran31/projects/Sidharth/MatDeepLearn_dev/scripts/results/cgcnn_vn-50-neighbor-mdl-2023-03-13-11-02-24')>,\n",
       " <bound method Path.absolute of PosixPath('/nethome/sbaskaran31/projects/Sidharth/MatDeepLearn_dev/scripts/results/torchmd_net_vn-all-neighbor-OCP-2023-03-12-17-45-36')>,\n",
       " <bound method Path.absolute of PosixPath('/nethome/sbaskaran31/projects/Sidharth/MatDeepLearn_dev/scripts/results/cgcnn_vn-novn-MDL-2023-03-10-00-00-48')>,\n",
       " <bound method Path.absolute of PosixPath('/nethome/sbaskaran31/projects/Sidharth/MatDeepLearn_dev/scripts/results/cgcnn_vn-all-neighbor-OCP-2023-03-12-16-41-36')>,\n",
       " <bound method Path.absolute of PosixPath('/nethome/sbaskaran31/projects/Sidharth/MatDeepLearn_dev/scripts/results/cgcnn_vn-all-neighbor-OCP-2023-03-30-06-03-44')>,\n",
       " <bound method Path.absolute of PosixPath('/nethome/sbaskaran31/projects/Sidharth/MatDeepLearn_dev/scripts/results/cgcnn_vn-novn-OCP-2023-03-07-23-30-56')>,\n",
       " <bound method Path.absolute of PosixPath('/nethome/sbaskaran31/projects/Sidharth/MatDeepLearn_dev/scripts/results/cgcnn_vn-50-neighbor-mdl-2023-03-27-12-53-20')>,\n",
       " <bound method Path.absolute of PosixPath('/nethome/sbaskaran31/projects/Sidharth/MatDeepLearn_dev/scripts/results/cgcnn_vn-without-vn-2023-02-19-22-39-44')>,\n",
       " <bound method Path.absolute of PosixPath('/nethome/sbaskaran31/projects/Sidharth/MatDeepLearn_dev/scripts/results/cgcnn_vn-all-neighbor-OCP-2023-04-02-12-38-24')>,\n",
       " <bound method Path.absolute of PosixPath('/nethome/sbaskaran31/projects/Sidharth/MatDeepLearn_dev/scripts/results/cgcnn_vn-50-neighbor-mdl-2023-04-02-17-20-00')>,\n",
       " <bound method Path.absolute of PosixPath('/nethome/sbaskaran31/projects/Sidharth/MatDeepLearn_dev/scripts/results/cgcnn_vn-without-vn-2023-03-04-22-56-48')>,\n",
       " <bound method Path.absolute of PosixPath('/nethome/sbaskaran31/projects/Sidharth/MatDeepLearn_dev/scripts/results/torchmd_net_vn-all-neighbor-OCP-2023-03-22-21-27-28')>,\n",
       " <bound method Path.absolute of PosixPath('/nethome/sbaskaran31/projects/Sidharth/MatDeepLearn_dev/scripts/results/cgcnn_vn-all-neighbor-OCP-2023-03-30-10-36-48')>,\n",
       " <bound method Path.absolute of PosixPath('/nethome/sbaskaran31/projects/Sidharth/MatDeepLearn_dev/scripts/results/cgcnn_vn-without-vn-2023-03-04-18-19-28')>,\n",
       " <bound method Path.absolute of PosixPath('/nethome/sbaskaran31/projects/Sidharth/MatDeepLearn_dev/scripts/results/torchmd_net_vn-all-neighbor-OCP-2023-03-22-18-11-12')>,\n",
       " <bound method Path.absolute of PosixPath('/nethome/sbaskaran31/projects/Sidharth/MatDeepLearn_dev/scripts/results/torchmd_net_vn-all-neighbor-OCP-2023-03-14-15-39-44')>,\n",
       " <bound method Path.absolute of PosixPath('/nethome/sbaskaran31/projects/Sidharth/MatDeepLearn_dev/scripts/results/cgcnn_vn-novn-MDL-2023-03-07-23-07-28')>,\n",
       " <bound method Path.absolute of PosixPath('/nethome/sbaskaran31/projects/Sidharth/MatDeepLearn_dev/scripts/results/torchmd_net_vn-all-neighbor-OCP-2023-04-03-00-20-16')>,\n",
       " <bound method Path.absolute of PosixPath('/nethome/sbaskaran31/projects/Sidharth/MatDeepLearn_dev/scripts/results/cgcnn_vn_hg-2023-03-30-22-12-16')>,\n",
       " <bound method Path.absolute of PosixPath('/nethome/sbaskaran31/projects/Sidharth/MatDeepLearn_dev/scripts/results/cgcnn_vn-without-vn-2023-02-23-17-04-48')>,\n",
       " <bound method Path.absolute of PosixPath('/nethome/sbaskaran31/projects/Sidharth/MatDeepLearn_dev/scripts/results/torchmd_net_vn-all-neighbor-OCP-2023-03-13-10-19-44')>,\n",
       " <bound method Path.absolute of PosixPath('/nethome/sbaskaran31/projects/Sidharth/MatDeepLearn_dev/scripts/results/torchmd_net_vn-all-neighbor-OCP-2023-03-22-18-24-00')>,\n",
       " <bound method Path.absolute of PosixPath('/nethome/sbaskaran31/projects/Sidharth/MatDeepLearn_dev/scripts/results/cgcnn_vn-50-neighbor-mdl-2023-03-15-00-35-12')>,\n",
       " <bound method Path.absolute of PosixPath('/nethome/sbaskaran31/projects/Sidharth/MatDeepLearn_dev/scripts/results/cgcnn_vn-50-neighbor-mdl-2023-04-02-19-08-48')>,\n",
       " <bound method Path.absolute of PosixPath('/nethome/sbaskaran31/projects/Sidharth/MatDeepLearn_dev/scripts/results/cgcnn_vn-all-neighbor-OCP-2023-03-15-12-49-04')>]"
      ]
     },
     "execution_count": 10,
     "metadata": {},
     "output_type": "execute_result"
    }
   ],
   "source": [
    "[path.absolute for path in pathlib.Path(results_path).glob(\"*/\")]"
   ]
  },
  {
   "cell_type": "code",
   "execution_count": 11,
   "metadata": {},
   "outputs": [],
   "source": [
    "runs = api.runs(\"fung-lab/cgcnn_vn\")"
   ]
  },
  {
   "cell_type": "code",
   "execution_count": 35,
   "metadata": {},
   "outputs": [
    {
     "data": {
      "text/html": [
       "Finishing last run (ID:yzkalxns) before initializing another..."
      ],
      "text/plain": [
       "<IPython.core.display.HTML object>"
      ]
     },
     "metadata": {},
     "output_type": "display_data"
    },
    {
     "data": {
      "text/html": [
       "Waiting for W&B process to finish... <strong style=\"color:green\">(success).</strong>"
      ],
      "text/plain": [
       "<IPython.core.display.HTML object>"
      ]
     },
     "metadata": {},
     "output_type": "display_data"
    },
    {
     "name": "stderr",
     "output_type": "stream",
     "text": [
      "wandb: ERROR Error while calling W&B API: run fung-lab/cgcnn_vn/yzkalxns was previously created and deleted; try a new run name (<Response [409]>)\n",
      "wandb: ERROR Error while calling W&B API: run fung-lab/cgcnn_vn/yzkalxns was previously created and deleted; try a new run name (<Response [409]>)\n",
      "wandb: ERROR Error while calling W&B API: run fung-lab/cgcnn_vn/yzkalxns was previously created and deleted; try a new run name (<Response [409]>)\n",
      "wandb: ERROR Error while calling W&B API: run fung-lab/cgcnn_vn/yzkalxns was previously created and deleted; try a new run name (<Response [409]>)\n",
      "wandb: ERROR Error while calling W&B API: run fung-lab/cgcnn_vn/yzkalxns was previously created and deleted; try a new run name (<Response [409]>)\n",
      "wandb: ERROR Dropped streaming file chunk (see wandb/debug-internal.log)\n",
      "wandb: ERROR Error while calling W&B API: run fung-lab/cgcnn_vn/yzkalxns was previously created and deleted; try a new run name (<Response [409]>)\n"
     ]
    }
   ],
   "source": [
    "wandb.init(project=\"cgcnn_vn\", name=\"tests\", entity=\"fung-lab\")"
   ]
  },
  {
   "cell_type": "code",
   "execution_count": 34,
   "metadata": {},
   "outputs": [
    {
     "name": "stdout",
     "output_type": "stream",
     "text": [
      "2023-04-03-19-34-24-cgcnn_novn-all-neighbor-OCP 2023-04-03-19-34-24-cgcnn_novn-all-neighbor-OCP\n",
      "('<Response [403]>',)\n",
      "2023-04-02-23-33-20-cgcnn_vn_hg 2023-04-02-23-33-20-cgcnn_vn_hg\n",
      "('<Response [403]>',)\n",
      "2023-04-02-20-36-16-cgcnn_vn_hg 2023-04-02-20-36-16-cgcnn_vn_hg\n",
      "('<Response [403]>',)\n",
      "2023-04-02-20-23-28-cgcnn_vn-all-neighbor-OCP 2023-04-02-20-23-28-cgcnn_vn-all-neighbor-OCP\n"
     ]
    },
    {
     "name": "stderr",
     "output_type": "stream",
     "text": [
      "wandb: ERROR Dropped streaming file chunk (see wandb/debug-internal.log)\n"
     ]
    },
    {
     "name": "stdout",
     "output_type": "stream",
     "text": [
      "('<Response [403]>',)\n",
      "2023-03-31-22-10-08-cgcnn_vn-all-neighbor-OCP 2023-03-31-22-10-08-cgcnn_vn-all-neighbor-OCP\n",
      "('<Response [403]>',)\n",
      "2023-03-31-22-08-00-cgcnn_vn-all-neighbor-OCP 2023-03-31-22-08-00-cgcnn_vn-all-neighbor-OCP\n",
      "('<Response [403]>',)\n",
      "2023-03-30-22-12-16-cgcnn_vn_hg 2023-03-30-22-12-16-cgcnn_vn_hg\n",
      "('<Response [403]>',)\n",
      "2023-03-27-13-36-00-cgcnn_vn-50-neighbor-mdl 2023-03-27-13-36-00-cgcnn_vn-50-neighbor-mdl\n",
      "('<Response [403]>',)\n"
     ]
    }
   ],
   "source": [
    "for run in runs:\n",
    "    for result in pathlib.Path(results_path).glob(\"*/\"):\n",
    "        if result.is_dir():\n",
    "            # transpose name to fix\n",
    "            timestamp_idx = result.name.index(\"2023\")\n",
    "            res_name = result.name[timestamp_idx:] + \"-\" + result.name[:timestamp_idx-1]\n",
    "            if run.name == res_name:\n",
    "                print(run.name, res_name)\n",
    "            if run.name == res_name:\n",
    "                try:\n",
    "                    run.upload_file((str) (result / \"train_predictions.csv\"))\n",
    "                    run.upload_file((str) (result / \"test_predictions.csv\"))\n",
    "                    run.upload_file((str) (result / \"val_predictions.csv\"))\n",
    "                except BaseException as b:\n",
    "                    print(b.args)\n"
   ]
  },
  {
   "cell_type": "code",
   "execution_count": null,
   "metadata": {},
   "outputs": [],
   "source": []
  }
 ],
 "metadata": {
  "kernelspec": {
   "display_name": "matdeeplearn",
   "language": "python",
   "name": "python3"
  },
  "language_info": {
   "codemirror_mode": {
    "name": "ipython",
    "version": 3
   },
   "file_extension": ".py",
   "mimetype": "text/x-python",
   "name": "python",
   "nbconvert_exporter": "python",
   "pygments_lexer": "ipython3",
   "version": "3.9.16"
  },
  "orig_nbformat": 4
 },
 "nbformat": 4,
 "nbformat_minor": 2
}
