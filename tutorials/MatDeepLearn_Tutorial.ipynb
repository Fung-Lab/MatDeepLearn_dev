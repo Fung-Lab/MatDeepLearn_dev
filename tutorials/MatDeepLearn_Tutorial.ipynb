{
 "cells": [
  {
   "cell_type": "markdown",
   "metadata": {
    "id": "8wHTK_7IjIEg"
   },
   "source": [
    "## **Installation**"
   ]
  },
  {
   "cell_type": "markdown",
   "metadata": {
    "collapsed": false
   },
   "source": [
    "Go to [Google Colab](https://colab.research.google.com/), and under the Github tab, search for [https://github.com/Fung-Lab/MatDeepLearn_dev/](https://github.com/Fung-Lab/MatDeepLearn_dev/). Open up the tutorial in a new tab and follow the steps below."
   ]
  },
  {
   "cell_type": "markdown",
   "metadata": {
    "id": "F8tZmlwFULDJ"
   },
   "source": [
    "### Runtime"
   ]
  },
  {
   "cell_type": "markdown",
   "metadata": {
    "id": "uhMUkc1GUQ47"
   },
   "source": [
    "For the purpose of the demo, we recommend you use GPU on Google Colab, although it is not required.\n",
    "\n",
    "Google Colab provides access to 1 GPU (Runtime -> Change runtime type -> select GPU)."
   ]
  },
  {
   "cell_type": "markdown",
   "metadata": {
    "id": "byczXMtRQ7nj"
   },
   "source": [
    "### MatDeepLearn Set-Up"
   ]
  },
  {
   "cell_type": "markdown",
   "metadata": {
    "id": "x61oTV8oRbAA"
   },
   "source": [
    "Install the required dependencies (ignore torchvision, torchtext, and torchaudio errors - these packages are not used)"
   ]
  },
  {
   "cell_type": "code",
   "execution_count": null,
   "metadata": {
    "id": "W260O-Twlmjw",
    "pycharm": {
     "is_executing": true
    }
   },
   "outputs": [],
   "source": [
    "!pip install torch==1.12.1+cu113 -f https://download.pytorch.org/whl/torch_stable.html \n",
    "!pip install ase==3.21.*\n",
    "!pip install torch-scatter torch-sparse torch-geometric -f https://data.pyg.org/whl/torch-1.12.0+cu113.html"
   ]
  },
  {
   "cell_type": "markdown",
   "metadata": {
    "id": "GC2zas3y3T6D"
   },
   "source": [
    "If you would like to verify that the packages were correctly installed, run this command:"
   ]
  },
  {
   "cell_type": "code",
   "execution_count": null,
   "metadata": {
    "id": "TUhglzPDK7Cl",
    "pycharm": {
     "is_executing": true
    }
   },
   "outputs": [],
   "source": [
    "!pip list -v"
   ]
  },
  {
   "cell_type": "markdown",
   "metadata": {
    "id": "diG5bHFXJ7ks"
   },
   "source": [
    "Verify PyTorch and CUDA are working"
   ]
  },
  {
   "cell_type": "code",
   "execution_count": null,
   "metadata": {
    "id": "2QU9TxvPJ_Qe",
    "pycharm": {
     "is_executing": true
    }
   },
   "outputs": [],
   "source": [
    "import torch\n",
    "torch.cuda.is_available()"
   ]
  },
  {
   "cell_type": "markdown",
   "metadata": {
    "id": "lfdcDD-xmT9g"
   },
   "source": [
    "Clone MatDeepLearn package"
   ]
  },
  {
   "cell_type": "code",
   "execution_count": null,
   "metadata": {
    "id": "-BTGUX8rJyWJ"
   },
   "outputs": [],
   "source": [
    "!git clone https://github.com/Fung-Lab/MatDeepLearn_dev\n",
    "%cd MatDeepLearn_dev"
   ]
  },
  {
   "cell_type": "markdown",
   "metadata": {
    "id": "slpMHtdomRyp"
   },
   "source": [
    "Install MatDeepLearn package in environment"
   ]
  },
  {
   "cell_type": "code",
   "execution_count": null,
   "metadata": {
    "id": "M_w-B43wmP8L",
    "pycharm": {
     "is_executing": true
    }
   },
   "outputs": [],
   "source": [
    "!pip install -e ."
   ]
  },
  {
   "cell_type": "markdown",
   "metadata": {
    "id": "G1Nji_7TAQp_"
   },
   "source": [
    "## **Training**"
   ]
  },
  {
   "cell_type": "markdown",
   "metadata": {
    "id": "c0IoRVFsmbmT"
   },
   "source": [
    "### Run model training with test data\n"
   ]
  },
  {
   "cell_type": "markdown",
   "metadata": {
    "id": "6LbI-0Fvy1ex"
   },
   "source": [
    "Modify the `dataset` configuration in configs/config.yml so that the dataset paths point to the sample data under the data directory.\n",
    "\n",
    "```\n",
    "  src: \"data/test_data/raw/\"\n",
    "  target_path: \"data/test_data/targets.csv\"\n",
    "  pt_path: \"data/test_data/processed/\"\n",
    "\n",
    "```\n",
    "\n",
    "If you would like to skip the data processing steps when training, then under `dataset`, modify:\n",
    "```\n",
    "processed: False \n",
    "```\n",
    "Because there already is a `data.pt` file under `data/test_data/processed`, this file will automatically be used during training.\n"
   ]
  },
  {
   "cell_type": "code",
   "execution_count": null,
   "metadata": {
    "id": "QZ1gMkhLmiFV",
    "pycharm": {
     "is_executing": true
    }
   },
   "outputs": [],
   "source": [
    "!python scripts/main.py --run_mode=train --config_path=configs/config.yml"
   ]
  },
  {
   "cell_type": "code",
   "execution_count": null,
   "metadata": {},
   "outputs": [],
   "source": [
    "nohup python main.py --run_mode=train --config_path=configs/config_distill.yml > output/cgcnn.log 2>&1 &"
   ]
  },
  {
   "cell_type": "code",
   "execution_count": null,
   "metadata": {},
   "outputs": [],
   "source": [
    "nohup python main.py --run_mode=train --config_path=configs/config_distill_torch_md.yml > output/torchmd_distill.log 2>&1 &"
   ]
  }
 ],
 "metadata": {
  "accelerator": "GPU",
  "colab": {
   "provenance": []
  },
  "gpuClass": "standard",
  "kernelspec": {
   "display_name": "Python 3",
   "name": "python3"
  },
  "language_info": {
   "name": "python"
  }
 },
 "nbformat": 4,
 "nbformat_minor": 0
}
