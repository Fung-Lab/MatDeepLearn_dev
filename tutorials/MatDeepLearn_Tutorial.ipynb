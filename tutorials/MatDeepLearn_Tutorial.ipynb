{
 "nbformat": 4,
 "nbformat_minor": 0,
 "metadata": {
  "colab": {
   "provenance": []
  },
  "kernelspec": {
   "name": "python3",
   "display_name": "Python 3"
  },
  "language_info": {
   "name": "python"
  },
  "accelerator": "GPU",
  "gpuClass": "standard"
 },
 "cells": [
  {
   "cell_type": "markdown",
   "source": [
    "## **Installation**"
   ],
   "metadata": {
    "id": "8wHTK_7IjIEg"
   }
  },
  {
   "cell_type": "markdown",
   "source": [
    "Go to [Google Colab](https://colab.research.google.com/), and under the Github tab, search for [https://github.com/Fung-Lab/MatDeepLearn_dev/](https://github.com/Fung-Lab/MatDeepLearn_dev/). Open up the tutorial in a new tab and follow the steps below."
   ],
   "metadata": {
    "collapsed": false
   }
  },
  {
   "cell_type": "markdown",
   "source": [
    "### Runtime"
   ],
   "metadata": {
    "id": "F8tZmlwFULDJ"
   }
  },
  {
   "cell_type": "markdown",
   "source": [
    "For the purpose of the demo, we recommend you use GPU on Google Colab, although it is not required.\n",
    "\n",
    "Google Colab provides access to 1 GPU (Runtime -> Change runtime type -> select GPU)."
   ],
   "metadata": {
    "id": "uhMUkc1GUQ47"
   }
  },
  {
   "cell_type": "markdown",
   "source": [
    "### MatDeepLearn Set-Up"
   ],
   "metadata": {
    "id": "byczXMtRQ7nj"
   }
  },
  {
   "cell_type": "markdown",
   "source": [
    "Install the required dependencies (ignore torchvision, torchtext, and torchaudio errors - these packages are not used)"
   ],
   "metadata": {
    "id": "x61oTV8oRbAA"
   }
  },
  {
   "cell_type": "code",
   "source": [
    "!pip install torch==1.12.1+cu113 -f https://download.pytorch.org/whl/torch_stable.html \n",
    "!pip install ase==3.21.*\n",
    "!pip install torch-scatter torch-sparse torch-geometric -f https://data.pyg.org/whl/torch-1.12.0+cu113.html"
   ],
   "metadata": {
    "id": "W260O-Twlmjw",
    "pycharm": {
     "is_executing": true
    }
   },
   "execution_count": null,
   "outputs": []
  },
  {
   "cell_type": "markdown",
   "source": [
    "If you would like to verify that the packages were correctly installed, run this command:"
   ],
   "metadata": {
    "id": "GC2zas3y3T6D"
   }
  },
  {
   "cell_type": "code",
   "source": [
    "!pip list -v"
   ],
   "metadata": {
    "id": "TUhglzPDK7Cl",
    "pycharm": {
     "is_executing": true
    }
   },
   "execution_count": null,
   "outputs": []
  },
  {
   "cell_type": "markdown",
   "source": [
    "Verify PyTorch and CUDA are working"
   ],
   "metadata": {
    "id": "diG5bHFXJ7ks"
   }
  },
  {
   "cell_type": "code",
   "source": [
    "import torch\n",
    "torch.cuda.is_available()"
   ],
   "metadata": {
    "id": "2QU9TxvPJ_Qe",
    "pycharm": {
     "is_executing": true
    }
   },
   "execution_count": null,
   "outputs": []
  },
  {
   "cell_type": "markdown",
   "source": [
    "Clone MatDeepLearn package"
   ],
   "metadata": {
    "id": "lfdcDD-xmT9g"
   }
  },
  {
   "cell_type": "code",
   "source": [
    "!git clone https://github.com/Fung-Lab/MatDeepLearn_dev\n",
    "%cd MatDeepLearn_dev"
   ],
   "metadata": {
    "id": "-BTGUX8rJyWJ"
   },
   "execution_count": null,
   "outputs": []
  },
  {
   "cell_type": "markdown",
   "source": [
    "Install MatDeepLearn package in environment"
   ],
   "metadata": {
    "id": "slpMHtdomRyp"
   }
  },
  {
   "cell_type": "code",
   "source": [
    "!pip install -e ."
   ],
   "metadata": {
    "id": "M_w-B43wmP8L",
    "pycharm": {
     "is_executing": true
    }
   },
   "execution_count": null,
   "outputs": []
  },
  {
   "cell_type": "markdown",
   "source": [
    "## **Training**"
   ],
   "metadata": {
    "id": "G1Nji_7TAQp_"
   }
  },
  {
   "cell_type": "markdown",
   "source": [
    "### Run model training with test data\n"
   ],
   "metadata": {
    "id": "c0IoRVFsmbmT"
   }
  },
  {
   "cell_type": "markdown",
   "source": [
    "Modify the `dataset` configuration in configs/config.yml so that the dataset paths point to the sample data under the data directory.\n",
    "\n",
    "```\n",
    "  src: \"data/test_data/raw/\"\n",
    "  target_path: \"data/test_data/targets.csv\"\n",
    "  pt_path: \"data/test_data/processed/\"\n",
    "\n",
    "```\n",
    "\n",
    "If you would like to skip the data processing steps when training, then under `dataset`, modify:\n",
    "```\n",
    "processed: False \n",
    "```\n",
    "Because there already is a `data.pt` file under `data/test_data/processed`, this file will automatically be used during training.\n"
   ],
   "metadata": {
    "id": "6LbI-0Fvy1ex"
   }
  },
  {
   "cell_type": "code",
   "source": [
    "!python scripts/main.py --run_mode=train --config_path=configs/config.yml"
   ],
   "metadata": {
    "id": "QZ1gMkhLmiFV",
    "pycharm": {
     "is_executing": true
    }
   },
   "execution_count": null,
   "outputs": []
  }
 ]
}
